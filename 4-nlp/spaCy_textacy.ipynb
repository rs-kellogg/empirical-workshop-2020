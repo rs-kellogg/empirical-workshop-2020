{
 "cells": [
  {
   "cell_type": "markdown",
   "metadata": {},
   "source": [
    "# Text analysis with spaCy and textacy"
   ]
  },
  {
   "cell_type": "markdown",
   "metadata": {},
   "source": [
    "## Install required packages and models"
   ]
  },
  {
   "cell_type": "code",
   "execution_count": 1,
   "metadata": {},
   "outputs": [
    {
     "name": "stdout",
     "output_type": "stream",
     "text": [
      "Requirement already satisfied: spacy in /home/rwn8669/.conda/envs/conda_venv/lib/python3.6/site-packages (2.2.3)\n",
      "Requirement already satisfied: preshed<3.1.0,>=3.0.2 in /home/rwn8669/.conda/envs/conda_venv/lib/python3.6/site-packages (from spacy) (3.0.2)\n",
      "Requirement already satisfied: plac<1.2.0,>=0.9.6 in /home/rwn8669/.conda/envs/conda_venv/lib/python3.6/site-packages (from spacy) (1.1.3)\n",
      "Requirement already satisfied: catalogue<1.1.0,>=0.0.7 in /home/rwn8669/.conda/envs/conda_venv/lib/python3.6/site-packages (from spacy) (1.0.0)\n",
      "Requirement already satisfied: setuptools in /home/rwn8669/.conda/envs/conda_venv/lib/python3.6/site-packages (from spacy) (40.2.0)\n",
      "Requirement already satisfied: blis<0.5.0,>=0.4.0 in /home/rwn8669/.conda/envs/conda_venv/lib/python3.6/site-packages (from spacy) (0.4.1)\n",
      "Requirement already satisfied: numpy>=1.15.0 in /home/rwn8669/.conda/envs/conda_venv/lib/python3.6/site-packages (from spacy) (1.18.1)\n",
      "Requirement already satisfied: thinc<7.4.0,>=7.3.0 in /home/rwn8669/.conda/envs/conda_venv/lib/python3.6/site-packages (from spacy) (7.3.1)\n",
      "Requirement already satisfied: cymem<2.1.0,>=2.0.2 in /home/rwn8669/.conda/envs/conda_venv/lib/python3.6/site-packages (from spacy) (2.0.3)\n",
      "Requirement already satisfied: wasabi<1.1.0,>=0.4.0 in /home/rwn8669/.conda/envs/conda_venv/lib/python3.6/site-packages (from spacy) (0.6.0)\n",
      "Requirement already satisfied: srsly<1.1.0,>=0.1.0 in /home/rwn8669/.conda/envs/conda_venv/lib/python3.6/site-packages (from spacy) (1.0.1)\n",
      "Requirement already satisfied: murmurhash<1.1.0,>=0.28.0 in /home/rwn8669/.conda/envs/conda_venv/lib/python3.6/site-packages (from spacy) (1.0.2)\n",
      "Requirement already satisfied: requests<3.0.0,>=2.13.0 in /home/rwn8669/.local/lib/python3.6/site-packages (from spacy) (2.22.0)\n",
      "Requirement already satisfied: importlib-metadata>=0.20; python_version < \"3.8\" in /home/rwn8669/.conda/envs/conda_venv/lib/python3.6/site-packages (from catalogue<1.1.0,>=0.0.7->spacy) (1.4.0)\n",
      "Requirement already satisfied: tqdm<5.0.0,>=4.10.0 in /home/rwn8669/.conda/envs/conda_venv/lib/python3.6/site-packages (from thinc<7.4.0,>=7.3.0->spacy) (4.26.0)\n",
      "Requirement already satisfied: urllib3!=1.25.0,!=1.25.1,<1.26,>=1.21.1 in /home/rwn8669/.local/lib/python3.6/site-packages (from requests<3.0.0,>=2.13.0->spacy) (1.25.8)\n",
      "Requirement already satisfied: idna<2.9,>=2.5 in /home/rwn8669/.local/lib/python3.6/site-packages (from requests<3.0.0,>=2.13.0->spacy) (2.8)\n",
      "Requirement already satisfied: chardet<3.1.0,>=3.0.2 in /home/rwn8669/.local/lib/python3.6/site-packages (from requests<3.0.0,>=2.13.0->spacy) (3.0.4)\n",
      "Requirement already satisfied: certifi>=2017.4.17 in /home/rwn8669/.local/lib/python3.6/site-packages (from requests<3.0.0,>=2.13.0->spacy) (2019.11.28)\n",
      "Requirement already satisfied: zipp>=0.5 in /home/rwn8669/.conda/envs/conda_venv/lib/python3.6/site-packages (from importlib-metadata>=0.20; python_version < \"3.8\"->catalogue<1.1.0,>=0.0.7->spacy) (2.1.0)\n",
      "\u001b[31mfitz 0.0.1.dev2 requires configobj, which is not installed.\u001b[0m\n",
      "\u001b[31mtwisted 18.7.0 requires PyHamcrest>=1.9.0, which is not installed.\u001b[0m\n",
      "\u001b[33mYou are using pip version 10.0.1, however version 20.0.2 is available.\n",
      "You should consider upgrading via the 'pip install --upgrade pip' command.\u001b[0m\n",
      "Requirement already satisfied: textacy in /home/rwn8669/.conda/envs/conda_venv/lib/python3.6/site-packages (0.9.1)\n",
      "Requirement already satisfied: pyemd>=0.5.0 in /home/rwn8669/.conda/envs/conda_venv/lib/python3.6/site-packages (from textacy) (0.5.1)\n",
      "Requirement already satisfied: pyphen>=0.9.4 in /home/rwn8669/.conda/envs/conda_venv/lib/python3.6/site-packages (from textacy) (0.9.5)\n",
      "Requirement already satisfied: numpy>=1.17.0 in /home/rwn8669/.conda/envs/conda_venv/lib/python3.6/site-packages (from textacy) (1.18.1)\n",
      "Requirement already satisfied: requests>=2.10.0 in /home/rwn8669/.local/lib/python3.6/site-packages (from textacy) (2.22.0)\n",
      "Requirement already satisfied: scikit-learn>=0.19.0 in /home/rwn8669/.conda/envs/conda_venv/lib/python3.6/site-packages (from textacy) (0.19.2)\n",
      "Requirement already satisfied: jellyfish>=0.7.0 in /home/rwn8669/.conda/envs/conda_venv/lib/python3.6/site-packages (from textacy) (0.7.2)\n",
      "Requirement already satisfied: networkx>=2.0 in /home/rwn8669/.conda/envs/conda_venv/lib/python3.6/site-packages (from textacy) (2.1)\n",
      "Requirement already satisfied: spacy>=2.0.12 in /home/rwn8669/.conda/envs/conda_venv/lib/python3.6/site-packages (from textacy) (2.2.3)\n",
      "Requirement already satisfied: srsly>=0.0.5 in /home/rwn8669/.conda/envs/conda_venv/lib/python3.6/site-packages (from textacy) (1.0.1)\n",
      "Requirement already satisfied: cachetools>=2.0.1 in /home/rwn8669/.conda/envs/conda_venv/lib/python3.6/site-packages (from textacy) (3.0.0)\n",
      "Requirement already satisfied: cytoolz>=0.8.0 in /home/rwn8669/.conda/envs/conda_venv/lib/python3.6/site-packages (from textacy) (0.9.0.1)\n",
      "Requirement already satisfied: scipy>=0.17.0 in /home/rwn8669/.conda/envs/conda_venv/lib/python3.6/site-packages (from textacy) (1.1.0)\n",
      "Requirement already satisfied: tqdm>=4.19.6 in /home/rwn8669/.conda/envs/conda_venv/lib/python3.6/site-packages (from textacy) (4.26.0)\n",
      "Requirement already satisfied: joblib>=0.13.0 in /home/rwn8669/.conda/envs/conda_venv/lib/python3.6/site-packages (from textacy) (0.14.1)\n",
      "Requirement already satisfied: idna<2.9,>=2.5 in /home/rwn8669/.local/lib/python3.6/site-packages (from requests>=2.10.0->textacy) (2.8)\n",
      "Requirement already satisfied: urllib3!=1.25.0,!=1.25.1,<1.26,>=1.21.1 in /home/rwn8669/.local/lib/python3.6/site-packages (from requests>=2.10.0->textacy) (1.25.8)\n",
      "Requirement already satisfied: certifi>=2017.4.17 in /home/rwn8669/.local/lib/python3.6/site-packages (from requests>=2.10.0->textacy) (2019.11.28)\n",
      "Requirement already satisfied: chardet<3.1.0,>=3.0.2 in /home/rwn8669/.local/lib/python3.6/site-packages (from requests>=2.10.0->textacy) (3.0.4)\n",
      "Requirement already satisfied: decorator>=4.1.0 in /home/rwn8669/.conda/envs/conda_venv/lib/python3.6/site-packages (from networkx>=2.0->textacy) (4.3.0)\n",
      "Requirement already satisfied: cymem<2.1.0,>=2.0.2 in /home/rwn8669/.conda/envs/conda_venv/lib/python3.6/site-packages (from spacy>=2.0.12->textacy) (2.0.3)\n",
      "Requirement already satisfied: wasabi<1.1.0,>=0.4.0 in /home/rwn8669/.conda/envs/conda_venv/lib/python3.6/site-packages (from spacy>=2.0.12->textacy) (0.6.0)\n",
      "Requirement already satisfied: catalogue<1.1.0,>=0.0.7 in /home/rwn8669/.conda/envs/conda_venv/lib/python3.6/site-packages (from spacy>=2.0.12->textacy) (1.0.0)\n",
      "Requirement already satisfied: setuptools in /home/rwn8669/.conda/envs/conda_venv/lib/python3.6/site-packages (from spacy>=2.0.12->textacy) (40.2.0)\n",
      "Requirement already satisfied: plac<1.2.0,>=0.9.6 in /home/rwn8669/.conda/envs/conda_venv/lib/python3.6/site-packages (from spacy>=2.0.12->textacy) (1.1.3)\n",
      "Requirement already satisfied: preshed<3.1.0,>=3.0.2 in /home/rwn8669/.conda/envs/conda_venv/lib/python3.6/site-packages (from spacy>=2.0.12->textacy) (3.0.2)\n",
      "Requirement already satisfied: thinc<7.4.0,>=7.3.0 in /home/rwn8669/.conda/envs/conda_venv/lib/python3.6/site-packages (from spacy>=2.0.12->textacy) (7.3.1)\n",
      "Requirement already satisfied: murmurhash<1.1.0,>=0.28.0 in /home/rwn8669/.conda/envs/conda_venv/lib/python3.6/site-packages (from spacy>=2.0.12->textacy) (1.0.2)\n",
      "Requirement already satisfied: blis<0.5.0,>=0.4.0 in /home/rwn8669/.conda/envs/conda_venv/lib/python3.6/site-packages (from spacy>=2.0.12->textacy) (0.4.1)\n",
      "Requirement already satisfied: toolz>=0.8.0 in /home/rwn8669/.conda/envs/conda_venv/lib/python3.6/site-packages (from cytoolz>=0.8.0->textacy) (0.9.0)\n",
      "Requirement already satisfied: importlib-metadata>=0.20; python_version < \"3.8\" in /home/rwn8669/.conda/envs/conda_venv/lib/python3.6/site-packages (from catalogue<1.1.0,>=0.0.7->spacy>=2.0.12->textacy) (1.4.0)\n",
      "Requirement already satisfied: zipp>=0.5 in /home/rwn8669/.conda/envs/conda_venv/lib/python3.6/site-packages (from importlib-metadata>=0.20; python_version < \"3.8\"->catalogue<1.1.0,>=0.0.7->spacy>=2.0.12->textacy) (2.1.0)\n",
      "\u001b[31mfitz 0.0.1.dev2 requires configobj, which is not installed.\u001b[0m\n",
      "\u001b[31mtwisted 18.7.0 requires PyHamcrest>=1.9.0, which is not installed.\u001b[0m\n",
      "\u001b[33mYou are using pip version 10.0.1, however version 20.0.2 is available.\n",
      "You should consider upgrading via the 'pip install --upgrade pip' command.\u001b[0m\n"
     ]
    },
    {
     "name": "stdout",
     "output_type": "stream",
     "text": [
      "Requirement already satisfied: pandas in /home/rwn8669/.conda/envs/conda_venv/lib/python3.6/site-packages (0.23.4)\n",
      "Requirement already satisfied: python-dateutil>=2.5.0 in /home/rwn8669/.conda/envs/conda_venv/lib/python3.6/site-packages (from pandas) (2.7.3)\n",
      "Requirement already satisfied: pytz>=2011k in /home/rwn8669/.conda/envs/conda_venv/lib/python3.6/site-packages (from pandas) (2018.5)\n",
      "Requirement already satisfied: numpy>=1.9.0 in /home/rwn8669/.conda/envs/conda_venv/lib/python3.6/site-packages (from pandas) (1.18.1)\n",
      "Requirement already satisfied: six>=1.5 in /home/rwn8669/.conda/envs/conda_venv/lib/python3.6/site-packages (from python-dateutil>=2.5.0->pandas) (1.11.0)\n",
      "\u001b[31mfitz 0.0.1.dev2 requires configobj, which is not installed.\u001b[0m\n",
      "\u001b[31mtwisted 18.7.0 requires PyHamcrest>=1.9.0, which is not installed.\u001b[0m\n",
      "\u001b[33mYou are using pip version 10.0.1, however version 20.0.2 is available.\n",
      "You should consider upgrading via the 'pip install --upgrade pip' command.\u001b[0m\n",
      "Requirement already satisfied: en_core_web_lg==2.2.5 from https://github.com/explosion/spacy-models/releases/download/en_core_web_lg-2.2.5/en_core_web_lg-2.2.5.tar.gz#egg=en_core_web_lg==2.2.5 in /home/rwn8669/.conda/envs/conda_venv/lib/python3.6/site-packages (2.2.5)\n",
      "Requirement already satisfied: spacy>=2.2.2 in /home/rwn8669/.conda/envs/conda_venv/lib/python3.6/site-packages (from en_core_web_lg==2.2.5) (2.2.3)\n",
      "Requirement already satisfied: requests<3.0.0,>=2.13.0 in /home/rwn8669/.local/lib/python3.6/site-packages (from spacy>=2.2.2->en_core_web_lg==2.2.5) (2.22.0)\n",
      "Requirement already satisfied: thinc<7.4.0,>=7.3.0 in /home/rwn8669/.conda/envs/conda_venv/lib/python3.6/site-packages (from spacy>=2.2.2->en_core_web_lg==2.2.5) (7.3.1)\n",
      "Requirement already satisfied: numpy>=1.15.0 in /home/rwn8669/.conda/envs/conda_venv/lib/python3.6/site-packages (from spacy>=2.2.2->en_core_web_lg==2.2.5) (1.18.1)\n",
      "Requirement already satisfied: plac<1.2.0,>=0.9.6 in /home/rwn8669/.conda/envs/conda_venv/lib/python3.6/site-packages (from spacy>=2.2.2->en_core_web_lg==2.2.5) (1.1.3)\n",
      "Requirement already satisfied: blis<0.5.0,>=0.4.0 in /home/rwn8669/.conda/envs/conda_venv/lib/python3.6/site-packages (from spacy>=2.2.2->en_core_web_lg==2.2.5) (0.4.1)\n",
      "Requirement already satisfied: setuptools in /home/rwn8669/.conda/envs/conda_venv/lib/python3.6/site-packages (from spacy>=2.2.2->en_core_web_lg==2.2.5) (40.2.0)\n",
      "Requirement already satisfied: wasabi<1.1.0,>=0.4.0 in /home/rwn8669/.conda/envs/conda_venv/lib/python3.6/site-packages (from spacy>=2.2.2->en_core_web_lg==2.2.5) (0.6.0)\n",
      "Requirement already satisfied: preshed<3.1.0,>=3.0.2 in /home/rwn8669/.conda/envs/conda_venv/lib/python3.6/site-packages (from spacy>=2.2.2->en_core_web_lg==2.2.5) (3.0.2)\n",
      "Requirement already satisfied: cymem<2.1.0,>=2.0.2 in /home/rwn8669/.conda/envs/conda_venv/lib/python3.6/site-packages (from spacy>=2.2.2->en_core_web_lg==2.2.5) (2.0.3)\n",
      "Requirement already satisfied: catalogue<1.1.0,>=0.0.7 in /home/rwn8669/.conda/envs/conda_venv/lib/python3.6/site-packages (from spacy>=2.2.2->en_core_web_lg==2.2.5) (1.0.0)\n",
      "Requirement already satisfied: srsly<1.1.0,>=0.1.0 in /home/rwn8669/.conda/envs/conda_venv/lib/python3.6/site-packages (from spacy>=2.2.2->en_core_web_lg==2.2.5) (1.0.1)\n",
      "Requirement already satisfied: murmurhash<1.1.0,>=0.28.0 in /home/rwn8669/.conda/envs/conda_venv/lib/python3.6/site-packages (from spacy>=2.2.2->en_core_web_lg==2.2.5) (1.0.2)\n",
      "Requirement already satisfied: chardet<3.1.0,>=3.0.2 in /home/rwn8669/.local/lib/python3.6/site-packages (from requests<3.0.0,>=2.13.0->spacy>=2.2.2->en_core_web_lg==2.2.5) (3.0.4)\n",
      "Requirement already satisfied: urllib3!=1.25.0,!=1.25.1,<1.26,>=1.21.1 in /home/rwn8669/.local/lib/python3.6/site-packages (from requests<3.0.0,>=2.13.0->spacy>=2.2.2->en_core_web_lg==2.2.5) (1.25.8)\n",
      "Requirement already satisfied: certifi>=2017.4.17 in /home/rwn8669/.local/lib/python3.6/site-packages (from requests<3.0.0,>=2.13.0->spacy>=2.2.2->en_core_web_lg==2.2.5) (2019.11.28)\n",
      "Requirement already satisfied: idna<2.9,>=2.5 in /home/rwn8669/.local/lib/python3.6/site-packages (from requests<3.0.0,>=2.13.0->spacy>=2.2.2->en_core_web_lg==2.2.5) (2.8)\n",
      "Requirement already satisfied: tqdm<5.0.0,>=4.10.0 in /home/rwn8669/.conda/envs/conda_venv/lib/python3.6/site-packages (from thinc<7.4.0,>=7.3.0->spacy>=2.2.2->en_core_web_lg==2.2.5) (4.26.0)\n",
      "Requirement already satisfied: importlib-metadata>=0.20; python_version < \"3.8\" in /home/rwn8669/.conda/envs/conda_venv/lib/python3.6/site-packages (from catalogue<1.1.0,>=0.0.7->spacy>=2.2.2->en_core_web_lg==2.2.5) (1.4.0)\n",
      "Requirement already satisfied: zipp>=0.5 in /home/rwn8669/.conda/envs/conda_venv/lib/python3.6/site-packages (from importlib-metadata>=0.20; python_version < \"3.8\"->catalogue<1.1.0,>=0.0.7->spacy>=2.2.2->en_core_web_lg==2.2.5) (2.1.0)\n",
      "\u001b[31mfitz 0.0.1.dev2 requires configobj, which is not installed.\u001b[0m\n",
      "\u001b[31mtwisted 18.7.0 requires PyHamcrest>=1.9.0, which is not installed.\u001b[0m\n",
      "\u001b[33mYou are using pip version 10.0.1, however version 20.0.2 is available.\n",
      "You should consider upgrading via the 'pip install --upgrade pip' command.\u001b[0m\n",
      "\u001b[38;5;2m✔ Download and installation successful\u001b[0m\n",
      "You can now load the model via spacy.load('en_core_web_lg')\n"
     ]
    }
   ],
   "source": [
    "!pip install spacy\n",
    "!pip install textacy\n",
    "!pip install pandas\n",
    "\n",
    "# Install large English web document model\n",
    "!python -m spacy download en_core_web_lg\n",
    "\n",
    "## for python2.7 only\n",
    "# pip install \"msgpack-numpy<0.4.4.0\""
   ]
  },
  {
   "cell_type": "markdown",
   "metadata": {},
   "source": [
    "## What is spaCy?\n",
    "https://spacy.io\n",
    "\n",
    "spaCy is a library for advanced Natural Language Processing, written in Python and Cython. spaCy utilizes convolution network models for English, German, Spanish, Portuguese, French, Italian, Dutch and multi-language NER, as well as tokenization for various other languages.\n",
    "\n",
    "spaCy is designed for large scale text extraction, using Cython to provide increased processing speed. spaCy also supports deep learning workflows that allow connecting statistical models trained by popular machine learning libraries like TensorFlow, Keras, Scikit-learn or PyTorch."
   ]
  },
  {
   "cell_type": "code",
   "execution_count": 2,
   "metadata": {},
   "outputs": [],
   "source": [
    "import spacy\n",
    "from spacy import displacy # visualization tools for spaCy"
   ]
  },
  {
   "cell_type": "markdown",
   "metadata": {},
   "source": [
    "## Model: 'en_core_web_lg'\n",
    "\n",
    "English multi-task CNN trained on OntoNotes, with GloVe vectors trained on Common Crawl. Assigns word vectors, context-specific token vectors, POS tags, syntactic dependency parse and named entities.\n",
    "\n",
    "685k keys, 685k unique vectors (300 dimensions)"
   ]
  },
  {
   "cell_type": "code",
   "execution_count": 3,
   "metadata": {},
   "outputs": [],
   "source": [
    "nlp = spacy.load('en_core_web_lg')"
   ]
  },
  {
   "cell_type": "markdown",
   "metadata": {},
   "source": [
    "## Tokenization\n",
    "\n",
    "spaCy automatically tokenizes text and provides several context relevant properties for each token.\n",
    "\n",
    "Let's look at the following sentence:\n",
    "\n",
    "**In downtown Evanston, Rhonda Smith bought 1 iPhone at 8 a.m. on October 5th because they were 30% off at BestBuy.**"
   ]
  },
  {
   "cell_type": "code",
   "execution_count": 4,
   "metadata": {},
   "outputs": [
    {
     "name": "stdout",
     "output_type": "stream",
     "text": [
      "[In, downtown, Evanston, ,, Rhonda, Smith, bought, 1, iPhone, at, 8, a.m., on, October, 5th, because, they, were, 30, %, off, at, BestBuy, .]\n"
     ]
    }
   ],
   "source": [
    "# process document with spaCy nlp model\n",
    "doc = nlp(u'In downtown Evanston, Rhonda Smith bought 1 iPhone at 8 a.m. on October 5th because they were 30% off at BestBuy.')\n",
    "\n",
    "# get tokenized representation of sentence\n",
    "tokenized = [token for token in doc]\n",
    "print(tokenized)"
   ]
  },
  {
   "cell_type": "markdown",
   "metadata": {},
   "source": [
    "## Named entity recognition"
   ]
  },
  {
   "cell_type": "code",
   "execution_count": 5,
   "metadata": {},
   "outputs": [
    {
     "data": {
      "text/html": [
       "<div class=\"entities\" style=\"line-height: 2.5; direction: ltr\">In downtown \n",
       "<mark class=\"entity\" style=\"background: #feca74; padding: 0.45em 0.6em; margin: 0 0.25em; line-height: 1; border-radius: 0.35em;\">\n",
       "    Evanston\n",
       "    <span style=\"font-size: 0.8em; font-weight: bold; line-height: 1; border-radius: 0.35em; text-transform: uppercase; vertical-align: middle; margin-left: 0.5rem\">GPE</span>\n",
       "</mark>\n",
       ", \n",
       "<mark class=\"entity\" style=\"background: #aa9cfc; padding: 0.45em 0.6em; margin: 0 0.25em; line-height: 1; border-radius: 0.35em;\">\n",
       "    Rhonda Smith\n",
       "    <span style=\"font-size: 0.8em; font-weight: bold; line-height: 1; border-radius: 0.35em; text-transform: uppercase; vertical-align: middle; margin-left: 0.5rem\">PERSON</span>\n",
       "</mark>\n",
       " bought \n",
       "<mark class=\"entity\" style=\"background: #e4e7d2; padding: 0.45em 0.6em; margin: 0 0.25em; line-height: 1; border-radius: 0.35em;\">\n",
       "    1\n",
       "    <span style=\"font-size: 0.8em; font-weight: bold; line-height: 1; border-radius: 0.35em; text-transform: uppercase; vertical-align: middle; margin-left: 0.5rem\">CARDINAL</span>\n",
       "</mark>\n",
       " \n",
       "<mark class=\"entity\" style=\"background: #7aecec; padding: 0.45em 0.6em; margin: 0 0.25em; line-height: 1; border-radius: 0.35em;\">\n",
       "    iPhone\n",
       "    <span style=\"font-size: 0.8em; font-weight: bold; line-height: 1; border-radius: 0.35em; text-transform: uppercase; vertical-align: middle; margin-left: 0.5rem\">ORG</span>\n",
       "</mark>\n",
       " at \n",
       "<mark class=\"entity\" style=\"background: #bfe1d9; padding: 0.45em 0.6em; margin: 0 0.25em; line-height: 1; border-radius: 0.35em;\">\n",
       "    8 a.m.\n",
       "    <span style=\"font-size: 0.8em; font-weight: bold; line-height: 1; border-radius: 0.35em; text-transform: uppercase; vertical-align: middle; margin-left: 0.5rem\">TIME</span>\n",
       "</mark>\n",
       " on \n",
       "<mark class=\"entity\" style=\"background: #bfe1d9; padding: 0.45em 0.6em; margin: 0 0.25em; line-height: 1; border-radius: 0.35em;\">\n",
       "    October 5th\n",
       "    <span style=\"font-size: 0.8em; font-weight: bold; line-height: 1; border-radius: 0.35em; text-transform: uppercase; vertical-align: middle; margin-left: 0.5rem\">DATE</span>\n",
       "</mark>\n",
       " because they were \n",
       "<mark class=\"entity\" style=\"background: #e4e7d2; padding: 0.45em 0.6em; margin: 0 0.25em; line-height: 1; border-radius: 0.35em;\">\n",
       "    30%\n",
       "    <span style=\"font-size: 0.8em; font-weight: bold; line-height: 1; border-radius: 0.35em; text-transform: uppercase; vertical-align: middle; margin-left: 0.5rem\">PERCENT</span>\n",
       "</mark>\n",
       " off at \n",
       "<mark class=\"entity\" style=\"background: #7aecec; padding: 0.45em 0.6em; margin: 0 0.25em; line-height: 1; border-radius: 0.35em;\">\n",
       "    BestBuy\n",
       "    <span style=\"font-size: 0.8em; font-weight: bold; line-height: 1; border-radius: 0.35em; text-transform: uppercase; vertical-align: middle; margin-left: 0.5rem\">ORG</span>\n",
       "</mark>\n",
       ".</div>"
      ],
      "text/plain": [
       "<IPython.core.display.HTML object>"
      ]
     },
     "metadata": {},
     "output_type": "display_data"
    }
   ],
   "source": [
    "displacy.render(doc, style='ent', jupyter=True)"
   ]
  },
  {
   "cell_type": "code",
   "execution_count": 6,
   "metadata": {},
   "outputs": [
    {
     "data": {
      "text/html": [
       "<div class=\"entities\" style=\"line-height: 2.5; direction: ltr\">\n",
       "<mark class=\"entity\" style=\"background: #aa9cfc; padding: 0.45em 0.6em; margin: 0 0.25em; line-height: 1; border-radius: 0.35em;\">\n",
       "    Tim Cook\n",
       "    <span style=\"font-size: 0.8em; font-weight: bold; line-height: 1; border-radius: 0.35em; text-transform: uppercase; vertical-align: middle; margin-left: 0.5rem\">PERSON</span>\n",
       "</mark>\n",
       ", CEO of \n",
       "<mark class=\"entity\" style=\"background: #7aecec; padding: 0.45em 0.6em; margin: 0 0.25em; line-height: 1; border-radius: 0.35em;\">\n",
       "    Apple\n",
       "    <span style=\"font-size: 0.8em; font-weight: bold; line-height: 1; border-radius: 0.35em; text-transform: uppercase; vertical-align: middle; margin-left: 0.5rem\">ORG</span>\n",
       "</mark>\n",
       ", has many apple trees on his property.</div>"
      ],
      "text/plain": [
       "<IPython.core.display.HTML object>"
      ]
     },
     "metadata": {},
     "output_type": "display_data"
    }
   ],
   "source": [
    "# named entities can be use for disambiguation\n",
    "\n",
    "doc = nlp(u\"Tim Cook, CEO of Apple, has many apple trees on his property.\")\n",
    "displacy.render(doc, style='ent', jupyter=True)"
   ]
  },
  {
   "cell_type": "markdown",
   "metadata": {},
   "source": [
    "## Token properties"
   ]
  },
  {
   "cell_type": "code",
   "execution_count": 7,
   "metadata": {},
   "outputs": [
    {
     "data": {
      "text/html": [
       "<table border=\"1\" class=\"dataframe\">\n",
       "  <thead>\n",
       "    <tr style=\"text-align: right;\">\n",
       "      <th>TEXT</th>\n",
       "      <th>LEMMA</th>\n",
       "      <th>POS</th>\n",
       "      <th>TAG</th>\n",
       "      <th>DEP</th>\n",
       "      <th>SHAPE</th>\n",
       "      <th>ALPHA</th>\n",
       "      <th>ENT</th>\n",
       "    </tr>\n",
       "  </thead>\n",
       "  <tbody>\n",
       "    <tr>\n",
       "      <td>Tim</td>\n",
       "      <td>Tim</td>\n",
       "      <td>PROPN</td>\n",
       "      <td>NNP</td>\n",
       "      <td>compound</td>\n",
       "      <td>Xxx</td>\n",
       "      <td>True</td>\n",
       "      <td>PERSON</td>\n",
       "    </tr>\n",
       "    <tr>\n",
       "      <td>Cook</td>\n",
       "      <td>Cook</td>\n",
       "      <td>PROPN</td>\n",
       "      <td>NNP</td>\n",
       "      <td>nsubj</td>\n",
       "      <td>Xxxx</td>\n",
       "      <td>True</td>\n",
       "      <td>PERSON</td>\n",
       "    </tr>\n",
       "    <tr>\n",
       "      <td>,</td>\n",
       "      <td>,</td>\n",
       "      <td>PUNCT</td>\n",
       "      <td>,</td>\n",
       "      <td>punct</td>\n",
       "      <td>,</td>\n",
       "      <td>False</td>\n",
       "      <td></td>\n",
       "    </tr>\n",
       "    <tr>\n",
       "      <td>CEO</td>\n",
       "      <td>CEO</td>\n",
       "      <td>PROPN</td>\n",
       "      <td>NNP</td>\n",
       "      <td>appos</td>\n",
       "      <td>XXX</td>\n",
       "      <td>True</td>\n",
       "      <td></td>\n",
       "    </tr>\n",
       "    <tr>\n",
       "      <td>of</td>\n",
       "      <td>of</td>\n",
       "      <td>ADP</td>\n",
       "      <td>IN</td>\n",
       "      <td>prep</td>\n",
       "      <td>xx</td>\n",
       "      <td>True</td>\n",
       "      <td></td>\n",
       "    </tr>\n",
       "    <tr>\n",
       "      <td>Apple</td>\n",
       "      <td>Apple</td>\n",
       "      <td>PROPN</td>\n",
       "      <td>NNP</td>\n",
       "      <td>pobj</td>\n",
       "      <td>Xxxxx</td>\n",
       "      <td>True</td>\n",
       "      <td>ORG</td>\n",
       "    </tr>\n",
       "    <tr>\n",
       "      <td>,</td>\n",
       "      <td>,</td>\n",
       "      <td>PUNCT</td>\n",
       "      <td>,</td>\n",
       "      <td>punct</td>\n",
       "      <td>,</td>\n",
       "      <td>False</td>\n",
       "      <td></td>\n",
       "    </tr>\n",
       "    <tr>\n",
       "      <td>has</td>\n",
       "      <td>have</td>\n",
       "      <td>AUX</td>\n",
       "      <td>VBZ</td>\n",
       "      <td>ROOT</td>\n",
       "      <td>xxx</td>\n",
       "      <td>True</td>\n",
       "      <td></td>\n",
       "    </tr>\n",
       "    <tr>\n",
       "      <td>many</td>\n",
       "      <td>many</td>\n",
       "      <td>ADJ</td>\n",
       "      <td>JJ</td>\n",
       "      <td>amod</td>\n",
       "      <td>xxxx</td>\n",
       "      <td>True</td>\n",
       "      <td></td>\n",
       "    </tr>\n",
       "    <tr>\n",
       "      <td>apple</td>\n",
       "      <td>apple</td>\n",
       "      <td>NOUN</td>\n",
       "      <td>NN</td>\n",
       "      <td>compound</td>\n",
       "      <td>xxxx</td>\n",
       "      <td>True</td>\n",
       "      <td></td>\n",
       "    </tr>\n",
       "    <tr>\n",
       "      <td>trees</td>\n",
       "      <td>tree</td>\n",
       "      <td>NOUN</td>\n",
       "      <td>NNS</td>\n",
       "      <td>dobj</td>\n",
       "      <td>xxxx</td>\n",
       "      <td>True</td>\n",
       "      <td></td>\n",
       "    </tr>\n",
       "    <tr>\n",
       "      <td>on</td>\n",
       "      <td>on</td>\n",
       "      <td>ADP</td>\n",
       "      <td>IN</td>\n",
       "      <td>prep</td>\n",
       "      <td>xx</td>\n",
       "      <td>True</td>\n",
       "      <td></td>\n",
       "    </tr>\n",
       "    <tr>\n",
       "      <td>his</td>\n",
       "      <td>-PRON-</td>\n",
       "      <td>DET</td>\n",
       "      <td>PRP$</td>\n",
       "      <td>poss</td>\n",
       "      <td>xxx</td>\n",
       "      <td>True</td>\n",
       "      <td></td>\n",
       "    </tr>\n",
       "    <tr>\n",
       "      <td>property</td>\n",
       "      <td>property</td>\n",
       "      <td>NOUN</td>\n",
       "      <td>NN</td>\n",
       "      <td>pobj</td>\n",
       "      <td>xxxx</td>\n",
       "      <td>True</td>\n",
       "      <td></td>\n",
       "    </tr>\n",
       "    <tr>\n",
       "      <td>.</td>\n",
       "      <td>.</td>\n",
       "      <td>PUNCT</td>\n",
       "      <td>.</td>\n",
       "      <td>punct</td>\n",
       "      <td>.</td>\n",
       "      <td>False</td>\n",
       "      <td></td>\n",
       "    </tr>\n",
       "  </tbody>\n",
       "</table>"
      ],
      "text/plain": [
       "<IPython.core.display.HTML object>"
      ]
     },
     "metadata": {},
     "output_type": "display_data"
    }
   ],
   "source": [
    "# print properties of each token in sentence\n",
    "\n",
    "import pandas as pd\n",
    "from IPython.display import display, HTML\n",
    "\n",
    "df = pd.DataFrame(columns='TEXT LEMMA POS TAG DEP SHAPE ALPHA ENT'.split())\n",
    "\n",
    "for token in doc:\n",
    "    tokendict = {'TEXT':token.text,\n",
    "                 'LEMMA':token.lemma_,\n",
    "                 'POS':token.pos_,\n",
    "                 'TAG':token.tag_,\n",
    "                 'DEP':token.dep_,\n",
    "                 'SHAPE':token.shape_,\n",
    "                 'ALPHA':token.is_alpha,\n",
    "                 'ENT':token.ent_type_}\n",
    "    df = df.append(tokendict, ignore_index=True)\n",
    "\n",
    "display(HTML(df.to_html(index=False)))\n"
   ]
  },
  {
   "cell_type": "markdown",
   "metadata": {},
   "source": [
    "## Syntactic dependency relationships\n",
    "\n",
    "Syntactic dependencies are the grammatical relationships between words. spaCy can be used to extract this dependency information from sentences in a text. "
   ]
  },
  {
   "cell_type": "code",
   "execution_count": 8,
   "metadata": {},
   "outputs": [
    {
     "data": {
      "text/html": [
       "<svg xmlns=\"http://www.w3.org/2000/svg\" xmlns:xlink=\"http://www.w3.org/1999/xlink\" xml:lang=\"en\" id=\"0d52d30427d244bda4a765414afea39e-0\" class=\"displacy\" width=\"2150\" height=\"487.0\" direction=\"ltr\" style=\"max-width: none; height: 487.0px; color: #000000; background: #ffffff; font-family: Arial; direction: ltr\">\n",
       "<text class=\"displacy-token\" fill=\"currentColor\" text-anchor=\"middle\" y=\"397.0\">\n",
       "    <tspan class=\"displacy-word\" fill=\"currentColor\" x=\"50\">Tim</tspan>\n",
       "    <tspan class=\"displacy-tag\" dy=\"2em\" fill=\"currentColor\" x=\"50\">PROPN</tspan>\n",
       "</text>\n",
       "\n",
       "<text class=\"displacy-token\" fill=\"currentColor\" text-anchor=\"middle\" y=\"397.0\">\n",
       "    <tspan class=\"displacy-word\" fill=\"currentColor\" x=\"225\">Cook,</tspan>\n",
       "    <tspan class=\"displacy-tag\" dy=\"2em\" fill=\"currentColor\" x=\"225\">PROPN</tspan>\n",
       "</text>\n",
       "\n",
       "<text class=\"displacy-token\" fill=\"currentColor\" text-anchor=\"middle\" y=\"397.0\">\n",
       "    <tspan class=\"displacy-word\" fill=\"currentColor\" x=\"400\">CEO</tspan>\n",
       "    <tspan class=\"displacy-tag\" dy=\"2em\" fill=\"currentColor\" x=\"400\">PROPN</tspan>\n",
       "</text>\n",
       "\n",
       "<text class=\"displacy-token\" fill=\"currentColor\" text-anchor=\"middle\" y=\"397.0\">\n",
       "    <tspan class=\"displacy-word\" fill=\"currentColor\" x=\"575\">of</tspan>\n",
       "    <tspan class=\"displacy-tag\" dy=\"2em\" fill=\"currentColor\" x=\"575\">ADP</tspan>\n",
       "</text>\n",
       "\n",
       "<text class=\"displacy-token\" fill=\"currentColor\" text-anchor=\"middle\" y=\"397.0\">\n",
       "    <tspan class=\"displacy-word\" fill=\"currentColor\" x=\"750\">Apple,</tspan>\n",
       "    <tspan class=\"displacy-tag\" dy=\"2em\" fill=\"currentColor\" x=\"750\">PROPN</tspan>\n",
       "</text>\n",
       "\n",
       "<text class=\"displacy-token\" fill=\"currentColor\" text-anchor=\"middle\" y=\"397.0\">\n",
       "    <tspan class=\"displacy-word\" fill=\"currentColor\" x=\"925\">has</tspan>\n",
       "    <tspan class=\"displacy-tag\" dy=\"2em\" fill=\"currentColor\" x=\"925\">AUX</tspan>\n",
       "</text>\n",
       "\n",
       "<text class=\"displacy-token\" fill=\"currentColor\" text-anchor=\"middle\" y=\"397.0\">\n",
       "    <tspan class=\"displacy-word\" fill=\"currentColor\" x=\"1100\">many</tspan>\n",
       "    <tspan class=\"displacy-tag\" dy=\"2em\" fill=\"currentColor\" x=\"1100\">ADJ</tspan>\n",
       "</text>\n",
       "\n",
       "<text class=\"displacy-token\" fill=\"currentColor\" text-anchor=\"middle\" y=\"397.0\">\n",
       "    <tspan class=\"displacy-word\" fill=\"currentColor\" x=\"1275\">apple</tspan>\n",
       "    <tspan class=\"displacy-tag\" dy=\"2em\" fill=\"currentColor\" x=\"1275\">NOUN</tspan>\n",
       "</text>\n",
       "\n",
       "<text class=\"displacy-token\" fill=\"currentColor\" text-anchor=\"middle\" y=\"397.0\">\n",
       "    <tspan class=\"displacy-word\" fill=\"currentColor\" x=\"1450\">trees</tspan>\n",
       "    <tspan class=\"displacy-tag\" dy=\"2em\" fill=\"currentColor\" x=\"1450\">NOUN</tspan>\n",
       "</text>\n",
       "\n",
       "<text class=\"displacy-token\" fill=\"currentColor\" text-anchor=\"middle\" y=\"397.0\">\n",
       "    <tspan class=\"displacy-word\" fill=\"currentColor\" x=\"1625\">on</tspan>\n",
       "    <tspan class=\"displacy-tag\" dy=\"2em\" fill=\"currentColor\" x=\"1625\">ADP</tspan>\n",
       "</text>\n",
       "\n",
       "<text class=\"displacy-token\" fill=\"currentColor\" text-anchor=\"middle\" y=\"397.0\">\n",
       "    <tspan class=\"displacy-word\" fill=\"currentColor\" x=\"1800\">his</tspan>\n",
       "    <tspan class=\"displacy-tag\" dy=\"2em\" fill=\"currentColor\" x=\"1800\">DET</tspan>\n",
       "</text>\n",
       "\n",
       "<text class=\"displacy-token\" fill=\"currentColor\" text-anchor=\"middle\" y=\"397.0\">\n",
       "    <tspan class=\"displacy-word\" fill=\"currentColor\" x=\"1975\">property.</tspan>\n",
       "    <tspan class=\"displacy-tag\" dy=\"2em\" fill=\"currentColor\" x=\"1975\">NOUN</tspan>\n",
       "</text>\n",
       "\n",
       "<g class=\"displacy-arrow\">\n",
       "    <path class=\"displacy-arc\" id=\"arrow-0d52d30427d244bda4a765414afea39e-0-0\" stroke-width=\"2px\" d=\"M70,352.0 C70,264.5 210.0,264.5 210.0,352.0\" fill=\"none\" stroke=\"currentColor\"/>\n",
       "    <text dy=\"1.25em\" style=\"font-size: 0.8em; letter-spacing: 1px\">\n",
       "        <textPath xlink:href=\"#arrow-0d52d30427d244bda4a765414afea39e-0-0\" class=\"displacy-label\" startOffset=\"50%\" side=\"left\" fill=\"currentColor\" text-anchor=\"middle\">compound</textPath>\n",
       "    </text>\n",
       "    <path class=\"displacy-arrowhead\" d=\"M70,354.0 L62,342.0 78,342.0\" fill=\"currentColor\"/>\n",
       "</g>\n",
       "\n",
       "<g class=\"displacy-arrow\">\n",
       "    <path class=\"displacy-arc\" id=\"arrow-0d52d30427d244bda4a765414afea39e-0-1\" stroke-width=\"2px\" d=\"M245,352.0 C245,2.0 925.0,2.0 925.0,352.0\" fill=\"none\" stroke=\"currentColor\"/>\n",
       "    <text dy=\"1.25em\" style=\"font-size: 0.8em; letter-spacing: 1px\">\n",
       "        <textPath xlink:href=\"#arrow-0d52d30427d244bda4a765414afea39e-0-1\" class=\"displacy-label\" startOffset=\"50%\" side=\"left\" fill=\"currentColor\" text-anchor=\"middle\">nsubj</textPath>\n",
       "    </text>\n",
       "    <path class=\"displacy-arrowhead\" d=\"M245,354.0 L237,342.0 253,342.0\" fill=\"currentColor\"/>\n",
       "</g>\n",
       "\n",
       "<g class=\"displacy-arrow\">\n",
       "    <path class=\"displacy-arc\" id=\"arrow-0d52d30427d244bda4a765414afea39e-0-2\" stroke-width=\"2px\" d=\"M245,352.0 C245,264.5 385.0,264.5 385.0,352.0\" fill=\"none\" stroke=\"currentColor\"/>\n",
       "    <text dy=\"1.25em\" style=\"font-size: 0.8em; letter-spacing: 1px\">\n",
       "        <textPath xlink:href=\"#arrow-0d52d30427d244bda4a765414afea39e-0-2\" class=\"displacy-label\" startOffset=\"50%\" side=\"left\" fill=\"currentColor\" text-anchor=\"middle\">appos</textPath>\n",
       "    </text>\n",
       "    <path class=\"displacy-arrowhead\" d=\"M385.0,354.0 L393.0,342.0 377.0,342.0\" fill=\"currentColor\"/>\n",
       "</g>\n",
       "\n",
       "<g class=\"displacy-arrow\">\n",
       "    <path class=\"displacy-arc\" id=\"arrow-0d52d30427d244bda4a765414afea39e-0-3\" stroke-width=\"2px\" d=\"M420,352.0 C420,264.5 560.0,264.5 560.0,352.0\" fill=\"none\" stroke=\"currentColor\"/>\n",
       "    <text dy=\"1.25em\" style=\"font-size: 0.8em; letter-spacing: 1px\">\n",
       "        <textPath xlink:href=\"#arrow-0d52d30427d244bda4a765414afea39e-0-3\" class=\"displacy-label\" startOffset=\"50%\" side=\"left\" fill=\"currentColor\" text-anchor=\"middle\">prep</textPath>\n",
       "    </text>\n",
       "    <path class=\"displacy-arrowhead\" d=\"M560.0,354.0 L568.0,342.0 552.0,342.0\" fill=\"currentColor\"/>\n",
       "</g>\n",
       "\n",
       "<g class=\"displacy-arrow\">\n",
       "    <path class=\"displacy-arc\" id=\"arrow-0d52d30427d244bda4a765414afea39e-0-4\" stroke-width=\"2px\" d=\"M595,352.0 C595,264.5 735.0,264.5 735.0,352.0\" fill=\"none\" stroke=\"currentColor\"/>\n",
       "    <text dy=\"1.25em\" style=\"font-size: 0.8em; letter-spacing: 1px\">\n",
       "        <textPath xlink:href=\"#arrow-0d52d30427d244bda4a765414afea39e-0-4\" class=\"displacy-label\" startOffset=\"50%\" side=\"left\" fill=\"currentColor\" text-anchor=\"middle\">pobj</textPath>\n",
       "    </text>\n",
       "    <path class=\"displacy-arrowhead\" d=\"M735.0,354.0 L743.0,342.0 727.0,342.0\" fill=\"currentColor\"/>\n",
       "</g>\n",
       "\n",
       "<g class=\"displacy-arrow\">\n",
       "    <path class=\"displacy-arc\" id=\"arrow-0d52d30427d244bda4a765414afea39e-0-5\" stroke-width=\"2px\" d=\"M1120,352.0 C1120,177.0 1440.0,177.0 1440.0,352.0\" fill=\"none\" stroke=\"currentColor\"/>\n",
       "    <text dy=\"1.25em\" style=\"font-size: 0.8em; letter-spacing: 1px\">\n",
       "        <textPath xlink:href=\"#arrow-0d52d30427d244bda4a765414afea39e-0-5\" class=\"displacy-label\" startOffset=\"50%\" side=\"left\" fill=\"currentColor\" text-anchor=\"middle\">amod</textPath>\n",
       "    </text>\n",
       "    <path class=\"displacy-arrowhead\" d=\"M1120,354.0 L1112,342.0 1128,342.0\" fill=\"currentColor\"/>\n",
       "</g>\n",
       "\n",
       "<g class=\"displacy-arrow\">\n",
       "    <path class=\"displacy-arc\" id=\"arrow-0d52d30427d244bda4a765414afea39e-0-6\" stroke-width=\"2px\" d=\"M1295,352.0 C1295,264.5 1435.0,264.5 1435.0,352.0\" fill=\"none\" stroke=\"currentColor\"/>\n",
       "    <text dy=\"1.25em\" style=\"font-size: 0.8em; letter-spacing: 1px\">\n",
       "        <textPath xlink:href=\"#arrow-0d52d30427d244bda4a765414afea39e-0-6\" class=\"displacy-label\" startOffset=\"50%\" side=\"left\" fill=\"currentColor\" text-anchor=\"middle\">compound</textPath>\n",
       "    </text>\n",
       "    <path class=\"displacy-arrowhead\" d=\"M1295,354.0 L1287,342.0 1303,342.0\" fill=\"currentColor\"/>\n",
       "</g>\n",
       "\n",
       "<g class=\"displacy-arrow\">\n",
       "    <path class=\"displacy-arc\" id=\"arrow-0d52d30427d244bda4a765414afea39e-0-7\" stroke-width=\"2px\" d=\"M945,352.0 C945,89.5 1445.0,89.5 1445.0,352.0\" fill=\"none\" stroke=\"currentColor\"/>\n",
       "    <text dy=\"1.25em\" style=\"font-size: 0.8em; letter-spacing: 1px\">\n",
       "        <textPath xlink:href=\"#arrow-0d52d30427d244bda4a765414afea39e-0-7\" class=\"displacy-label\" startOffset=\"50%\" side=\"left\" fill=\"currentColor\" text-anchor=\"middle\">dobj</textPath>\n",
       "    </text>\n",
       "    <path class=\"displacy-arrowhead\" d=\"M1445.0,354.0 L1453.0,342.0 1437.0,342.0\" fill=\"currentColor\"/>\n",
       "</g>\n",
       "\n",
       "<g class=\"displacy-arrow\">\n",
       "    <path class=\"displacy-arc\" id=\"arrow-0d52d30427d244bda4a765414afea39e-0-8\" stroke-width=\"2px\" d=\"M945,352.0 C945,2.0 1625.0,2.0 1625.0,352.0\" fill=\"none\" stroke=\"currentColor\"/>\n",
       "    <text dy=\"1.25em\" style=\"font-size: 0.8em; letter-spacing: 1px\">\n",
       "        <textPath xlink:href=\"#arrow-0d52d30427d244bda4a765414afea39e-0-8\" class=\"displacy-label\" startOffset=\"50%\" side=\"left\" fill=\"currentColor\" text-anchor=\"middle\">prep</textPath>\n",
       "    </text>\n",
       "    <path class=\"displacy-arrowhead\" d=\"M1625.0,354.0 L1633.0,342.0 1617.0,342.0\" fill=\"currentColor\"/>\n",
       "</g>\n",
       "\n",
       "<g class=\"displacy-arrow\">\n",
       "    <path class=\"displacy-arc\" id=\"arrow-0d52d30427d244bda4a765414afea39e-0-9\" stroke-width=\"2px\" d=\"M1820,352.0 C1820,264.5 1960.0,264.5 1960.0,352.0\" fill=\"none\" stroke=\"currentColor\"/>\n",
       "    <text dy=\"1.25em\" style=\"font-size: 0.8em; letter-spacing: 1px\">\n",
       "        <textPath xlink:href=\"#arrow-0d52d30427d244bda4a765414afea39e-0-9\" class=\"displacy-label\" startOffset=\"50%\" side=\"left\" fill=\"currentColor\" text-anchor=\"middle\">poss</textPath>\n",
       "    </text>\n",
       "    <path class=\"displacy-arrowhead\" d=\"M1820,354.0 L1812,342.0 1828,342.0\" fill=\"currentColor\"/>\n",
       "</g>\n",
       "\n",
       "<g class=\"displacy-arrow\">\n",
       "    <path class=\"displacy-arc\" id=\"arrow-0d52d30427d244bda4a765414afea39e-0-10\" stroke-width=\"2px\" d=\"M1645,352.0 C1645,177.0 1965.0,177.0 1965.0,352.0\" fill=\"none\" stroke=\"currentColor\"/>\n",
       "    <text dy=\"1.25em\" style=\"font-size: 0.8em; letter-spacing: 1px\">\n",
       "        <textPath xlink:href=\"#arrow-0d52d30427d244bda4a765414afea39e-0-10\" class=\"displacy-label\" startOffset=\"50%\" side=\"left\" fill=\"currentColor\" text-anchor=\"middle\">pobj</textPath>\n",
       "    </text>\n",
       "    <path class=\"displacy-arrowhead\" d=\"M1965.0,354.0 L1973.0,342.0 1957.0,342.0\" fill=\"currentColor\"/>\n",
       "</g>\n",
       "</svg>"
      ],
      "text/plain": [
       "<IPython.core.display.HTML object>"
      ]
     },
     "metadata": {},
     "output_type": "display_data"
    }
   ],
   "source": [
    "# visualization of syntactic dependency \n",
    "displacy.render(doc, style='dep', jupyter=True)"
   ]
  },
  {
   "cell_type": "code",
   "execution_count": 9,
   "metadata": {},
   "outputs": [
    {
     "name": "stdout",
     "output_type": "stream",
     "text": [
      "Google just made another giant move in its Silicon Valley land grab.\n",
      "\n",
      "The internet company spent $1 billion on a large office park near its headquarters in Mountain View, California, according to the Mercury News, and has now spent at least $2.8 billion on properties in Mountain View, Sunnyvale and San Jose over the last two years.\n",
      "In this case, Google is purchasing property that it's already been leasing. The company is the main tenant of the 12 buildings that comprise the 51.8-acre Shoreline Technology Park.\n",
      "\n",
      "Google declined to comment on its purchase.\n",
      "\n",
      "Earlier this month, Google agreed to pay an additional $110 million for 10.5 acres for a new campus in downtown San Jose, with the possibility of buying about 11 more acres. The city will vote on the plans in early December.\n",
      "It's also been a big year for Google property purchases outside of Silicon Valley.\n",
      "\n",
      "In the first quarter, the company spent $2.4 billion to buy New York City's Chelsea Market. Chief Financial Officer Ruth Porat said that the company favors \"owning rather than leasing real estate when we see good opportunities.\"\n",
      "\n",
      "As for leases, Google just signed on for a massive new space in downtown San Francisco.\n"
     ]
    },
    {
     "data": {
      "text/html": [
       "<table border=\"1\" class=\"dataframe\">\n",
       "  <thead>\n",
       "    <tr style=\"text-align: right;\">\n",
       "      <th>QUALIFIER</th>\n",
       "      <th>VALUE</th>\n",
       "      <th>ASSET</th>\n",
       "    </tr>\n",
       "  </thead>\n",
       "  <tbody>\n",
       "    <tr>\n",
       "      <td></td>\n",
       "      <td>$ 1 billion</td>\n",
       "      <td>a large office park</td>\n",
       "    </tr>\n",
       "    <tr>\n",
       "      <td>at least</td>\n",
       "      <td>$ 2.8 billion</td>\n",
       "      <td>properties</td>\n",
       "    </tr>\n",
       "    <tr>\n",
       "      <td>an additional</td>\n",
       "      <td>$ 110 million</td>\n",
       "      <td>10.5 acres</td>\n",
       "    </tr>\n",
       "    <tr>\n",
       "      <td></td>\n",
       "      <td>$ 2.4 billion</td>\n",
       "      <td>New York City's Chelsea Market</td>\n",
       "    </tr>\n",
       "  </tbody>\n",
       "</table>"
      ],
      "text/plain": [
       "<IPython.core.display.HTML object>"
      ]
     },
     "metadata": {},
     "output_type": "display_data"
    }
   ],
   "source": [
    "# syntactic dependency relationships in practice\n",
    "# currency values and the nouns they refer to\n",
    "\n",
    "\n",
    "TEXTS = [\n",
    "    \"\"\"Google just made another giant move in its Silicon Valley land grab.\n",
    "\n",
    "The internet company spent $1 billion on a large office park near its headquarters in Mountain View, California, according to the Mercury News, and has now spent at least $2.8 billion on properties in Mountain View, Sunnyvale and San Jose over the last two years.\n",
    "In this case, Google is purchasing property that it's already been leasing. The company is the main tenant of the 12 buildings that comprise the 51.8-acre Shoreline Technology Park.\n",
    "\n",
    "Google declined to comment on its purchase.\n",
    "\n",
    "Earlier this month, Google agreed to pay an additional $110 million for 10.5 acres for a new campus in downtown San Jose, with the possibility of buying about 11 more acres. The city will vote on the plans in early December.\n",
    "It's also been a big year for Google property purchases outside of Silicon Valley.\n",
    "\n",
    "In the first quarter, the company spent $2.4 billion to buy New York City's Chelsea Market. Chief Financial Officer Ruth Porat said that the company favors \"owning rather than leasing real estate when we see good opportunities.\"\n",
    "\n",
    "As for leases, Google just signed on for a massive new space in downtown San Francisco.\"\"\"\n",
    "]\n",
    "\n",
    "class stop_loop(Exception): pass\n",
    "\n",
    "def qualifier_value(money_txt):\n",
    "    money_doc = nlp(str(money_txt))\n",
    "    pos_list = [token.pos_ for token in money_doc]\n",
    "    money_list = [token.text for token in money_doc]\n",
    "    money_start = min(loc for loc, pos in enumerate(pos_list) if (pos == 'SYM' or pos == 'NUM'))\n",
    "    qualifier = ' '.join(money_list[:money_start])\n",
    "    value = ' '.join(money_list[money_start:])\n",
    "    return qualifier, value\n",
    "    \n",
    "\n",
    "def extract_currency_relations(doc):\n",
    "    # merge entities and noun chunks into one token\n",
    "    spans = list(doc.ents) + list(doc.noun_chunks)\n",
    "    for span in spans:\n",
    "        span.merge()\n",
    "\n",
    "    relations = []\n",
    "    for money in filter(lambda w: w.ent_type_ == 'MONEY', doc):\n",
    "        try:\n",
    "            # syntactic relationship 1\n",
    "            advcl = [w for w in money.head.children if w.dep_ == 'advcl']\n",
    "            if advcl:\n",
    "                for child in advcl[0].children:\n",
    "                    if child.dep_ == 'dobj':\n",
    "                        parse_type = 1\n",
    "                        qual, val = qualifier_value(money.text)\n",
    "                        relations.append((qual, val, child, parse_type))\n",
    "                        raise stop_loop()\n",
    "                        \n",
    "            # syntactic relationship 2\n",
    "            cprep = [w for w in money.children if w.dep_ == 'prep']\n",
    "            if cprep:\n",
    "                for child in cprep[0].children:\n",
    "                    if child.dep_ == 'pobj':\n",
    "                        parse_type = 2\n",
    "                        qual, val = qualifier_value(money.text)\n",
    "                        relations.append((qual, val, child, parse_type))\n",
    "                        raise stop_loop()\n",
    "            \n",
    "            # syntactic relationship 3\n",
    "            hprep = [w for w in money.head.children if w.dep_ == 'prep']\n",
    "            if hprep:\n",
    "                for child in hprep[0].children:\n",
    "                    if child.dep_ == 'pobj':\n",
    "                        parse_type = 3\n",
    "                        qual, val = qualifier_value(money.text)\n",
    "                        relations.append((qual, val, child, parse_type))\n",
    "                        raise stop_loop()\n",
    "                        \n",
    "            # syntactic relationship 4\n",
    "            if money.dep_ in ('attr', 'dobj'):\n",
    "                subject = [w for w in money.head.lefts if w.dep_ == 'nsubj']\n",
    "                if subject:\n",
    "                    parse_type = 4\n",
    "                    subject = subject[0]\n",
    "                    qual, val = qualifier_value(money.text)\n",
    "                    relations.append((qual, val, subject, parse_type))\n",
    "                    raise stop_loop()\n",
    "                    \n",
    "            # syntactic relationship 5\n",
    "            elif money.dep_ == 'pobj' and money.head.dep_ == 'prep':\n",
    "                parse_type = 5\n",
    "                qual, val = qualifier_value(money.text)\n",
    "                relations.append((qual, val, money.head.head, parse_type))\n",
    "                raise stop_loop()\n",
    "                \n",
    "        except stop_loop:\n",
    "            pass\n",
    "                 \n",
    "    return relations\n",
    "\n",
    "df = pd.DataFrame(columns='QUALIFIER VALUE ASSET'.split())\n",
    "\n",
    "for text in TEXTS:\n",
    "    print(text)\n",
    "    #doc = nlp(unicode(text, 'utf-8'))\n",
    "    doc = nlp(str(text))\n",
    "    relations = extract_currency_relations(doc)\n",
    "    for r0, r1, r2, r3 in relations:\n",
    "        relation_dict = {'QUALIFIER':r0, 'VALUE':r1, 'ASSET':r2.text}\n",
    "        #relation_dict = {'MONETARY_VALUE':r2.text, 'ASSET':r1.text}\n",
    "        df = df.append(relation_dict, ignore_index=True)\n",
    "        #print('{:<10}\\t{}\\t{}'.format(r1.text, r2.ent_type_, r2.text))\n",
    "    #print('\\n')\n",
    "\n",
    "display(HTML(df.to_html(index=False)))\n"
   ]
  },
  {
   "cell_type": "code",
   "execution_count": 10,
   "metadata": {},
   "outputs": [
    {
     "data": {
      "text/html": [
       "<table border=\"1\" class=\"dataframe\">\n",
       "  <thead>\n",
       "    <tr style=\"text-align: right;\">\n",
       "      <th>QUALIFIER</th>\n",
       "      <th>VALUE</th>\n",
       "      <th>ASSET</th>\n",
       "    </tr>\n",
       "  </thead>\n",
       "  <tbody>\n",
       "    <tr>\n",
       "      <td></td>\n",
       "      <td>1000000000</td>\n",
       "      <td>a large office park</td>\n",
       "    </tr>\n",
       "    <tr>\n",
       "      <td>at least</td>\n",
       "      <td>2800000000</td>\n",
       "      <td>properties</td>\n",
       "    </tr>\n",
       "    <tr>\n",
       "      <td>an additional</td>\n",
       "      <td>110000000</td>\n",
       "      <td>10.5 acres</td>\n",
       "    </tr>\n",
       "    <tr>\n",
       "      <td></td>\n",
       "      <td>2400000000</td>\n",
       "      <td>New York City's Chelsea Market</td>\n",
       "    </tr>\n",
       "  </tbody>\n",
       "</table>"
      ],
      "text/plain": [
       "<IPython.core.display.HTML object>"
      ]
     },
     "metadata": {},
     "output_type": "display_data"
    }
   ],
   "source": [
    "# Convert monetary values to integer using regex substitution\n",
    "\n",
    "import re\n",
    "\n",
    "int_values = []\n",
    "for text_value in df['VALUE']:\n",
    "    if 'million' in text_value:\n",
    "        money_expr = re.sub('million', '*1000000', text_value.strip())\n",
    "    elif 'billion' in text_value:\n",
    "        money_expr = re.sub('billion', '*1000000000', text_value.strip())\n",
    "    money_expr = re.sub(r'\\$', '', money_expr)\n",
    "    money_int = eval(money_expr)\n",
    "    int_values.append(int(money_int))\n",
    "    \n",
    "df = df.assign(VALUE=int_values)\n",
    "\n",
    "display(HTML(df.to_html(index=False)))"
   ]
  },
  {
   "cell_type": "markdown",
   "metadata": {},
   "source": [
    "## textacy \n",
    "https://chartbeat-labs.github.io/textacy/index.html\n",
    "\n",
    "textacy builds upon spaCy's framework and provides convenient functions for many advanced NLP tools. textacy also performs basic text feature counts and computes several readability measures. "
   ]
  },
  {
   "cell_type": "code",
   "execution_count": 11,
   "metadata": {},
   "outputs": [
    {
     "name": "stdout",
     "output_type": "stream",
     "text": [
      "Requirement already satisfied: nltk in /home/rwn8669/.conda/envs/conda_venv/lib/python3.6/site-packages (3.3)\n",
      "Requirement already satisfied: six in /home/rwn8669/.conda/envs/conda_venv/lib/python3.6/site-packages (from nltk) (1.11.0)\n",
      "\u001b[31mfitz 0.0.1.dev2 requires configobj, which is not installed.\u001b[0m\n",
      "\u001b[31mtwisted 18.7.0 requires PyHamcrest>=1.9.0, which is not installed.\u001b[0m\n",
      "\u001b[33mYou are using pip version 10.0.1, however version 20.0.2 is available.\n",
      "You should consider upgrading via the 'pip install --upgrade pip' command.\u001b[0m\n",
      "Requirement already satisfied: textacy in /home/rwn8669/.conda/envs/conda_venv/lib/python3.6/site-packages (0.9.1)\n",
      "Requirement already satisfied: jellyfish>=0.7.0 in /home/rwn8669/.conda/envs/conda_venv/lib/python3.6/site-packages (from textacy) (0.7.2)\n",
      "Requirement already satisfied: cytoolz>=0.8.0 in /home/rwn8669/.conda/envs/conda_venv/lib/python3.6/site-packages (from textacy) (0.9.0.1)\n",
      "Requirement already satisfied: joblib>=0.13.0 in /home/rwn8669/.conda/envs/conda_venv/lib/python3.6/site-packages (from textacy) (0.14.1)\n",
      "Requirement already satisfied: networkx>=2.0 in /home/rwn8669/.conda/envs/conda_venv/lib/python3.6/site-packages (from textacy) (2.1)\n",
      "Requirement already satisfied: spacy>=2.0.12 in /home/rwn8669/.conda/envs/conda_venv/lib/python3.6/site-packages (from textacy) (2.2.3)\n",
      "Requirement already satisfied: cachetools>=2.0.1 in /home/rwn8669/.conda/envs/conda_venv/lib/python3.6/site-packages (from textacy) (3.0.0)\n",
      "Requirement already satisfied: scikit-learn>=0.19.0 in /home/rwn8669/.conda/envs/conda_venv/lib/python3.6/site-packages (from textacy) (0.19.2)\n",
      "Requirement already satisfied: pyemd>=0.5.0 in /home/rwn8669/.conda/envs/conda_venv/lib/python3.6/site-packages (from textacy) (0.5.1)\n",
      "Requirement already satisfied: requests>=2.10.0 in /home/rwn8669/.local/lib/python3.6/site-packages (from textacy) (2.22.0)\n",
      "Requirement already satisfied: tqdm>=4.19.6 in /home/rwn8669/.conda/envs/conda_venv/lib/python3.6/site-packages (from textacy) (4.26.0)\n",
      "Requirement already satisfied: pyphen>=0.9.4 in /home/rwn8669/.conda/envs/conda_venv/lib/python3.6/site-packages (from textacy) (0.9.5)\n",
      "Requirement already satisfied: scipy>=0.17.0 in /home/rwn8669/.conda/envs/conda_venv/lib/python3.6/site-packages (from textacy) (1.1.0)\n",
      "Requirement already satisfied: srsly>=0.0.5 in /home/rwn8669/.conda/envs/conda_venv/lib/python3.6/site-packages (from textacy) (1.0.1)\n",
      "Requirement already satisfied: numpy>=1.17.0 in /home/rwn8669/.conda/envs/conda_venv/lib/python3.6/site-packages (from textacy) (1.18.1)\n",
      "Requirement already satisfied: toolz>=0.8.0 in /home/rwn8669/.conda/envs/conda_venv/lib/python3.6/site-packages (from cytoolz>=0.8.0->textacy) (0.9.0)\n",
      "Requirement already satisfied: decorator>=4.1.0 in /home/rwn8669/.conda/envs/conda_venv/lib/python3.6/site-packages (from networkx>=2.0->textacy) (4.3.0)\n",
      "Requirement already satisfied: setuptools in /home/rwn8669/.conda/envs/conda_venv/lib/python3.6/site-packages (from spacy>=2.0.12->textacy) (40.2.0)\n",
      "Requirement already satisfied: catalogue<1.1.0,>=0.0.7 in /home/rwn8669/.conda/envs/conda_venv/lib/python3.6/site-packages (from spacy>=2.0.12->textacy) (1.0.0)\n",
      "Requirement already satisfied: murmurhash<1.1.0,>=0.28.0 in /home/rwn8669/.conda/envs/conda_venv/lib/python3.6/site-packages (from spacy>=2.0.12->textacy) (1.0.2)\n",
      "Requirement already satisfied: wasabi<1.1.0,>=0.4.0 in /home/rwn8669/.conda/envs/conda_venv/lib/python3.6/site-packages (from spacy>=2.0.12->textacy) (0.6.0)\n",
      "Requirement already satisfied: preshed<3.1.0,>=3.0.2 in /home/rwn8669/.conda/envs/conda_venv/lib/python3.6/site-packages (from spacy>=2.0.12->textacy) (3.0.2)\n",
      "Requirement already satisfied: plac<1.2.0,>=0.9.6 in /home/rwn8669/.conda/envs/conda_venv/lib/python3.6/site-packages (from spacy>=2.0.12->textacy) (1.1.3)\n",
      "Requirement already satisfied: cymem<2.1.0,>=2.0.2 in /home/rwn8669/.conda/envs/conda_venv/lib/python3.6/site-packages (from spacy>=2.0.12->textacy) (2.0.3)\n",
      "Requirement already satisfied: thinc<7.4.0,>=7.3.0 in /home/rwn8669/.conda/envs/conda_venv/lib/python3.6/site-packages (from spacy>=2.0.12->textacy) (7.3.1)\n",
      "Requirement already satisfied: blis<0.5.0,>=0.4.0 in /home/rwn8669/.conda/envs/conda_venv/lib/python3.6/site-packages (from spacy>=2.0.12->textacy) (0.4.1)\n",
      "Requirement already satisfied: chardet<3.1.0,>=3.0.2 in /home/rwn8669/.local/lib/python3.6/site-packages (from requests>=2.10.0->textacy) (3.0.4)\n",
      "Requirement already satisfied: idna<2.9,>=2.5 in /home/rwn8669/.local/lib/python3.6/site-packages (from requests>=2.10.0->textacy) (2.8)\n",
      "Requirement already satisfied: certifi>=2017.4.17 in /home/rwn8669/.local/lib/python3.6/site-packages (from requests>=2.10.0->textacy) (2019.11.28)\n",
      "Requirement already satisfied: urllib3!=1.25.0,!=1.25.1,<1.26,>=1.21.1 in /home/rwn8669/.local/lib/python3.6/site-packages (from requests>=2.10.0->textacy) (1.25.8)\n",
      "Requirement already satisfied: importlib-metadata>=0.20; python_version < \"3.8\" in /home/rwn8669/.conda/envs/conda_venv/lib/python3.6/site-packages (from catalogue<1.1.0,>=0.0.7->spacy>=2.0.12->textacy) (1.4.0)\n",
      "Requirement already satisfied: zipp>=0.5 in /home/rwn8669/.conda/envs/conda_venv/lib/python3.6/site-packages (from importlib-metadata>=0.20; python_version < \"3.8\"->catalogue<1.1.0,>=0.0.7->spacy>=2.0.12->textacy) (2.1.0)\n",
      "\u001b[31mfitz 0.0.1.dev2 requires configobj, which is not installed.\u001b[0m\n",
      "\u001b[31mtwisted 18.7.0 requires PyHamcrest>=1.9.0, which is not installed.\u001b[0m\n",
      "\u001b[33mYou are using pip version 10.0.1, however version 20.0.2 is available.\n",
      "You should consider upgrading via the 'pip install --upgrade pip' command.\u001b[0m\n"
     ]
    }
   ],
   "source": [
    "!pip install nltk \n",
    "!pip install textacy"
   ]
  },
  {
   "cell_type": "code",
   "execution_count": 12,
   "metadata": {},
   "outputs": [
    {
     "name": "stdout",
     "output_type": "stream",
     "text": [
      "[nltk_data] Downloading package inaugural to\n",
      "[nltk_data]     /home/rwn8669/nltk_data...\n",
      "[nltk_data]   Package inaugural is already up-to-date!\n"
     ]
    },
    {
     "data": {
      "text/plain": [
       "True"
      ]
     },
     "execution_count": 12,
     "metadata": {},
     "output_type": "execute_result"
    }
   ],
   "source": [
    "# perform topic model of Presidental Inaugural addresses\n",
    "# download speeches from nltk\n",
    "\n",
    "import nltk\n",
    "nltk.download('inaugural')"
   ]
  },
  {
   "cell_type": "code",
   "execution_count": 4,
   "metadata": {},
   "outputs": [
    {
     "name": "stdout",
     "output_type": "stream",
     "text": [
      "2009-Obama.txt\n",
      "My fellow citizens:\n",
      "\n",
      "I stand here today humbled by the task before us, grateful for the trust you have bestowed, mindful of the sacrifices borne by our ancestors. I thank President Bush for his service to our nation, as well as the generosity and cooperation he has shown throughout this transition.\n",
      "\n",
      "Forty-four Americans have now taken the presidential oath. The words have been spoken during rising tides of prosperity and the still waters of peace. Yet, every so often the oath is taken amidst gathering clouds and raging storms. At these moments, America has carried on not simply because of the skill or vision of those in high office, but because We the People have remained faithful to the ideals of our forbearers, and true to our founding documents.\n",
      "\n",
      "So it has been. So it must be with this generation of Americans.\n",
      "\n",
      "That we are in the midst of crisis is now well understood. Our nation is at war, against a far-reaching network of violence and hatred. Our economy is badly weakened, a consequence of greed and irresponsibility on the part of some, but also our collective failure to make hard choices and prepare the nation for a new age. Homes have been lost; jobs shed; businesses shuttered. Our health care is too costly; our schools fail too many; and each day brings further evidence that the ways we use energy strengthen our adversaries and threaten our planet.\n",
      "\n"
     ]
    }
   ],
   "source": [
    "# get collect measures from Obama's inaugural address\n",
    "\n",
    "# import the inaugural addresses\n",
    "from nltk.corpus import inaugural\n",
    "\n",
    "names = inaugural.fileids()\n",
    "name = names[-1]\n",
    "print(name)\n",
    "\n",
    "filetext = inaugural.raw(fileids=name)\n",
    "doc = nlp(filetext)\n",
    "\n",
    "# print first ten lines as sample\n",
    "for line in filetext.splitlines()[:10]:print(line)"
   ]
  },
  {
   "cell_type": "code",
   "execution_count": null,
   "metadata": {
    "collapsed": true
   },
   "outputs": [],
   "source": [
    "# import textacy package\n",
    "\n",
    "import textacy\n",
    "\n",
    "# compute counts and readability stats\n",
    "ts = textacy.TextStats(doc)\n",
    "\n",
    "print('Unique words')\n",
    "print(ts.n_unique_words)\n",
    "print('-----------------')\n",
    "print('Basic counts')\n",
    "print(ts.basic_counts)\n",
    "print('-----------------')\n",
    "print('Readabiltiy stats')\n",
    "print(ts.readability_stats)\n",
    "\n"
   ]
  },
  {
   "cell_type": "code",
   "execution_count": 10,
   "metadata": {},
   "outputs": [
    {
     "data": {
      "text/plain": [
       "Text(0,0.5,'grade level')"
      ]
     },
     "execution_count": 10,
     "metadata": {},
     "output_type": "execute_result"
    },
    {
     "data": {
      "image/png": "[encoded data removed]",
      "text/plain": [
       "<Figure size 432x288 with 1 Axes>"
      ]
     },
     "metadata": {
      "needs_background": "light"
     },
     "output_type": "display_data"
    }
   ],
   "source": [
    "%matplotlib inline\n",
    "\n",
    "# plot inaugural speech grade-level over time\n",
    "import matplotlib.pyplot as pyplot\n",
    "\n",
    "years = []\n",
    "grade_lvls = []\n",
    "for name in names:\n",
    "    filetext = inaugural.raw(fileids=name)\n",
    "    year = int(name.split('-')[0])\n",
    "    years.append(year)\n",
    "    \n",
    "    doc = nlp(filetext)\n",
    "    ts = textacy.TextStats(doc)\n",
    "    grade_lvl = ts.readability_stats['flesch_kincaid_grade_level']\n",
    "    grade_lvls.append(grade_lvl)\n",
    "\n",
    "pyplot.plot(years, grade_lvls, 'bo')\n",
    "pyplot.xlabel('year')\n",
    "pyplot.ylabel('grade level')"
   ]
  },
  {
   "cell_type": "code",
   "execution_count": 26,
   "metadata": {},
   "outputs": [
    {
     "name": "stdout",
     "output_type": "stream",
     "text": [
      "[u'1789-Washington.txt', u'1793-Washington.txt', u'1797-Adams.txt', u'1801-Jefferson.txt', u'1805-Jefferson.txt', u'1809-Madison.txt', u'1813-Madison.txt', u'1817-Monroe.txt', u'1821-Monroe.txt', u'1825-Adams.txt', u'1829-Jackson.txt', u'1833-Jackson.txt', u'1837-VanBuren.txt', u'1841-Harrison.txt', u'1845-Polk.txt', u'1849-Taylor.txt', u'1853-Pierce.txt', u'1857-Buchanan.txt', u'1861-Lincoln.txt', u'1865-Lincoln.txt', u'1869-Grant.txt', u'1873-Grant.txt', u'1877-Hayes.txt', u'1881-Garfield.txt', u'1885-Cleveland.txt', u'1889-Harrison.txt', u'1893-Cleveland.txt', u'1897-McKinley.txt', u'1901-McKinley.txt', u'1905-Roosevelt.txt', u'1909-Taft.txt', u'1913-Wilson.txt', u'1917-Wilson.txt', u'1921-Harding.txt', u'1925-Coolidge.txt', u'1929-Hoover.txt', u'1933-Roosevelt.txt', u'1937-Roosevelt.txt', u'1941-Roosevelt.txt', u'1945-Roosevelt.txt', u'1949-Truman.txt', u'1953-Eisenhower.txt', u'1957-Eisenhower.txt', u'1961-Kennedy.txt', u'1965-Johnson.txt', u'1969-Nixon.txt', u'1973-Nixon.txt', u'1977-Carter.txt', u'1981-Reagan.txt', u'1985-Reagan.txt', u'1989-Bush.txt', u'1993-Clinton.txt', u'1997-Clinton.txt', u'2001-Bush.txt', u'2005-Bush.txt', u'2009-Obama.txt']\n"
     ]
    }
   ],
   "source": [
    "# Use spaCy to generate list of terms from corpus of documents\n",
    "import os\n",
    "import textacy\n",
    "from spacy.lang.en.stop_words import STOP_WORDS\n",
    "\n",
    "# import the inaugural addresses\n",
    "from nltk.corpus import inaugural\n",
    "\n",
    "names = inaugural.fileids()\n",
    "print(names)\n",
    "\n",
    "terms_list = []\n",
    "\n",
    "for name in names:\n",
    "    filetext = inaugural.raw(fileids=name)\n",
    "    doc = nlp(filetext)\n",
    "    terms_list.append([token.lemma_ for token in doc if token.text.lower() not in STOP_WORDS and token.text.isalnum()])\n"
   ]
  },
  {
   "cell_type": "markdown",
   "metadata": {},
   "source": [
    "## Topic modeling with spaCy and textacy\n",
    "\n",
    "Topic models can provide a means to analyze and categorize a corpus of texts. Topics often refer to clusters of words that frequently occur together. "
   ]
  },
  {
   "cell_type": "code",
   "execution_count": null,
   "metadata": {
    "collapsed": true
   },
   "outputs": [],
   "source": [
    "# Use spaCy to generate list of terms from corpus of documents\n",
    "import os\n",
    "import textacy\n",
    "from spacy.lang.en.stop_words import STOP_WORDS\n",
    "\n",
    "# import the inaugural addresses\n",
    "from nltk.corpus import inaugural\n",
    "\n",
    "names = inaugural.fileids()\n",
    "print(names)\n",
    "\n",
    "# create list of terms from token lemmas in texts\n",
    "terms_list = []\n",
    "\n",
    "for name in names:\n",
    "    filetext = inaugural.raw(fileids=name)\n",
    "    doc = nlp(filetext)\n",
    "    terms_list.append([token.lemma_ for token in doc if token.text.lower() not in STOP_WORDS and token.text.isalnum()])\n"
   ]
  },
  {
   "cell_type": "code",
   "execution_count": 11,
   "metadata": {},
   "outputs": [
    {
     "name": "stdout",
     "output_type": "stream",
     "text": [
      "======================model=================\n",
      "TopicModel(n_topics=20, model=NMF)\n",
      "('topic', 0, ':', u'government   union   states   texas   revenue   power   constitution   protection   extend   interest')\n",
      "('topic', 1, ':', u'america   new   let   nation   world   century   today   time   promise   child')\n",
      "(0, 0.02670888606815352)\n",
      "(1, 0.09806385019270215)\n",
      "(2, 0.038580696846285345)\n",
      "(3, 0.04688088439967463)\n",
      "(4, 0.041915832910233396)\n",
      "(5, 0.04128349413025342)\n",
      "(6, 0.03869926246823957)\n",
      "(7, 0.03984167814001792)\n",
      "(8, 0.04178108170691892)\n",
      "(9, 0.042771260463757885)\n",
      "(10, 0.05805346495453704)\n",
      "(11, 0.047667524952166924)\n",
      "(12, 0.04974217557860261)\n",
      "(13, 0.05207972677653405)\n",
      "(14, 0.054501953801617625)\n",
      "(15, 0.039055342582997137)\n",
      "(16, 0.056759474881363875)\n",
      "(17, 0.0593012819775912)\n",
      "(18, 0.06710291543866406)\n",
      "(19, 0.059209211729688745)\n"
     ]
    },
    {
     "data": {
      "image/png": "[encoded data removed]",
      "text/plain": [
       "<Figure size 790.964x602.522 with 1 Axes>"
      ]
     },
     "metadata": {},
     "output_type": "display_data"
    }
   ],
   "source": [
    "%matplotlib inline\n",
    "import matplotlib\n",
    " \n",
    "# create word vectors from speech terms\n",
    "import textacy\n",
    "from textacy.vsm import Vectorizer\n",
    "\n",
    "vectorizer = Vectorizer(tf_type='linear', apply_idf=True, idf_type='smooth')\n",
    "doc_term_matrix = vectorizer.fit_transform(terms_list)\n",
    "\n",
    "#initialize and train a topic model:\n",
    "model = textacy.tm.TopicModel('nmf', n_topics=20)\n",
    "model.fit(doc_term_matrix)\n",
    "\n",
    "print (\"======================model=================\")\n",
    "print (model)\n",
    " \n",
    "doc_topic_matrix = model.transform(doc_term_matrix)\n",
    "for topic_idx, top_terms in model.top_topic_terms(vectorizer.id_to_term, topics=[0,1]):\n",
    "    print('topic', topic_idx, ':', '   '.join(top_terms))\n",
    "    \n",
    "for i, val in enumerate(model.topic_weights(doc_topic_matrix)):\n",
    "     print(i, val)\n",
    "           \n",
    "model.termite_plot(doc_term_matrix, vectorizer.id_to_term, topics=-1,  n_terms=25, sort_terms_by='seriation')  \n",
    "model.save('nmf-25topics_inaugural.pkl')        \n"
   ]
  },
  {
   "cell_type": "markdown",
   "metadata": {},
   "source": [
    "## Semantic networks\n",
    "\n",
    "Represent documents as semantic networks, where nodes are individual terms or whole sentences and edges are weighted by the strength of their co-occurrence or similarity, respectively. This allows the determination of relatedness between either terms or sentences."
   ]
  },
  {
   "cell_type": "code",
   "execution_count": null,
   "metadata": {
    "collapsed": true
   },
   "outputs": [],
   "source": [
    "# Semantic networks\n",
    "import textacy.keyterms\n",
    "\n",
    "text = 'The quick brown fox jumped over the lazy dog. The cow jumped over the moon. The dish ran away with the spoon.'\n",
    "\n",
    "doc = textacy.Doc(unicode(text), lang= nlp)\n",
    "ng = doc.to_semantic_network()\n",
    "#textacy.viz.network.draw_semantic_network(ng)"
   ]
  },
  {
   "cell_type": "markdown",
   "metadata": {},
   "source": [
    "## And much much more...\n",
    "https://spacy.io/usage/linguistic-features"
   ]
  },
  {
   "cell_type": "code",
   "execution_count": null,
   "metadata": {
    "collapsed": true
   },
   "outputs": [],
   "source": []
  }
 ],
 "metadata": {
  "kernelspec": {
   "display_name": "Python 3",
   "language": "python",
   "name": "python3"
  },
  "language_info": {
   "codemirror_mode": {
    "name": "ipython",
    "version": 3
   },
   "file_extension": ".py",
   "mimetype": "text/x-python",
   "name": "python",
   "nbconvert_exporter": "python",
   "pygments_lexer": "ipython3",
   "version": "3.6.6"
  }
 },
 "nbformat": 4,
 "nbformat_minor": 2
}
