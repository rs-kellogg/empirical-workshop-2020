{
 "cells": [
  {
   "cell_type": "markdown",
   "metadata": {},
   "source": [
    "# Data Inspection"
   ]
  },
  {
   "cell_type": "markdown",
   "metadata": {},
   "source": [
    "The  processs of data inspection involves testing your assumptions about your dataset. This includes validation of data values, verification of data structure, examining data distributions, among other dataset properties.\n",
    "\n",
    "Anticipating and testing for the ways in which your data could be flawed should be among the first steps in your workflow after data collection. Scripting any corrections made to your dataset will be important for the reproducibility of your findings."
   ]
  },
  {
   "cell_type": "markdown",
   "metadata": {},
   "source": [
    "### Install necessary packages"
   ]
  },
  {
   "cell_type": "code",
   "execution_count": null,
   "metadata": {},
   "outputs": [],
   "source": [
    "! pip install --user geopy\n",
    "! pip install --upgrade pandas"
   ]
  },
  {
   "cell_type": "markdown",
   "metadata": {},
   "source": [
    "### Dataframes:\n",
    "- Part of the pandas data analysis package (https://pandas.pydata.org/)\n",
    "- Two-dimensional size-mutable, potentially heterogeneous tabular data structure with labeled axes (rows and columns)."
   ]
  },
  {
   "cell_type": "code",
   "execution_count": null,
   "metadata": {},
   "outputs": [],
   "source": [
    "import pandas as pd\n",
    "import warnings\n",
    "warnings.filterwarnings('ignore')"
   ]
  },
  {
   "cell_type": "markdown",
   "metadata": {},
   "source": [
    "### Load FEC contribution data and import data into dataframe\n",
    "- This dataset contains individual and organizational contributions to political action committees during 2015 and 2016\n",
    "- Goal: create dataset of contributions from individuals from the US. Data is to be used in a zip code level analysis of financial support and political affiliation."
   ]
  },
  {
   "cell_type": "code",
   "execution_count": null,
   "metadata": {},
   "outputs": [],
   "source": [
    "donation_df = pd.read_csv('contributions2015_2016.txt', delimiter='|', nrows=5000000)"
   ]
  },
  {
   "cell_type": "code",
   "execution_count": null,
   "metadata": {},
   "outputs": [],
   "source": [
    "donation_df.head()"
   ]
  },
  {
   "cell_type": "markdown",
   "metadata": {},
   "source": [
    "### Create dataframe with only columns of interest"
   ]
  },
  {
   "cell_type": "code",
   "execution_count": null,
   "metadata": {},
   "outputs": [],
   "source": [
    "d_df=donation_df[['ENTITY_TP','NAME','CITY','STATE','ZIP_CODE','EMPLOYER','TRANSACTION_AMT','Year','CMTE_PTY_AFFILIATION']]"
   ]
  },
  {
   "cell_type": "code",
   "execution_count": null,
   "metadata": {},
   "outputs": [],
   "source": [
    "d_df.head()"
   ]
  },
  {
   "cell_type": "markdown",
   "metadata": {},
   "source": [
    "### Validate transaction amounts"
   ]
  },
  {
   "cell_type": "code",
   "execution_count": null,
   "metadata": {},
   "outputs": [],
   "source": [
    "# Validate for positive transaction amounts\n",
    "trans_validate = d_df['TRANSACTION_AMT'] < 0\n",
    "sum(trans_validate)"
   ]
  },
  {
   "cell_type": "code",
   "execution_count": null,
   "metadata": {},
   "outputs": [],
   "source": [
    "neg_df = d_df[d_df['TRANSACTION_AMT'] < 0]\n",
    "neg_df.head()"
   ]
  },
  {
   "cell_type": "markdown",
   "metadata": {},
   "source": [
    "### Limit dataset to individual contributions for 2016"
   ]
  },
  {
   "cell_type": "code",
   "execution_count": null,
   "metadata": {
    "scrolled": true
   },
   "outputs": [],
   "source": [
    "ind_df = d_df[(d_df['ENTITY_TP'] == 'IND') & (d_df['TRANSACTION_AMT'] > 0) \n",
    "                     & (d_df['Year'] == 2016)]\n",
    "ind_df.head()"
   ]
  },
  {
   "cell_type": "markdown",
   "metadata": {},
   "source": [
    "### Examine data structure and data types"
   ]
  },
  {
   "cell_type": "code",
   "execution_count": null,
   "metadata": {},
   "outputs": [],
   "source": [
    "ind_df.shape"
   ]
  },
  {
   "cell_type": "code",
   "execution_count": null,
   "metadata": {
    "scrolled": true
   },
   "outputs": [],
   "source": [
    "ind_df.info(verbose=True)"
   ]
  },
  {
   "cell_type": "markdown",
   "metadata": {},
   "source": [
    "### Validate zipcodes with regex and normalize to five digits"
   ]
  },
  {
   "cell_type": "code",
   "execution_count": null,
   "metadata": {},
   "outputs": [],
   "source": [
    "# Validate zipcode as five digit number\n",
    "zip_validate = ind_df['ZIP_CODE'].str.match(r'^\\d{5}$').astype(bool)\n",
    "print(sum(zip_validate))\n",
    "print(len(zip_validate))"
   ]
  },
  {
   "cell_type": "code",
   "execution_count": null,
   "metadata": {},
   "outputs": [],
   "source": [
    "# Non-five digit zipcodes\n",
    "ext_zip_df = ind_df[ind_df['ZIP_CODE'].str.match(r'^\\d{5}$').astype(bool) == False]\n",
    "ext_zip_df.head()"
   ]
  },
  {
   "cell_type": "markdown",
   "metadata": {},
   "source": [
    "### Create pandas series with first five characters of zip code field"
   ]
  },
  {
   "cell_type": "code",
   "execution_count": null,
   "metadata": {},
   "outputs": [],
   "source": [
    "five_zip = ind_df['ZIP_CODE'].apply(str).str[:5]\n",
    "five_zip[:9]"
   ]
  },
  {
   "cell_type": "code",
   "execution_count": null,
   "metadata": {},
   "outputs": [],
   "source": [
    "ind_df.drop(columns=['ZIP_CODE'])\n",
    "ind_df['ZIP_CODE'] = five_zip\n",
    "print(ind_df.shape)\n",
    "ind_df.head()"
   ]
  },
  {
   "cell_type": "code",
   "execution_count": null,
   "metadata": {},
   "outputs": [],
   "source": [
    "# Non-five digit zipcodes\n",
    "ext_zip_df = ind_df[ind_df['ZIP_CODE'].str.match(r'^\\d{5}$').astype(bool) == False]\n",
    "ext_zip_df.head()"
   ]
  },
  {
   "cell_type": "code",
   "execution_count": null,
   "metadata": {},
   "outputs": [],
   "source": [
    "# reduce dataframe to only valid us zip codes\n",
    "ind_df=ind_df[ind_df['ZIP_CODE'].str.match(r'^\\d{5}$').astype(bool)]\n",
    "ind_df.shape"
   ]
  },
  {
   "cell_type": "markdown",
   "metadata": {},
   "source": [
    "### Save clean data to file"
   ]
  },
  {
   "cell_type": "code",
   "execution_count": null,
   "metadata": {},
   "outputs": [],
   "source": [
    "ind_df.to_csv(\"fec_clean.csv\", index=False)"
   ]
  },
  {
   "cell_type": "markdown",
   "metadata": {},
   "source": [
    "## Reshaping data"
   ]
  },
  {
   "cell_type": "markdown",
   "metadata": {},
   "source": [
    "Principles of tidy data organization\n",
    "(https://vita.had.co.nz/papers/tidy-data.pdf)\n",
    "\n",
    "\n",
    "Each variable must have its own column.\n",
    "Each observation must have its own row.\n",
    "Each value must have its own cell.\n",
    "\n",
    "Python Tidyverse implementation: dplython (https://itsalocke.com/blog/python-and-tidyverse/)"
   ]
  },
  {
   "cell_type": "markdown",
   "metadata": {},
   "source": [
    "#### Restructuring dataset: Gapminder (https://www.gapminder.org/) GDP per country 1952-2007"
   ]
  },
  {
   "cell_type": "code",
   "execution_count": null,
   "metadata": {},
   "outputs": [],
   "source": [
    "data_url = \"https://goo.gl/ioc2Td\"\n",
    "gapminder = pd.read_csv(data_url)\n",
    "print(gapminder.tail(3))"
   ]
  },
  {
   "cell_type": "markdown",
   "metadata": {},
   "source": [
    "### Select only GDP columns using regex"
   ]
  },
  {
   "cell_type": "code",
   "execution_count": null,
   "metadata": {},
   "outputs": [],
   "source": [
    "gdp_df = gapminder.loc[:, gapminder.columns.str.contains('^gdp|^c')]\n",
    "print(gdp_df.head(n=3))"
   ]
  },
  {
   "cell_type": "markdown",
   "metadata": {},
   "source": [
    "### Tidy the dataset"
   ]
  },
  {
   "cell_type": "code",
   "execution_count": null,
   "metadata": {},
   "outputs": [],
   "source": [
    "tidy_df = gdp_df.melt(id_vars=[\"continent\", \"country\"], \n",
    "                              var_name=\"year\", \n",
    "                              value_name=\"gdp\")\n",
    "tidy_df.head(n=10)"
   ]
  },
  {
   "cell_type": "markdown",
   "metadata": {},
   "source": [
    "### Normalize year value to digits"
   ]
  },
  {
   "cell_type": "code",
   "execution_count": null,
   "metadata": {},
   "outputs": [],
   "source": [
    "years = tidy_df['year'].apply(str).str[10:].apply(int)\n",
    "tidy_df.drop(columns=['year'])\n",
    "tidy_df['year'] = years\n",
    "print(tidy_df.shape)\n",
    "tidy_df.head()"
   ]
  }
 ],
 "metadata": {
  "kernelspec": {
   "display_name": "Python 3",
   "language": "python",
   "name": "python3"
  },
  "language_info": {
   "codemirror_mode": {
    "name": "ipython",
    "version": 3
   },
   "file_extension": ".py",
   "mimetype": "text/x-python",
   "name": "python",
   "nbconvert_exporter": "python",
   "pygments_lexer": "ipython3",
   "version": "3.8.1"
  }
 },
 "nbformat": 4,
 "nbformat_minor": 2
}
