{
 "cells": [
  {
   "cell_type": "markdown",
   "metadata": {},
   "source": [
    "# <font color=blue>_Scraping Kellogg Faculty Pages_.</font>\n",
    "\n",
    "## Task - Extract data from Kellogg Faculty Index\n",
    "From the Kellogg Faculty Directory, we will extract each faculty member's name, website, position using both __Beautiful Soup__ and __Selenium__ Libraries in python.\n",
    "\n",
    "## <font color=blue>Step 1: Inspect the Webpage</font>\n",
    "\n",
    "First let's take a closer look at the webpage we are scraping."
   ]
  },
  {
   "cell_type": "code",
   "execution_count": null,
   "metadata": {},
   "outputs": [],
   "source": [
    "empirical-workshop-2020/5-harvest/image1.png\n",
    "from IPython.display import Image\n",
    "Image(filename= \"empirical-workshop-2020/5-harvest/image1.png\", width=5000, height=5000)"
   ]
  },
  {
   "cell_type": "markdown",
   "metadata": {},
   "source": [
    "In a Chrome Browser, we can highlight the element we want (a professor's name), right click, and select __Inspect Element__ or __Inspect__."
   ]
  },
  {
   "cell_type": "code",
   "execution_count": null,
   "metadata": {},
   "outputs": [],
   "source": [
    "from IPython.display import Image\n",
    "Image(filename= \"empirical-workshop-2020/5-harvest/image2.png\", width=5000, height=5000)"
   ]
  },
  {
   "cell_type": "markdown",
   "metadata": {},
   "source": [
    "This will take you to Chrome's Developer Tools where you can inspect the html __tags__ and __attributes__ of the element you highlighted."
   ]
  },
  {
   "cell_type": "code",
   "execution_count": null,
   "metadata": {},
   "outputs": [],
   "source": [
    "from IPython.display import Image\n",
    "Image(filename= \"empirical-workshop-2020/5-harvest/image3.png\", width=5000, height=5000)"
   ]
  },
  {
   "cell_type": "markdown",
   "metadata": {},
   "source": [
    "In the Developer Tools, you can see that Professor Abdallah's webpage (\"/faculty/directory/abdallah_tarek\") can be found within the __href__ attribute of the __&lt;a>__ tag. \n",
    "\n",
    "The __&lt;a>__ tag is actually a 'child' tag to the 'parent' __&lt;h2>__ tag with an __id__ attribute and a \"facName\" value.\n",
    "\n",
    "Note that if you use your mouse to hoover over an html tag, it will highlight that element on the webpage. "
   ]
  },
  {
   "cell_type": "code",
   "execution_count": null,
   "metadata": {},
   "outputs": [],
   "source": [
    "from IPython.display import Image\n",
    "Image(filename= \"empirical-workshop-2020/5-harvest/image4.png\", width=5000, height=5000)"
   ]
  },
  {
   "cell_type": "markdown",
   "metadata": {},
   "source": [
    "To see the HTML table that contains information for all faculty members, we can follow the same steps to see that the table falls under the __id__ attribute of the __&lt;div>__ tag. (Shown above) \n",
    "\n",
    "For more information on understanding the HTML code, see: https://www.tutorialrepublic.com/html-tutorial/\n",
    "\n",
    "\n",
    "If you further inspect this page, you will notice that there are only 36 faculty members.  "
   ]
  },
  {
   "cell_type": "code",
   "execution_count": null,
   "metadata": {},
   "outputs": [],
   "source": [
    "from IPython.display import Image\n",
    "Image(filename= \"empirical-workshop-2020/5-harvest/image5.png\", width=5000, height=5000)"
   ]
  },
  {
   "cell_type": "markdown",
   "metadata": {},
   "source": [
    "In order to see all the faculty members at Kellogg, we need to click on the __MORE FACULTY__ button.  This is where _selenium_ comes in."
   ]
  },
  {
   "cell_type": "markdown",
   "metadata": {},
   "source": [
    "## <font color=blue>Step 2: Using Selenium to Control a Web Browser</font>\n",
    "\n",
    "### Import Packages\n",
    "Before we can use selenium, we need to load the necessary libraries and file paths.  Note that selenium uses a __geckodriver__."
   ]
  },
  {
   "cell_type": "code",
   "execution_count": null,
   "metadata": {},
   "outputs": [],
   "source": [
    "# import library for sleep times\n",
    "import time\n",
    "\n",
    "# import BeautifulSoup\n",
    "import bs4 as bs\n",
    "\n",
    "\n",
    "\n",
    "# import selenium libraries and options\n",
    "from selenium import webdriver\n",
    "from selenium.webdriver.common.keys import Keys\n",
    "from selenium.webdriver.firefox.options import Options\n",
    "from selenium.common.exceptions import TimeoutException\n",
    "from selenium.webdriver.support.ui import WebDriverWait\n",
    "from selenium.webdriver.support import expected_conditions as EC\n",
    "from selenium.webdriver.common.by import By\n",
    "options = Options()\n",
    "options.set_headless(headless=True) "
   ]
  },
  {
   "cell_type": "markdown",
   "metadata": {},
   "source": [
    "Let's load the webpage we are using."
   ]
  },
  {
   "cell_type": "code",
   "execution_count": null,
   "metadata": {},
   "outputs": [],
   "source": [
    "url = 'https://www.kellogg.northwestern.edu/faculty/faculty_directory.aspx'\n",
    "print(url)"
   ]
  },
  {
   "cell_type": "markdown",
   "metadata": {},
   "source": [
    "### Start a Browser Session\n",
    "\n",
    "Next, we will create a Firefox session that directs selenium to the directory that has the geckodriver.  "
   ]
  },
  {
   "cell_type": "code",
   "execution_count": null,
   "metadata": {},
   "outputs": [],
   "source": [
    "# create a new Firefox Session\n",
    "driver = webdriver.Firefox(options=options)\n",
    "driver.implicitly_wait(3)\n",
    "\n",
    "# load the website\n",
    "driver.get(url)"
   ]
  },
  {
   "cell_type": "markdown",
   "metadata": {},
   "source": [
    "### Button Clicks\n",
    "\n",
    "You'll notice that a Firefox browser window opened.  Let's tell selenium to click on the __MORE FACULTY__ button to load all faculty profiles."
   ]
  },
  {
   "cell_type": "code",
   "execution_count": null,
   "metadata": {},
   "outputs": [],
   "source": [
    "# click open the \"More Faculty\" button\n",
    "python_button = driver.find_element_by_link_text('MORE FACULTY')\n",
    "python_button.click()"
   ]
  },
  {
   "cell_type": "markdown",
   "metadata": {},
   "source": [
    "We can repeat this exercise, until the full directory is loaded. "
   ]
  },
  {
   "cell_type": "code",
   "execution_count": null,
   "metadata": {},
   "outputs": [],
   "source": [
    "# click a few more times\n",
    "while True:\n",
    "    try:\n",
    "        WebDriverWait(driver, 10).until(EC.element_to_be_clickable((By.LINK_TEXT, 'MORE FACULTY'))).click()\n",
    "        time.sleep(3)\n",
    "    except TimeoutException:\n",
    "        break"
   ]
  },
  {
   "cell_type": "markdown",
   "metadata": {},
   "source": [
    "## <font color=blue>Step 3: Use Beautiful Soup to parse the elements</font>\n",
    "\n",
    "Now let's extract the elements with _Beautiful Soup_.\n",
    "\n",
    "### Save Source Code\n",
    "First let's save the source code from _selenium_.\n",
    " "
   ]
  },
  {
   "cell_type": "code",
   "execution_count": null,
   "metadata": {},
   "outputs": [],
   "source": [
    "# save the source code from Selenium\n",
    "page_source = driver.page_source"
   ]
  },
  {
   "cell_type": "markdown",
   "metadata": {},
   "source": [
    "Now let's transfer that source code to a _soup_."
   ]
  },
  {
   "cell_type": "code",
   "execution_count": null,
   "metadata": {},
   "outputs": [],
   "source": [
    "soup = bs.BeautifulSoup(page_source, 'html.parser')\n",
    "print(soup)"
   ]
  },
  {
   "cell_type": "markdown",
   "metadata": {},
   "source": [
    "## Identify an HTML Tag\n",
    "\n",
    "Using the tags, attributes, and values, we idenfified for the HTML table and the faculty webpages, we can save this data to objects. "
   ]
  },
  {
   "cell_type": "code",
   "execution_count": null,
   "metadata": {},
   "outputs": [],
   "source": [
    "# find the html table with faculty profiles\n",
    "faculty = soup.find('div',{'id':\"bindFaculty\"})\n",
    "profs = faculty.findAll('h2',{'id':\"facName\"})"
   ]
  },
  {
   "cell_type": "markdown",
   "metadata": {},
   "source": [
    "## Inspecting a Beautiful Soup object\n",
    "\n",
    "Let's look at the attributes of the faculty table"
   ]
  },
  {
   "cell_type": "code",
   "execution_count": null,
   "metadata": {},
   "outputs": [],
   "source": [
    "print(faculty.attrs)"
   ]
  },
  {
   "cell_type": "markdown",
   "metadata": {},
   "source": [
    "Let's see how many faculty profiles we found in the Kellog index."
   ]
  },
  {
   "cell_type": "code",
   "execution_count": null,
   "metadata": {},
   "outputs": [],
   "source": [
    "print(len(profs))"
   ]
  },
  {
   "cell_type": "markdown",
   "metadata": {},
   "source": [
    "Lets inspect the first item in the profs list.  What does it look like?  What are its associated attributes?"
   ]
  },
  {
   "cell_type": "code",
   "execution_count": null,
   "metadata": {},
   "outputs": [],
   "source": [
    "print(profs[0])\n",
    "print(profs[0].attrs)"
   ]
  },
  {
   "cell_type": "markdown",
   "metadata": {},
   "source": [
    "We can see it contains more information than we need.  Let's extract the webpage."
   ]
  },
  {
   "cell_type": "code",
   "execution_count": null,
   "metadata": {},
   "outputs": [],
   "source": [
    "# extract the website for this faculty member\n",
    "website = profs[0].find('a', href=True)\n",
    "website = website['href']\n",
    "print(website)"
   ]
  },
  {
   "cell_type": "markdown",
   "metadata": {},
   "source": [
    "## <font color=red>Exercise 1</font>\n",
    "\n",
    "<font color=red> Extract the first professor's name and title?</font> "
   ]
  },
  {
   "cell_type": "code",
   "execution_count": null,
   "metadata": {},
   "outputs": [],
   "source": []
  },
  {
   "cell_type": "markdown",
   "metadata": {},
   "source": [
    "## Save results to a List Object"
   ]
  },
  {
   "cell_type": "code",
   "execution_count": null,
   "metadata": {},
   "outputs": [],
   "source": [
    "# save the full url for the first professor into an empty list object\n",
    "website = 'https://www.kellogg.northwestern.edu' + str(website)\n",
    "prof_sites = []\n",
    "prof_sites.append(website)\n",
    "print(prof_sites)"
   ]
  },
  {
   "cell_type": "markdown",
   "metadata": {},
   "source": [
    "## <font color=red>Exercise 2</font>\n",
    "\n",
    "<font color=red>Save all of the professors' names and websitesinto a list object.</font>"
   ]
  },
  {
   "cell_type": "code",
   "execution_count": null,
   "metadata": {},
   "outputs": [],
   "source": []
  },
  {
   "cell_type": "markdown",
   "metadata": {},
   "source": [
    "## <font color=red>Exercise 3</font>\n",
    "\n",
    "<font color=red>Save all of the professors' titles to a list object.</font>"
   ]
  },
  {
   "cell_type": "code",
   "execution_count": null,
   "metadata": {},
   "outputs": [],
   "source": []
  },
  {
   "cell_type": "markdown",
   "metadata": {},
   "source": [
    "## Export Results to csv File"
   ]
  },
  {
   "cell_type": "code",
   "execution_count": null,
   "metadata": {},
   "outputs": [],
   "source": [
    "# Let's save the results of this variable to a csv file\n",
    "import csv\n",
    "with open('faculty_pages.csv', \"w\") as myfile:\n",
    "     wr = csv.writer(myfile, quoting=csv.QUOTE_ALL)\n",
    "     for site in prof_sites:\n",
    "        wr.writerow([site])"
   ]
  },
  {
   "cell_type": "markdown",
   "metadata": {},
   "source": [
    "## Close the Chrome Browser"
   ]
  },
  {
   "cell_type": "code",
   "execution_count": null,
   "metadata": {},
   "outputs": [],
   "source": [
    "# end browser session\n",
    "driver.quit()"
   ]
  },
  {
   "cell_type": "markdown",
   "metadata": {},
   "source": [
    "## <font color=red>Answer Key</font>"
   ]
  },
  {
   "cell_type": "code",
   "execution_count": null,
   "metadata": {},
   "outputs": [],
   "source": [
    "# Exercise 1\n",
    "name = profs[0].text\n",
    "name = name.strip()\n",
    "print(name)\n",
    "titles = faculty.findAll('div',{'id':\"Faculty-Guide-content\"})\n",
    "title1 = titles[0].text\n",
    "title1 = title1.strip()\n",
    "print(title1)"
   ]
  },
  {
   "cell_type": "code",
   "execution_count": null,
   "metadata": {},
   "outputs": [],
   "source": [
    "# Exercise 2\n",
    "prof_names = []\n",
    "prof_sites = []\n",
    "\n",
    "for i in profs:\n",
    "    name = i.text\n",
    "    name = name.strip()\n",
    "    print(name)\n",
    "    prof_names.append(name)\n",
    "    \n",
    "    website = i.find('a', href=True)\n",
    "    website = website['href']\n",
    "    website = 'https://www.kellogg.northwestern.edu' + str(website)\n",
    "    print(website)\n",
    "    prof_sites.append(website)"
   ]
  },
  {
   "cell_type": "code",
   "execution_count": null,
   "metadata": {},
   "outputs": [],
   "source": [
    "# Exercise 3\n",
    "prof_titles = []\n",
    "for i in titles:\n",
    "    title = i.text\n",
    "    title = title.strip()\n",
    "    print(title)\n",
    "    prof_titles.append(title)"
   ]
  }
 ],
 "metadata": {
  "kernelspec": {
   "display_name": "Python 3",
   "language": "python",
   "name": "python3"
  },
  "language_info": {
   "codemirror_mode": {
    "name": "ipython",
    "version": 3
   },
   "file_extension": ".py",
   "mimetype": "text/x-python",
   "name": "python",
   "nbconvert_exporter": "python",
   "pygments_lexer": "ipython3",
   "version": "3.7.4"
  }
 },
 "nbformat": 4,
 "nbformat_minor": 2
}
