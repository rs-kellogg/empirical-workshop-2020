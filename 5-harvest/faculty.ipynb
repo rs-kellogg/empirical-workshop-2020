{
 "cells": [
  {
   "cell_type": "markdown",
   "metadata": {},
   "source": [
    "# <font color=blue>Scraping Kellogg Faculty Pages.</font>\n",
    "\n",
    "## Getting Started with Beautiful Soup\n",
    "We will start by extracting individual faculty webpages from the index using __Beautiful Soup__\n"
   ]
  },
  {
   "cell_type": "code",
   "execution_count": null,
   "metadata": {
    "collapsed": true
   },
   "outputs": [],
   "source": [
    "# First, import the necessary python libraries\n",
    "import bs4 as bs\n",
    "import urllib.request\n",
    "import time"
   ]
  },
  {
   "cell_type": "code",
   "execution_count": null,
   "metadata": {},
   "outputs": [],
   "source": [
    "# This is the index page for faculty at Kellogg\n",
    "url = 'https://www.kellogg.northwestern.edu/faculty/faculty_directory.aspx'\n",
    "print(url)"
   ]
  },
  {
   "cell_type": "code",
   "execution_count": null,
   "metadata": {
    "collapsed": true
   },
   "outputs": [],
   "source": [
    "# use the request library to access the source code\n",
    "source = urllib.request.urlopen(url).read()"
   ]
  },
  {
   "cell_type": "code",
   "execution_count": null,
   "metadata": {},
   "outputs": [],
   "source": [
    "# create a soup and show the contents\n",
    "soup = bs.BeautifulSoup(source, 'html.parser')\n",
    "print(soup)"
   ]
  },
  {
   "cell_type": "markdown",
   "metadata": {},
   "source": [
    "## Identify an HTML Tag"
   ]
  },
  {
   "cell_type": "code",
   "execution_count": null,
   "metadata": {},
   "outputs": [],
   "source": [
    "# find the html table with faculty profiles\n",
    "faculty = soup.find('div',{'id':\"bindFaculty\"})\n",
    "profs = faculty.findAll('h2',{'id':\"facName\"})"
   ]
  },
  {
   "cell_type": "markdown",
   "metadata": {},
   "source": [
    "## Attributes of a Beautiful Soup object"
   ]
  },
  {
   "cell_type": "code",
   "execution_count": null,
   "metadata": {},
   "outputs": [],
   "source": [
    "# Lets look at the attributes of the faculty table\n",
    "print(faculty.attrs)\n",
    "\n",
    "# The profs object is actually a list\n",
    "print(len(profs))\n",
    "\n",
    "# print the html code for the first professor\n",
    "print(profs[0])\n",
    "\n",
    "# let's look at the attributes of this object\n",
    "print(profs[0].attrs)\n"
   ]
  },
  {
   "cell_type": "code",
   "execution_count": null,
   "metadata": {},
   "outputs": [],
   "source": [
    "# extract the website for this faculty member\n",
    "website = profs[0].find('a', href=True)\n",
    "website = website['href']\n",
    "print(website)"
   ]
  },
  {
   "cell_type": "markdown",
   "metadata": {},
   "source": [
    "## Save results to a List Object"
   ]
  },
  {
   "cell_type": "code",
   "execution_count": null,
   "metadata": {},
   "outputs": [],
   "source": [
    "# save the full url for the first professor into an empty list object\n",
    "website = 'https://www.kellogg.northwestern.edu' + str(website)\n",
    "print(website)\n",
    "prof_sites = []\n",
    "prof_sites.append(website)\n",
    "print(prof_sites)"
   ]
  },
  {
   "cell_type": "markdown",
   "metadata": {},
   "source": [
    "<font color=blue>Try to save all of the professors' websites into a list object.</font>"
   ]
  },
  {
   "cell_type": "code",
   "execution_count": null,
   "metadata": {},
   "outputs": [],
   "source": [
    "prof_sites = []\n",
    "\n",
    "for i in profs:\n",
    "    website = i.find('a', href=True)\n",
    "    website = website['href']\n",
    "    website = 'https://www.kellogg.northwestern.edu' + str(website)\n",
    "    print(website)\n",
    "    prof_sites.append(website)"
   ]
  },
  {
   "cell_type": "markdown",
   "metadata": {},
   "source": [
    "## Export results to a csv file"
   ]
  },
  {
   "cell_type": "code",
   "execution_count": null,
   "metadata": {},
   "outputs": [],
   "source": [
    "# Let's save the results of this variable to a csv file\n",
    "import csv\n",
    "with open('faculty_pages.csv', \"w\") as myfile:\n",
    "     wr = csv.writer(myfile, quoting=csv.QUOTE_ALL)\n",
    "     for site in prof_sites:\n",
    "        wr.writerow([site])"
   ]
  },
  {
   "cell_type": "markdown",
   "metadata": {},
   "source": [
    "## Throttling Requests (sleep times)"
   ]
  },
  {
   "cell_type": "code",
   "execution_count": null,
   "metadata": {},
   "outputs": [],
   "source": [
    "for i in prof_sites[0:3]:\n",
    "    source2 = urllib.request.urlopen(i).read()\n",
    "    print(i)\n",
    "    time.sleep(3)"
   ]
  },
  {
   "cell_type": "markdown",
   "metadata": {},
   "source": [
    "It seems odd that there are only 36 faculty members at Kellogg.\n",
    "\n",
    "# Selenium to Click Buttons\n",
    "\n",
    "Now let's use Selenium to click on the \"More Faculty\" button"
   ]
  },
  {
   "cell_type": "code",
   "execution_count": null,
   "metadata": {
    "collapsed": true
   },
   "outputs": [],
   "source": [
    "# import selenium libraries and options\n",
    "from selenium import webdriver\n",
    "from selenium.webdriver.common.keys import Keys\n",
    "from selenium.webdriver.firefox.options import Options\n",
    "options = Options()\n",
    "#options.set_headless(headless=True) # if you select this option selenium will run without opening a browser window"
   ]
  },
  {
   "cell_type": "code",
   "execution_count": null,
   "metadata": {},
   "outputs": [],
   "source": [
    "# create a new Firefox Session\n",
    "driver = webdriver.Firefox(firefox_options=options)\n",
    "driver.implicitly_wait(3)\n",
    "driver.get(url)"
   ]
  },
  {
   "cell_type": "code",
   "execution_count": null,
   "metadata": {},
   "outputs": [],
   "source": [
    "# click open the \"More Faculty\" button\n",
    "python_button = driver.find_element_by_link_text('MORE FACULTY')\n",
    "python_button.click()"
   ]
  },
  {
   "cell_type": "code",
   "execution_count": null,
   "metadata": {
    "collapsed": true
   },
   "outputs": [],
   "source": [
    "# end browser session\n",
    "driver.quit()"
   ]
  },
  {
   "cell_type": "code",
   "execution_count": null,
   "metadata": {
    "collapsed": true
   },
   "outputs": [],
   "source": []
  }
 ],
 "metadata": {
  "kernelspec": {
   "display_name": "Python 3",
   "language": "python",
   "name": "python3"
  },
  "language_info": {
   "codemirror_mode": {
    "name": "ipython",
    "version": 3
   },
   "file_extension": ".py",
   "mimetype": "text/x-python",
   "name": "python",
   "nbconvert_exporter": "python",
   "pygments_lexer": "ipython3",
   "version": "3.7.4"
  }
 },
 "nbformat": 4,
 "nbformat_minor": 2
}
