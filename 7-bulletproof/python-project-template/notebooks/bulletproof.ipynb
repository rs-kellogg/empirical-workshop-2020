{
 "cells": [
  {
   "cell_type": "markdown",
   "metadata": {},
   "source": [
    "# <span style=\"color:blue\">Bulletproofing Code</span>\n",
    "\n",
    "## What could go wrong? Unfortunately, lots!\n",
    "\n",
    "![](images/worst_thing_that_could_happen.png)"
   ]
  },
  {
   "cell_type": "markdown",
   "metadata": {},
   "source": [
    "## <span style=\"color:darkorange\">Potential Problems: </span>\n",
    "- Bugs (code crashes, brittle to unexpected inputs)\n",
    "- Code \"works\", but gives incorrect results\n",
    "- Cannot reliably and automatically generate the same results each time\n",
    "- External resources, like code dependencies and data change outside your control\n",
    "- Code is slow and/or uses a lot of memory\n",
    "- Your code is hard to understand\n",
    "- Your code is hard to change"
   ]
  },
  {
   "cell_type": "markdown",
   "metadata": {},
   "source": [
    "## <span style=\"color:darkorange\">Make your code work first before trying to optimize it</span>"
   ]
  },
  {
   "cell_type": "markdown",
   "metadata": {},
   "source": [
    "![](images/knuth.jpg)"
   ]
  },
  {
   "cell_type": "markdown",
   "metadata": {},
   "source": [
    "# <span style=\"color:blue\">Example: Extracting Information from Earnings Calls</span>"
   ]
  },
  {
   "cell_type": "code",
   "execution_count": null,
   "metadata": {},
   "outputs": [],
   "source": [
    "from pathlib import Path\n",
    "import json"
   ]
  },
  {
   "cell_type": "code",
   "execution_count": null,
   "metadata": {},
   "outputs": [],
   "source": [
    "base_path = Path(\"../tests/data/ciq_transcript_samples\")"
   ]
  },
  {
   "cell_type": "code",
   "execution_count": null,
   "metadata": {},
   "outputs": [],
   "source": [
    "sample_file = base_path / \"Tesla/transcript_id__1025482.json\"\n",
    "text = sample_file.read_text()\n",
    "transcript_dict = json.loads(text)\n",
    "components = transcript_dict[\"components\"]\n",
    "tesla_answers = [c for c in components if c[\"componenttypename\"] == \"Answer\"]"
   ]
  },
  {
   "cell_type": "code",
   "execution_count": null,
   "metadata": {},
   "outputs": [],
   "source": [
    "sample_file = base_path / \"GM/transcript_id__1000656.json\"\n",
    "text = sample_file.read_text()\n",
    "transcript_dict = json.loads(text)\n",
    "components = transcript_dict[\"components\"]\n",
    "gm_answers = [c for c in components if c[\"componenttypename\"] == \"Answer\"]"
   ]
  },
  {
   "cell_type": "code",
   "execution_count": null,
   "metadata": {},
   "outputs": [],
   "source": [
    "for answer in tesla_answers:\n",
    "    text = answer['text']\n",
    "text"
   ]
  },
  {
   "cell_type": "code",
   "execution_count": null,
   "metadata": {},
   "outputs": [],
   "source": [
    "import textacy\n",
    "doc = textacy.make_spacy_doc(text)"
   ]
  },
  {
   "cell_type": "markdown",
   "metadata": {},
   "source": [
    "# <span style=\"color:blue\">Example: Calculating Document Similarity</span>"
   ]
  },
  {
   "cell_type": "code",
   "execution_count": null,
   "metadata": {},
   "outputs": [],
   "source": []
  },
  {
   "cell_type": "markdown",
   "metadata": {},
   "source": [
    "# <span style=\"color:blue\">Testing, Error Detection, and Profiling</span>"
   ]
  },
  {
   "cell_type": "markdown",
   "metadata": {},
   "source": [
    "![](images/165-minor-change.png)"
   ]
  },
  {
   "cell_type": "markdown",
   "metadata": {},
   "source": [
    "## Testing"
   ]
  },
  {
   "cell_type": "code",
   "execution_count": null,
   "metadata": {},
   "outputs": [],
   "source": [
    "# dot product using for-loop"
   ]
  },
  {
   "cell_type": "markdown",
   "metadata": {},
   "source": [
    "## Exception Handling"
   ]
  },
  {
   "cell_type": "code",
   "execution_count": null,
   "metadata": {},
   "outputs": [],
   "source": []
  },
  {
   "cell_type": "markdown",
   "metadata": {},
   "source": [
    "## Profiling\n",
    "\n",
    "https://docs.python.org/3/library/debug.html"
   ]
  },
  {
   "cell_type": "code",
   "execution_count": null,
   "metadata": {},
   "outputs": [],
   "source": [
    "# dot product using for-loop"
   ]
  },
  {
   "cell_type": "markdown",
   "metadata": {},
   "source": [
    "## Configuring your Code Dependencies"
   ]
  },
  {
   "cell_type": "markdown",
   "metadata": {},
   "source": [
    "Conda environments are cheap to create and easy to delete"
   ]
  },
  {
   "cell_type": "code",
   "execution_count": null,
   "metadata": {},
   "outputs": [],
   "source": [
    "! conda env list"
   ]
  },
  {
   "cell_type": "markdown",
   "metadata": {},
   "source": [
    "Notice how many packages there are, so many opportunities for something to change and potentially break your code! If you're using a package, try to find ones with a sizable support community, not one-offs from an undergraduate class project."
   ]
  },
  {
   "cell_type": "code",
   "execution_count": null,
   "metadata": {},
   "outputs": [],
   "source": [
    "! conda list"
   ]
  },
  {
   "cell_type": "markdown",
   "metadata": {},
   "source": [
    "Tip: export your (pinned) dependencies to a file. You can use this to re-create your environment reproducibly, anwhere, and any number of times."
   ]
  },
  {
   "cell_type": "code",
   "execution_count": 41,
   "metadata": {},
   "outputs": [
    {
     "name": "stdout",
     "output_type": "stream",
     "text": [
      "name: workshop-env\n",
      "channels:\n",
      "  - conda-forge\n",
      "  - defaults\n",
      "dependencies:\n",
      "  - python==3.7\n",
      "  - spacy\n",
      "  - textacy\n",
      "  - jupyterlab\n",
      "  - sqlalchemy\n",
      "  - pytest\n",
      "  - pyyaml\n",
      "prefix: /Users/willthompson/anaconda3/envs/workshop-env\n",
      "\n"
     ]
    }
   ],
   "source": [
    "! conda env export --from-history"
   ]
  },
  {
   "cell_type": "code",
   "execution_count": 44,
   "metadata": {},
   "outputs": [],
   "source": [
    "! conda env export --from-history | grep -v \"^prefix: \" > environment.yml\n",
    "! sed -i '' 's/workshop-env/test-env/g' environment.yml"
   ]
  },
  {
   "cell_type": "code",
   "execution_count": 45,
   "metadata": {},
   "outputs": [
    {
     "name": "stdout",
     "output_type": "stream",
     "text": [
      "Collecting package metadata (repodata.json): done\n",
      "Solving environment: done\n",
      "Preparing transaction: done\n",
      "Verifying transaction: done\n",
      "Executing transaction: done\n",
      "#\n",
      "# To activate this environment, use\n",
      "#\n",
      "#     $ conda activate test-env\n",
      "#\n",
      "# To deactivate an active environment, use\n",
      "#\n",
      "#     $ conda deactivate\n",
      "\n"
     ]
    }
   ],
   "source": [
    "! conda env create -f environment.yml"
   ]
  },
  {
   "cell_type": "code",
   "execution_count": 46,
   "metadata": {},
   "outputs": [
    {
     "name": "stdout",
     "output_type": "stream",
     "text": [
      "# conda environments:\n",
      "#\n",
      "base                     /Users/willthompson/anaconda3\n",
      "aws                      /Users/willthompson/anaconda3/envs/aws\n",
      "cafrs                    /Users/willthompson/anaconda3/envs/cafrs\n",
      "cluedo                   /Users/willthompson/anaconda3/envs/cluedo\n",
      "corelogic                /Users/willthompson/anaconda3/envs/corelogic\n",
      "edx                      /Users/willthompson/anaconda3/envs/edx\n",
      "gcp                      /Users/willthompson/anaconda3/envs/gcp\n",
      "mturk                    /Users/willthompson/anaconda3/envs/mturk\n",
      "ocr-review               /Users/willthompson/anaconda3/envs/ocr-review\n",
      "patent-data              /Users/willthompson/anaconda3/envs/patent-data\n",
      "pytorch-nlp              /Users/willthompson/anaconda3/envs/pytorch-nlp\n",
      "test-env                 /Users/willthompson/anaconda3/envs/test-env\n",
      "textract                 /Users/willthompson/anaconda3/envs/textract\n",
      "voilatest                /Users/willthompson/anaconda3/envs/voilatest\n",
      "workshop-env          *  /Users/willthompson/anaconda3/envs/workshop-env\n",
      "\n"
     ]
    }
   ],
   "source": [
    "! conda env list"
   ]
  },
  {
   "cell_type": "code",
   "execution_count": 47,
   "metadata": {},
   "outputs": [
    {
     "name": "stdout",
     "output_type": "stream",
     "text": [
      "\n",
      "Remove all packages in environment /Users/willthompson/anaconda3/envs/test-env:\n",
      "\n"
     ]
    }
   ],
   "source": [
    "! conda env remove -n test-env"
   ]
  },
  {
   "cell_type": "markdown",
   "metadata": {},
   "source": [
    "## Configuring the Entire Environment"
   ]
  },
  {
   "cell_type": "markdown",
   "metadata": {},
   "source": [
    "![](images/horizontal-logo-monochromatic-white.png)\n",
    "\n",
    "![](images/container-what-is-container.png)\n",
    "\n",
    "https://www.docker.com/"
   ]
  },
  {
   "cell_type": "code",
   "execution_count": 48,
   "metadata": {},
   "outputs": [
    {
     "name": "stdout",
     "output_type": "stream",
     "text": [
      "Sending build context to Docker daemon  10.83MB\n",
      "Step 1/6 : FROM continuumio/miniconda3\n",
      " ---> 406f2b43ea59\n",
      "Step 2/6 : ADD environment.yml /tmp/environment.yml\n",
      " ---> Using cache\n",
      " ---> 39c150d01db3\n",
      "Step 3/6 : RUN conda update -n base -c defaults conda\n",
      " ---> Using cache\n",
      " ---> 948702393f04\n",
      "Step 4/6 : RUN conda env create -f /tmp/environment.yml\n",
      " ---> Using cache\n",
      " ---> 3cfac15cf81d\n",
      "Step 5/6 : RUN echo \"source activate $(head -1 /tmp/environment.yml | cut -d' ' -f2)\" > ~/.bashrc\n",
      " ---> Using cache\n",
      " ---> 57ee8eb6cc1a\n",
      "Step 6/6 : ENV PATH /opt/conda/envs/$(head -1 /tmp/environment.yml | cut -d' ' -f2)/bin:$PATH\n",
      " ---> Using cache\n",
      " ---> b09c038006cb\n",
      "Successfully built b09c038006cb\n",
      "Successfully tagged workshop:latest\n"
     ]
    }
   ],
   "source": [
    "! docker build .. -t workshop:latest\n",
    "# Open terminal to docker image: docker run -i -t workshop:latest /bin/bash"
   ]
  },
  {
   "cell_type": "code",
   "execution_count": null,
   "metadata": {},
   "outputs": [],
   "source": []
  }
 ],
 "metadata": {
  "kernelspec": {
   "display_name": "Python 3",
   "language": "python",
   "name": "python3"
  },
  "language_info": {
   "codemirror_mode": {
    "name": "ipython",
    "version": 3
   },
   "file_extension": ".py",
   "mimetype": "text/x-python",
   "name": "python",
   "nbconvert_exporter": "python",
   "pygments_lexer": "ipython3",
   "version": "3.7.0"
  }
 },
 "nbformat": 4,
 "nbformat_minor": 4
}
