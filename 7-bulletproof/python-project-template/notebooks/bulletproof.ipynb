{
 "cells": [
  {
   "cell_type": "markdown",
   "metadata": {},
   "source": [
    "# <span style=\"color:blue\">Bulletproofing Code</span>\n",
    "\n",
    "## What could go wrong? Unfortunately, lots!\n",
    "\n",
    "![](images/worst_thing_that_could_happen.png)"
   ]
  },
  {
   "cell_type": "markdown",
   "metadata": {},
   "source": [
    "## <span style=\"color:darkorange\">Potential Problems: </span>\n",
    "- Bugs (code crashes, brittle to unexpected inputs)\n",
    "- Code \"works\", but gives incorrect results\n",
    "- Cannot reliably and automatically generate the same results each time\n",
    "- External resources, like code dependencies and data change outside your control\n",
    "- Code is slow and/or uses a lot of memory\n",
    "- Your code is hard to understand\n",
    "- Your code is hard to change"
   ]
  },
  {
   "cell_type": "markdown",
   "metadata": {},
   "source": [
    "## <span style=\"color:darkorange\">Make your code work first before trying to optimize it</span>"
   ]
  },
  {
   "cell_type": "markdown",
   "metadata": {},
   "source": [
    "![](images/knuth.jpg)"
   ]
  },
  {
   "cell_type": "markdown",
   "metadata": {},
   "source": [
    "# <span style=\"color:blue\">Example: Extracting Information from Earnings Calls</span>"
   ]
  },
  {
   "cell_type": "code",
   "execution_count": 1,
   "metadata": {},
   "outputs": [],
   "source": [
    "from kelloggrs.load_data import *\n",
    "from sqlalchemy import Table, MetaData, inspect\n",
    "from pathlib import Path\n",
    "import pandas as pd"
   ]
  },
  {
   "cell_type": "code",
   "execution_count": 2,
   "metadata": {},
   "outputs": [],
   "source": [
    "with open(Path(\"../tests/config.yaml\")) as conf_file:\n",
    "    config = yaml.load(conf_file, Loader=yaml.FullLoader)\n",
    "engine = create_database(config)\n",
    "engine = insert_records(Path(config[\"data_path\"]) / \"Tesla\", engine)\n",
    "engine = insert_records(Path(config[\"data_path\"]) / \"GM\", engine)"
   ]
  },
  {
   "cell_type": "code",
   "execution_count": 3,
   "metadata": {},
   "outputs": [
    {
     "name": "stdout",
     "output_type": "stream",
     "text": [
      "['Component', 'Transcript']\n",
      "{'name': 'transcriptid', 'type': BIGINT(), 'nullable': True, 'default': None, 'autoincrement': 'auto', 'primary_key': 1}\n",
      "{'name': 'keydevid', 'type': BIGINT(), 'nullable': False, 'default': None, 'autoincrement': 'auto', 'primary_key': 0}\n",
      "{'name': 'companyid', 'type': BIGINT(), 'nullable': False, 'default': None, 'autoincrement': 'auto', 'primary_key': 0}\n",
      "{'name': 'companyname', 'type': VARCHAR(length=100), 'nullable': False, 'default': None, 'autoincrement': 'auto', 'primary_key': 0}\n",
      "{'name': 'transcriptcreationdate', 'type': VARCHAR(length=20), 'nullable': False, 'default': None, 'autoincrement': 'auto', 'primary_key': 0}\n",
      "{'name': 'mostimportantdate', 'type': VARCHAR(length=20), 'nullable': True, 'default': None, 'autoincrement': 'auto', 'primary_key': 0}\n"
     ]
    }
   ],
   "source": [
    "inspector = inspect(engine)\n",
    "\n",
    "# Get table information\n",
    "print(inspector.get_table_names())\n",
    "\n",
    "# Get column information\n",
    "columns = inspector.get_columns('Transcript')\n",
    "for c in columns:\n",
    "    print(c)"
   ]
  },
  {
   "cell_type": "markdown",
   "metadata": {},
   "source": [
    "result = engine.execute(\"select * from Component\")\n",
    "for row in result:\n",
    "    print(row)"
   ]
  },
  {
   "cell_type": "code",
   "execution_count": 4,
   "metadata": {},
   "outputs": [],
   "source": [
    "transcript_df = pd.read_sql_table(\"Transcript\", con=engine)\n",
    "component_df = pd.read_sql_table(\"Component\", con=engine)"
   ]
  },
  {
   "cell_type": "code",
   "execution_count": 5,
   "metadata": {},
   "outputs": [
    {
     "data": {
      "text/html": [
       "<div>\n",
       "<style scoped>\n",
       "    .dataframe tbody tr th:only-of-type {\n",
       "        vertical-align: middle;\n",
       "    }\n",
       "\n",
       "    .dataframe tbody tr th {\n",
       "        vertical-align: top;\n",
       "    }\n",
       "\n",
       "    .dataframe thead th {\n",
       "        text-align: right;\n",
       "    }\n",
       "</style>\n",
       "<table border=\"1\" class=\"dataframe\">\n",
       "  <thead>\n",
       "    <tr style=\"text-align: right;\">\n",
       "      <th></th>\n",
       "      <th>transcriptid</th>\n",
       "      <th>keydevid</th>\n",
       "      <th>companyid</th>\n",
       "      <th>companyname</th>\n",
       "      <th>transcriptcreationdate</th>\n",
       "      <th>mostimportantdate</th>\n",
       "    </tr>\n",
       "  </thead>\n",
       "  <tbody>\n",
       "    <tr>\n",
       "      <th>0</th>\n",
       "      <td>1579439</td>\n",
       "      <td>587893061</td>\n",
       "      <td>27444752</td>\n",
       "      <td>Tesla, Inc.</td>\n",
       "      <td>2018-10-26</td>\n",
       "      <td>2018-10-24</td>\n",
       "    </tr>\n",
       "    <tr>\n",
       "      <th>1</th>\n",
       "      <td>1528908</td>\n",
       "      <td>574506795</td>\n",
       "      <td>27444752</td>\n",
       "      <td>Tesla, Inc.</td>\n",
       "      <td>2018-08-09</td>\n",
       "      <td>2018-08-01</td>\n",
       "    </tr>\n",
       "    <tr>\n",
       "      <th>2</th>\n",
       "      <td>892475</td>\n",
       "      <td>314636729</td>\n",
       "      <td>27444752</td>\n",
       "      <td>Tesla, Inc.</td>\n",
       "      <td>2015-11-04</td>\n",
       "      <td>2015-11-03</td>\n",
       "    </tr>\n",
       "    <tr>\n",
       "      <th>3</th>\n",
       "      <td>163185</td>\n",
       "      <td>130475124</td>\n",
       "      <td>27444752</td>\n",
       "      <td>Tesla, Inc.</td>\n",
       "      <td>2011-08-26</td>\n",
       "      <td>2011-08-10</td>\n",
       "    </tr>\n",
       "    <tr>\n",
       "      <th>4</th>\n",
       "      <td>1193927</td>\n",
       "      <td>427742222</td>\n",
       "      <td>27444752</td>\n",
       "      <td>Tesla, Inc.</td>\n",
       "      <td>2017-05-06</td>\n",
       "      <td>2017-05-03</td>\n",
       "    </tr>\n",
       "    <tr>\n",
       "      <th>...</th>\n",
       "      <td>...</td>\n",
       "      <td>...</td>\n",
       "      <td>...</td>\n",
       "      <td>...</td>\n",
       "      <td>...</td>\n",
       "      <td>...</td>\n",
       "    </tr>\n",
       "    <tr>\n",
       "      <th>132</th>\n",
       "      <td>837822</td>\n",
       "      <td>304527258</td>\n",
       "      <td>61206100</td>\n",
       "      <td>General Motors Company</td>\n",
       "      <td>2015-07-24</td>\n",
       "      <td>2015-07-23</td>\n",
       "    </tr>\n",
       "    <tr>\n",
       "      <th>133</th>\n",
       "      <td>1637234</td>\n",
       "      <td>590848330</td>\n",
       "      <td>61206100</td>\n",
       "      <td>General Motors Company</td>\n",
       "      <td>2019-01-18</td>\n",
       "      <td>2019-01-16</td>\n",
       "    </tr>\n",
       "    <tr>\n",
       "      <th>134</th>\n",
       "      <td>1807136</td>\n",
       "      <td>632163214</td>\n",
       "      <td>61206100</td>\n",
       "      <td>General Motors Company</td>\n",
       "      <td>2019-08-17</td>\n",
       "      <td>2019-08-13</td>\n",
       "    </tr>\n",
       "    <tr>\n",
       "      <th>135</th>\n",
       "      <td>21969</td>\n",
       "      <td>6597551</td>\n",
       "      <td>61206100</td>\n",
       "      <td>General Motors Company</td>\n",
       "      <td>2009-12-10</td>\n",
       "      <td>2009-05-11</td>\n",
       "    </tr>\n",
       "    <tr>\n",
       "      <th>136</th>\n",
       "      <td>1207869</td>\n",
       "      <td>429460295</td>\n",
       "      <td>61206100</td>\n",
       "      <td>General Motors Company</td>\n",
       "      <td>2017-05-17</td>\n",
       "      <td>2017-05-11</td>\n",
       "    </tr>\n",
       "  </tbody>\n",
       "</table>\n",
       "<p>137 rows × 6 columns</p>\n",
       "</div>"
      ],
      "text/plain": [
       "     transcriptid   keydevid  companyid             companyname  \\\n",
       "0         1579439  587893061   27444752             Tesla, Inc.   \n",
       "1         1528908  574506795   27444752             Tesla, Inc.   \n",
       "2          892475  314636729   27444752             Tesla, Inc.   \n",
       "3          163185  130475124   27444752             Tesla, Inc.   \n",
       "4         1193927  427742222   27444752             Tesla, Inc.   \n",
       "..            ...        ...        ...                     ...   \n",
       "132        837822  304527258   61206100  General Motors Company   \n",
       "133       1637234  590848330   61206100  General Motors Company   \n",
       "134       1807136  632163214   61206100  General Motors Company   \n",
       "135         21969    6597551   61206100  General Motors Company   \n",
       "136       1207869  429460295   61206100  General Motors Company   \n",
       "\n",
       "    transcriptcreationdate mostimportantdate  \n",
       "0               2018-10-26        2018-10-24  \n",
       "1               2018-08-09        2018-08-01  \n",
       "2               2015-11-04        2015-11-03  \n",
       "3               2011-08-26        2011-08-10  \n",
       "4               2017-05-06        2017-05-03  \n",
       "..                     ...               ...  \n",
       "132             2015-07-24        2015-07-23  \n",
       "133             2019-01-18        2019-01-16  \n",
       "134             2019-08-17        2019-08-13  \n",
       "135             2009-12-10        2009-05-11  \n",
       "136             2017-05-17        2017-05-11  \n",
       "\n",
       "[137 rows x 6 columns]"
      ]
     },
     "execution_count": 5,
     "metadata": {},
     "output_type": "execute_result"
    }
   ],
   "source": [
    "transcript_df"
   ]
  },
  {
   "cell_type": "code",
   "execution_count": 6,
   "metadata": {},
   "outputs": [
    {
     "data": {
      "text/html": [
       "<div>\n",
       "<style scoped>\n",
       "    .dataframe tbody tr th:only-of-type {\n",
       "        vertical-align: middle;\n",
       "    }\n",
       "\n",
       "    .dataframe tbody tr th {\n",
       "        vertical-align: top;\n",
       "    }\n",
       "\n",
       "    .dataframe thead th {\n",
       "        text-align: right;\n",
       "    }\n",
       "</style>\n",
       "<table border=\"1\" class=\"dataframe\">\n",
       "  <thead>\n",
       "    <tr style=\"text-align: right;\">\n",
       "      <th></th>\n",
       "      <th>transcriptid</th>\n",
       "      <th>componentid</th>\n",
       "      <th>componenttypename</th>\n",
       "      <th>text</th>\n",
       "      <th>componentorder</th>\n",
       "      <th>personname</th>\n",
       "      <th>companyofperson</th>\n",
       "    </tr>\n",
       "  </thead>\n",
       "  <tbody>\n",
       "    <tr>\n",
       "      <th>0</th>\n",
       "      <td>1579439</td>\n",
       "      <td>62319690</td>\n",
       "      <td>Presenter Speech</td>\n",
       "      <td>Correct. Correct. The company here had a 4-mon...</td>\n",
       "      <td>35</td>\n",
       "      <td>Laurie Shelby</td>\n",
       "      <td>None</td>\n",
       "    </tr>\n",
       "    <tr>\n",
       "      <th>1</th>\n",
       "      <td>1579439</td>\n",
       "      <td>62319781</td>\n",
       "      <td>Answer</td>\n",
       "      <td>It's the same amount of service. So same cost.</td>\n",
       "      <td>126</td>\n",
       "      <td>Deepak Ahuja</td>\n",
       "      <td>None</td>\n",
       "    </tr>\n",
       "    <tr>\n",
       "      <th>2</th>\n",
       "      <td>1579439</td>\n",
       "      <td>62319772</td>\n",
       "      <td>Question</td>\n",
       "      <td>I have one for Deepak and then a follow-up, pl...</td>\n",
       "      <td>117</td>\n",
       "      <td>Toni Sacconaghi</td>\n",
       "      <td>None</td>\n",
       "    </tr>\n",
       "    <tr>\n",
       "      <th>3</th>\n",
       "      <td>1579439</td>\n",
       "      <td>62319777</td>\n",
       "      <td>Question</td>\n",
       "      <td>And then to follow up, I was just wondering if...</td>\n",
       "      <td>122</td>\n",
       "      <td>Toni Sacconaghi</td>\n",
       "      <td>None</td>\n",
       "    </tr>\n",
       "    <tr>\n",
       "      <th>4</th>\n",
       "      <td>1579439</td>\n",
       "      <td>62319666</td>\n",
       "      <td>Presenter Speech</td>\n",
       "      <td>Yes, exactly. So if you look at there, the tri...</td>\n",
       "      <td>11</td>\n",
       "      <td>Madan Gopal</td>\n",
       "      <td>None</td>\n",
       "    </tr>\n",
       "    <tr>\n",
       "      <th>...</th>\n",
       "      <td>...</td>\n",
       "      <td>...</td>\n",
       "      <td>...</td>\n",
       "      <td>...</td>\n",
       "      <td>...</td>\n",
       "      <td>...</td>\n",
       "      <td>...</td>\n",
       "    </tr>\n",
       "    <tr>\n",
       "      <th>11440</th>\n",
       "      <td>1207869</td>\n",
       "      <td>49473055</td>\n",
       "      <td>Question</td>\n",
       "      <td>How does GM protect its brands when you're tal...</td>\n",
       "      <td>17</td>\n",
       "      <td>Rod Lache</td>\n",
       "      <td>None</td>\n",
       "    </tr>\n",
       "    <tr>\n",
       "      <th>11441</th>\n",
       "      <td>1207869</td>\n",
       "      <td>49473046</td>\n",
       "      <td>Answer</td>\n",
       "      <td>Yes, I'd say 2 things, back to my point about ...</td>\n",
       "      <td>8</td>\n",
       "      <td>Peter Kosak</td>\n",
       "      <td>None</td>\n",
       "    </tr>\n",
       "    <tr>\n",
       "      <th>11442</th>\n",
       "      <td>1207869</td>\n",
       "      <td>49473061</td>\n",
       "      <td>Answer</td>\n",
       "      <td>Yes, not at all. In fact, I think that a lot o...</td>\n",
       "      <td>23</td>\n",
       "      <td>Peter Kosak</td>\n",
       "      <td>None</td>\n",
       "    </tr>\n",
       "    <tr>\n",
       "      <th>11443</th>\n",
       "      <td>1207869</td>\n",
       "      <td>49473048</td>\n",
       "      <td>Answer</td>\n",
       "      <td>Yes. I mean, purely as a matter of control and...</td>\n",
       "      <td>10</td>\n",
       "      <td>Peter Kosak</td>\n",
       "      <td>None</td>\n",
       "    </tr>\n",
       "    <tr>\n",
       "      <th>11444</th>\n",
       "      <td>1207869</td>\n",
       "      <td>49473038</td>\n",
       "      <td>Presenter Speech</td>\n",
       "      <td>All right. Yes, I think we'll kick things off....</td>\n",
       "      <td>0</td>\n",
       "      <td>Rod Lache</td>\n",
       "      <td>None</td>\n",
       "    </tr>\n",
       "  </tbody>\n",
       "</table>\n",
       "<p>11445 rows × 7 columns</p>\n",
       "</div>"
      ],
      "text/plain": [
       "       transcriptid  componentid componenttypename  \\\n",
       "0           1579439     62319690  Presenter Speech   \n",
       "1           1579439     62319781            Answer   \n",
       "2           1579439     62319772          Question   \n",
       "3           1579439     62319777          Question   \n",
       "4           1579439     62319666  Presenter Speech   \n",
       "...             ...          ...               ...   \n",
       "11440       1207869     49473055          Question   \n",
       "11441       1207869     49473046            Answer   \n",
       "11442       1207869     49473061            Answer   \n",
       "11443       1207869     49473048            Answer   \n",
       "11444       1207869     49473038  Presenter Speech   \n",
       "\n",
       "                                                    text  componentorder  \\\n",
       "0      Correct. Correct. The company here had a 4-mon...              35   \n",
       "1         It's the same amount of service. So same cost.             126   \n",
       "2      I have one for Deepak and then a follow-up, pl...             117   \n",
       "3      And then to follow up, I was just wondering if...             122   \n",
       "4      Yes, exactly. So if you look at there, the tri...              11   \n",
       "...                                                  ...             ...   \n",
       "11440  How does GM protect its brands when you're tal...              17   \n",
       "11441  Yes, I'd say 2 things, back to my point about ...               8   \n",
       "11442  Yes, not at all. In fact, I think that a lot o...              23   \n",
       "11443  Yes. I mean, purely as a matter of control and...              10   \n",
       "11444  All right. Yes, I think we'll kick things off....               0   \n",
       "\n",
       "            personname companyofperson  \n",
       "0        Laurie Shelby            None  \n",
       "1         Deepak Ahuja            None  \n",
       "2      Toni Sacconaghi            None  \n",
       "3      Toni Sacconaghi            None  \n",
       "4          Madan Gopal            None  \n",
       "...                ...             ...  \n",
       "11440        Rod Lache            None  \n",
       "11441      Peter Kosak            None  \n",
       "11442      Peter Kosak            None  \n",
       "11443      Peter Kosak            None  \n",
       "11444        Rod Lache            None  \n",
       "\n",
       "[11445 rows x 7 columns]"
      ]
     },
     "execution_count": 6,
     "metadata": {},
     "output_type": "execute_result"
    }
   ],
   "source": [
    "component_df"
   ]
  },
  {
   "cell_type": "markdown",
   "metadata": {},
   "source": [
    "# <span style=\"color:blue\">Testing, Error Detection, and Profiling</span>"
   ]
  },
  {
   "cell_type": "markdown",
   "metadata": {},
   "source": [
    "![](images/165-minor-change.png)"
   ]
  },
  {
   "cell_type": "markdown",
   "metadata": {},
   "source": [
    "## Testing"
   ]
  },
  {
   "cell_type": "code",
   "execution_count": 7,
   "metadata": {},
   "outputs": [
    {
     "name": "stdout",
     "output_type": "stream",
     "text": [
      "Number of Transcripts: 137\n"
     ]
    }
   ],
   "source": [
    "result = engine.execute(\"select count(*) as cnt from Transcript\")\n",
    "row = result.fetchone()\n",
    "print(f\"Number of Transcripts: {row['cnt']}\")\n",
    "assert row[\"cnt\"] == 137"
   ]
  },
  {
   "cell_type": "code",
   "execution_count": 8,
   "metadata": {},
   "outputs": [
    {
     "name": "stdout",
     "output_type": "stream",
     "text": [
      "Number of Components: 11445\n"
     ]
    }
   ],
   "source": [
    "result = engine.execute(\"select count(*) as cnt from Component\")\n",
    "row = result.fetchone()\n",
    "print(f\"Number of Components: {row['cnt']}\")\n",
    "assert row[\"cnt\"] == 11445"
   ]
  },
  {
   "cell_type": "markdown",
   "metadata": {},
   "source": [
    "![](images/project-structure.png)"
   ]
  },
  {
   "cell_type": "markdown",
   "metadata": {},
   "source": [
    "## Exception Handling"
   ]
  },
  {
   "cell_type": "code",
   "execution_count": 9,
   "metadata": {},
   "outputs": [
    {
     "name": "stdout",
     "output_type": "stream",
     "text": [
      "trying divide by 0\n",
      "Can't do that.\n",
      "Time to clean up this mess\n"
     ]
    }
   ],
   "source": [
    "try:\n",
    "    print(\"trying divide by 0\")\n",
    "    100/0\n",
    "    print(\"Infinity and beyond!\")\n",
    "except ZeroDivisionError:\n",
    "    print(\"Can't do that.\")\n",
    "finally:\n",
    "    print(\"Time to clean up this mess\")"
   ]
  },
  {
   "cell_type": "markdown",
   "metadata": {},
   "source": [
    "## Profiling"
   ]
  },
  {
   "cell_type": "code",
   "execution_count": 10,
   "metadata": {},
   "outputs": [],
   "source": [
    "import spacy\n",
    "nlp = spacy.load(\"en_core_web_md\")"
   ]
  },
  {
   "cell_type": "code",
   "execution_count": 11,
   "metadata": {},
   "outputs": [],
   "source": [
    "answers_df = component_df.loc[component_df['componenttypename'] == \"Answer\"]\n",
    "texts = list(answers_df['text'])[:500]"
   ]
  },
  {
   "cell_type": "code",
   "execution_count": 12,
   "metadata": {},
   "outputs": [
    {
     "name": "stdout",
     "output_type": "stream",
     "text": [
      "CPU times: user 6.39 s, sys: 315 ms, total: 6.71 s\n",
      "Wall time: 6.71 s\n"
     ]
    }
   ],
   "source": [
    "%%time\n",
    "docs = []\n",
    "for text in texts:\n",
    "    docs.append(nlp(text))"
   ]
  },
  {
   "cell_type": "code",
   "execution_count": 13,
   "metadata": {},
   "outputs": [
    {
     "name": "stdout",
     "output_type": "stream",
     "text": [
      "CPU times: user 1.84 s, sys: 148 ms, total: 1.99 s\n",
      "Wall time: 1.99 s\n"
     ]
    }
   ],
   "source": [
    "%%time\n",
    "docs = []\n",
    "with nlp.disable_pipes('tagger', 'parser'):\n",
    "    for text in texts:\n",
    "        docs.append(nlp(text))"
   ]
  },
  {
   "cell_type": "markdown",
   "metadata": {},
   "source": [
    "### Example from: https://realpython.com/numpy-array-programming/"
   ]
  },
  {
   "cell_type": "code",
   "execution_count": 14,
   "metadata": {},
   "outputs": [],
   "source": [
    "import numpy as np\n",
    "np.random.seed(444)"
   ]
  },
  {
   "cell_type": "code",
   "execution_count": 15,
   "metadata": {},
   "outputs": [
    {
     "data": {
      "text/plain": [
       "array([ True, False,  True, ...,  True, False,  True])"
      ]
     },
     "execution_count": 15,
     "metadata": {},
     "output_type": "execute_result"
    }
   ],
   "source": [
    "x = np.random.choice([False, True], size=100000)\n",
    "x"
   ]
  },
  {
   "cell_type": "code",
   "execution_count": 16,
   "metadata": {},
   "outputs": [],
   "source": [
    "def count_transitions(x) -> int:\n",
    "    count = 0\n",
    "    for i, j in zip(x[:-1], x[1:]):\n",
    "        if j and not i:\n",
    "            count += 1\n",
    "    return count"
   ]
  },
  {
   "cell_type": "code",
   "execution_count": 17,
   "metadata": {},
   "outputs": [
    {
     "name": "stdout",
     "output_type": "stream",
     "text": [
      "5.63 ms ± 117 µs per loop (mean ± std. dev. of 7 runs, 100 loops each)\n"
     ]
    }
   ],
   "source": [
    "%timeit count_transitions(x)"
   ]
  },
  {
   "cell_type": "code",
   "execution_count": 18,
   "metadata": {},
   "outputs": [
    {
     "name": "stdout",
     "output_type": "stream",
     "text": [
      "75.8 µs ± 555 ns per loop (mean ± std. dev. of 7 runs, 10000 loops each)\n"
     ]
    }
   ],
   "source": [
    "%timeit np.count_nonzero(x[:-1] < x[1:])"
   ]
  },
  {
   "cell_type": "code",
   "execution_count": 19,
   "metadata": {},
   "outputs": [],
   "source": [
    "%load_ext memory_profiler"
   ]
  },
  {
   "cell_type": "code",
   "execution_count": 20,
   "metadata": {},
   "outputs": [
    {
     "name": "stdout",
     "output_type": "stream",
     "text": [
      "peak memory: 946.52 MiB, increment: -0.49 MiB\n"
     ]
    }
   ],
   "source": [
    "%%memit \n",
    "import numpy as np\n",
    "np.count_nonzero(x[:-1] < x[1:])"
   ]
  },
  {
   "cell_type": "markdown",
   "metadata": {},
   "source": [
    "## Configuring your Code Dependencies"
   ]
  },
  {
   "cell_type": "markdown",
   "metadata": {},
   "source": [
    "Conda environments are cheap to create and easy to delete"
   ]
  },
  {
   "cell_type": "code",
   "execution_count": 21,
   "metadata": {},
   "outputs": [
    {
     "name": "stdout",
     "output_type": "stream",
     "text": [
      "# conda environments:\n",
      "#\n",
      "base                     /Users/willthompson/anaconda3\n",
      "aws                      /Users/willthompson/anaconda3/envs/aws\n",
      "cafrs                    /Users/willthompson/anaconda3/envs/cafrs\n",
      "cluedo                   /Users/willthompson/anaconda3/envs/cluedo\n",
      "corelogic                /Users/willthompson/anaconda3/envs/corelogic\n",
      "edx                      /Users/willthompson/anaconda3/envs/edx\n",
      "gcp                      /Users/willthompson/anaconda3/envs/gcp\n",
      "mturk                    /Users/willthompson/anaconda3/envs/mturk\n",
      "ocr-review               /Users/willthompson/anaconda3/envs/ocr-review\n",
      "patent-data              /Users/willthompson/anaconda3/envs/patent-data\n",
      "pytorch-nlp              /Users/willthompson/anaconda3/envs/pytorch-nlp\n",
      "textract                 /Users/willthompson/anaconda3/envs/textract\n",
      "voilatest                /Users/willthompson/anaconda3/envs/voilatest\n",
      "workshop-env          *  /Users/willthompson/anaconda3/envs/workshop-env\n",
      "\n"
     ]
    }
   ],
   "source": [
    "! conda env list"
   ]
  },
  {
   "cell_type": "markdown",
   "metadata": {},
   "source": [
    "Notice how many packages there are, so many opportunities for something to change and potentially break your code! If you're using a package, try to find ones with a sizable support community, not one-offs from an undergraduate class project."
   ]
  },
  {
   "cell_type": "code",
   "execution_count": 22,
   "metadata": {},
   "outputs": [
    {
     "name": "stdout",
     "output_type": "stream",
     "text": [
      "# packages in environment at /Users/willthompson/anaconda3/envs/workshop-env:\n",
      "#\n",
      "# Name                    Version                   Build  Channel\n",
      "appnope                   0.1.0                 py37_1000    conda-forge\n",
      "asn1crypto                1.3.0                    py37_0    conda-forge\n",
      "attrs                     19.3.0                     py_0    conda-forge\n",
      "backcall                  0.1.0                      py_0    conda-forge\n",
      "bleach                    3.1.1                      py_0    conda-forge\n",
      "bzip2                     1.0.8                h0b31af3_2    conda-forge\n",
      "ca-certificates           2019.11.28           hecc5488_0    conda-forge\n",
      "cachetools                4.0.0                    pypi_0    pypi\n",
      "catalogue                 1.0.0                      py_0    conda-forge\n",
      "certifi                   2019.11.28               py37_0    conda-forge\n",
      "cffi                      1.13.2           py37h33e799b_0    conda-forge\n",
      "chardet                   3.0.4                 py37_1003    conda-forge\n",
      "cryptography              2.5              py37hdbc3d79_1    conda-forge\n",
      "cymem                     2.0.3            py37h4a8c4bd_0    conda-forge\n",
      "cython-blis               0.4.1            py37h0b31af3_0    conda-forge\n",
      "cytoolz                   0.10.1                   pypi_0    pypi\n",
      "decorator                 4.4.1                      py_0    conda-forge\n",
      "defusedxml                0.6.0                      py_0    conda-forge\n",
      "en-core-web-md            2.2.5                    pypi_0    pypi\n",
      "en-core-web-sm            2.2.5                    pypi_0    pypi\n",
      "entrypoints               0.3                   py37_1000    conda-forge\n",
      "idna                      2.9                        py_1    conda-forge\n",
      "importlib_metadata        1.5.0                    py37_0    conda-forge\n",
      "ipykernel                 5.1.4            py37h5ca1d4c_0    conda-forge\n",
      "ipython                   7.12.0           py37h5ca1d4c_0    conda-forge\n",
      "ipython_genutils          0.2.0                      py_1    conda-forge\n",
      "jedi                      0.16.0                   py37_0    conda-forge\n",
      "jellyfish                 0.7.2                    pypi_0    pypi\n",
      "jinja2                    2.11.1                     py_0    conda-forge\n",
      "joblib                    0.14.1                   pypi_0    pypi\n",
      "json5                     0.9.0                      py_0    conda-forge\n",
      "jsonschema                3.2.0                    py37_0    conda-forge\n",
      "jupyter_client            5.3.4                    py37_1    conda-forge\n",
      "jupyter_core              4.6.3                    py37_0    conda-forge\n",
      "jupyterlab                1.2.6                      py_0    conda-forge\n",
      "jupyterlab_server         1.0.6                      py_0    conda-forge\n",
      "libblas                   3.8.0               15_openblas    conda-forge\n",
      "libcblas                  3.8.0               15_openblas    conda-forge\n",
      "libcxx                    9.0.1                         1    conda-forge\n",
      "libffi                    3.2.1             h6de7cb9_1006    conda-forge\n",
      "libgfortran               4.0.0                         2    conda-forge\n",
      "liblapack                 3.8.0               15_openblas    conda-forge\n",
      "libopenblas               0.3.8                h3d69b6c_0    conda-forge\n",
      "libsodium                 1.0.17               h01d97ff_0    conda-forge\n",
      "llvm-openmp               9.0.1                h28b9765_2    conda-forge\n",
      "markupsafe                1.1.1            py37h0b31af3_0    conda-forge\n",
      "memory_profiler           0.57.0                     py_0    conda-forge\n",
      "mistune                   0.8.4           py37h0b31af3_1000    conda-forge\n",
      "more-itertools            8.2.0                      py_0    conda-forge\n",
      "murmurhash                1.0.0            py37h4a8c4bd_0    conda-forge\n",
      "nbconvert                 5.6.1                    py37_0    conda-forge\n",
      "nbformat                  5.0.4                      py_0    conda-forge\n",
      "ncurses                   6.1               h0a44026_1002    conda-forge\n",
      "networkx                  2.4                      pypi_0    pypi\n",
      "notebook                  6.0.3                    py37_0    conda-forge\n",
      "numpy                     1.18.1           py37hde6bac1_0    conda-forge\n",
      "openssl                   1.0.2u               h0b31af3_0    conda-forge\n",
      "packaging                 20.1                       py_0    conda-forge\n",
      "pandas                    1.0.1            py37h4f17bb1_0    conda-forge\n",
      "pandoc                    2.9.2                         0    conda-forge\n",
      "pandocfilters             1.4.2                      py_1    conda-forge\n",
      "parso                     0.6.1                      py_0    conda-forge\n",
      "pexpect                   4.8.0                    py37_0    conda-forge\n",
      "pickleshare               0.7.5                 py37_1000    conda-forge\n",
      "pip                       20.0.2                     py_2    conda-forge\n",
      "plac                      0.9.6                      py_1    conda-forge\n",
      "pluggy                    0.13.0                   py37_0    conda-forge\n",
      "preshed                   3.0.2            py37h4a8c4bd_1    conda-forge\n",
      "prometheus_client         0.7.1                      py_0    conda-forge\n",
      "prompt_toolkit            3.0.3                      py_0    conda-forge\n",
      "psutil                    5.7.0            py37h0b31af3_0    conda-forge\n",
      "ptyprocess                0.6.0                   py_1001    conda-forge\n",
      "py                        1.8.1                      py_0    conda-forge\n",
      "pycparser                 2.19                       py_2    conda-forge\n",
      "pygments                  2.5.2                      py_0    conda-forge\n",
      "pyopenssl                 19.0.0                   py37_0    conda-forge\n",
      "pyparsing                 2.4.6                      py_0    conda-forge\n",
      "pyrsistent                0.15.7           py37h0b31af3_0    conda-forge\n",
      "pysocks                   1.7.1                    py37_0    conda-forge\n",
      "pytest                    5.3.5                    py37_1    conda-forge\n",
      "python                    3.7.0             h145921a_1006    conda-forge\n",
      "python-dateutil           2.8.1                      py_0    conda-forge\n",
      "python-template           0.1.1                    pypi_0    pypi\n",
      "pytz                      2019.3                     py_0    conda-forge\n",
      "pyyaml                    5.3              py37h0b31af3_0    conda-forge\n",
      "pyzmq                     18.1.1           py37h4bf09a9_0    conda-forge\n",
      "readline                  7.0               hcfe32e1_1001    conda-forge\n",
      "requests                  2.23.0                   py37_0    conda-forge\n",
      "scikit-learn              0.22.1                   pypi_0    pypi\n",
      "scipy                     1.4.1                    pypi_0    pypi\n",
      "send2trash                1.5.0                      py_0    conda-forge\n",
      "setuptools                45.2.0                   py37_0    conda-forge\n",
      "six                       1.14.0                   py37_0    conda-forge\n",
      "spacy                     2.2.3            py37ha1b3eb9_0    conda-forge\n",
      "sqlalchemy                1.3.13           py37h0b31af3_0    conda-forge\n",
      "sqlite                    3.28.0               h9721f7c_0    conda-forge\n",
      "srsly                     1.0.0            py37h4a8c4bd_0    conda-forge\n",
      "terminado                 0.8.3                    py37_0    conda-forge\n",
      "testpath                  0.4.4                      py_0    conda-forge\n",
      "thinc                     7.3.0            py37ha1b3eb9_0    conda-forge\n",
      "tk                        8.6.10               hbbe82c9_0    conda-forge\n",
      "toolz                     0.10.0                   pypi_0    pypi\n",
      "tornado                   6.0.3            py37h0b31af3_4    conda-forge\n",
      "tqdm                      4.43.0                     py_0    conda-forge\n",
      "traitlets                 4.3.3                    py37_0    conda-forge\n",
      "urllib3                   1.25.7                   py37_0    conda-forge\n",
      "wasabi                    0.6.0                      py_0    conda-forge\n",
      "wcwidth                   0.1.8                      py_0    conda-forge\n",
      "webencodings              0.5.1                      py_1    conda-forge\n",
      "wheel                     0.34.2                     py_1    conda-forge\n",
      "xz                        5.2.4             h1de35cc_1001    conda-forge\n",
      "yaml                      0.2.2                h0b31af3_1    conda-forge\n",
      "zeromq                    4.3.2                h6de7cb9_2    conda-forge\n",
      "zipp                      2.2.1                      py_0    conda-forge\n",
      "zlib                      1.2.11            h0b31af3_1006    conda-forge\n"
     ]
    }
   ],
   "source": [
    "! conda list"
   ]
  },
  {
   "cell_type": "markdown",
   "metadata": {},
   "source": [
    "Tip: export your (pinned) dependencies to a file. You can use this to re-create your environment reproducibly, anwhere, and any number of times."
   ]
  },
  {
   "cell_type": "code",
   "execution_count": 23,
   "metadata": {},
   "outputs": [
    {
     "name": "stdout",
     "output_type": "stream",
     "text": [
      "name: workshop-env\n",
      "channels:\n",
      "  - conda-forge\n",
      "  - defaults\n",
      "dependencies:\n",
      "  - python==3.7\n",
      "  - spacy\n",
      "  - jupyterlab\n",
      "  - sqlalchemy\n",
      "  - pytest\n",
      "  - pyyaml\n",
      "  - memory_profiler\n",
      "  - pandas\n",
      "prefix: /Users/willthompson/anaconda3/envs/workshop-env\n",
      "\n"
     ]
    }
   ],
   "source": [
    "! conda env export --from-history"
   ]
  },
  {
   "cell_type": "code",
   "execution_count": 24,
   "metadata": {},
   "outputs": [],
   "source": [
    "! conda env export --from-history | grep -v \"^prefix: \" > environment.yml\n",
    "! sed -i '' 's/workshop-env/test-env/g' environment.yml"
   ]
  },
  {
   "cell_type": "code",
   "execution_count": 25,
   "metadata": {},
   "outputs": [
    {
     "name": "stdout",
     "output_type": "stream",
     "text": [
      "Collecting package metadata (repodata.json): done\n",
      "Solving environment: done\n",
      "Preparing transaction: done\n",
      "Verifying transaction: done\n",
      "Executing transaction: done\n",
      "#\n",
      "# To activate this environment, use\n",
      "#\n",
      "#     $ conda activate test-env\n",
      "#\n",
      "# To deactivate an active environment, use\n",
      "#\n",
      "#     $ conda deactivate\n",
      "\n"
     ]
    }
   ],
   "source": [
    "! conda env create -f environment.yml"
   ]
  },
  {
   "cell_type": "code",
   "execution_count": 26,
   "metadata": {},
   "outputs": [
    {
     "name": "stdout",
     "output_type": "stream",
     "text": [
      "# conda environments:\n",
      "#\n",
      "base                     /Users/willthompson/anaconda3\n",
      "aws                      /Users/willthompson/anaconda3/envs/aws\n",
      "cafrs                    /Users/willthompson/anaconda3/envs/cafrs\n",
      "cluedo                   /Users/willthompson/anaconda3/envs/cluedo\n",
      "corelogic                /Users/willthompson/anaconda3/envs/corelogic\n",
      "edx                      /Users/willthompson/anaconda3/envs/edx\n",
      "gcp                      /Users/willthompson/anaconda3/envs/gcp\n",
      "mturk                    /Users/willthompson/anaconda3/envs/mturk\n",
      "ocr-review               /Users/willthompson/anaconda3/envs/ocr-review\n",
      "patent-data              /Users/willthompson/anaconda3/envs/patent-data\n",
      "pytorch-nlp              /Users/willthompson/anaconda3/envs/pytorch-nlp\n",
      "test-env                 /Users/willthompson/anaconda3/envs/test-env\n",
      "textract                 /Users/willthompson/anaconda3/envs/textract\n",
      "voilatest                /Users/willthompson/anaconda3/envs/voilatest\n",
      "workshop-env          *  /Users/willthompson/anaconda3/envs/workshop-env\n",
      "\n"
     ]
    }
   ],
   "source": [
    "! conda env list"
   ]
  },
  {
   "cell_type": "code",
   "execution_count": 27,
   "metadata": {},
   "outputs": [
    {
     "name": "stdout",
     "output_type": "stream",
     "text": [
      "\n",
      "Remove all packages in environment /Users/willthompson/anaconda3/envs/test-env:\n",
      "\n"
     ]
    }
   ],
   "source": [
    "! conda env remove -n test-env"
   ]
  },
  {
   "cell_type": "markdown",
   "metadata": {},
   "source": [
    "## Configuring the Entire Environment"
   ]
  },
  {
   "cell_type": "markdown",
   "metadata": {},
   "source": [
    "![](images/horizontal-logo-monochromatic-white.png)\n",
    "\n",
    "![](images/container-what-is-container.png)\n",
    "\n",
    "https://www.docker.com/"
   ]
  },
  {
   "cell_type": "code",
   "execution_count": 28,
   "metadata": {},
   "outputs": [
    {
     "name": "stdout",
     "output_type": "stream",
     "text": [
      "Sending build context to Docker daemon  11.38MB\n",
      "Step 1/10 : FROM continuumio/miniconda3\n",
      " ---> 406f2b43ea59\n",
      "Step 2/10 : WORKDIR /home/root/work\n",
      " ---> Using cache\n",
      " ---> b0a37c074537\n",
      "Step 3/10 : ADD environment.yml /tmp/environment.yml\n",
      " ---> Using cache\n",
      " ---> 8d02f12f4f46\n",
      "Step 4/10 : RUN conda update -n base -c defaults conda\n",
      " ---> Using cache\n",
      " ---> 91bd6194f6ba\n",
      "Step 5/10 : RUN conda env create -f /tmp/environment.yml\n",
      " ---> Using cache\n",
      " ---> 53d0844f16d2\n",
      "Step 6/10 : RUN echo \"source activate $(head -1 /tmp/environment.yml | cut -d' ' -f2)\" > ~/.bashrc\n",
      " ---> Using cache\n",
      " ---> 526272c02216\n",
      "Step 7/10 : ENV PATH /opt/conda/envs/$(head -1 /tmp/environment.yml | cut -d' ' -f2)/bin:$PATH\n",
      " ---> Using cache\n",
      " ---> 4a3bb0e2421b\n",
      "Step 8/10 : COPY --chown=root:root ./kelloggrs /home/root/work/kelloggrs\n",
      " ---> Using cache\n",
      " ---> 6b2634d23808\n",
      "Step 9/10 : COPY --chown=root:root ./setup.py /home/root/work/setup.py\n",
      " ---> Using cache\n",
      " ---> 82dceb43d3a6\n",
      "Step 10/10 : RUN pip install .\n",
      " ---> Using cache\n",
      " ---> 8e32b9d2bc19\n",
      "Successfully built 8e32b9d2bc19\n",
      "Successfully tagged workshop:latest\n"
     ]
    }
   ],
   "source": [
    "! docker build .. -t workshop:latest\n",
    "# Open terminal to docker image: docker run -i -t workshop:latest /bin/bash"
   ]
  }
 ],
 "metadata": {
  "kernelspec": {
   "display_name": "Python 3",
   "language": "python",
   "name": "python3"
  },
  "language_info": {
   "codemirror_mode": {
    "name": "ipython",
    "version": 3
   },
   "file_extension": ".py",
   "mimetype": "text/x-python",
   "name": "python",
   "nbconvert_exporter": "python",
   "pygments_lexer": "ipython3",
   "version": "3.7.0"
  }
 },
 "nbformat": 4,
 "nbformat_minor": 4
}
