{
 "cells": [
  {
   "cell_type": "markdown",
   "metadata": {},
   "source": [
    "# Lab 2: SEC Form 4 (Insider Trading)"
   ]
  },
  {
   "cell_type": "markdown",
   "metadata": {},
   "source": [
    "## <b>grep</b> is an xtremely useful Linux command for exploring files on disk\n",
    "\n",
    "```\n",
    "wthompson@ip-10-0-3-22:~$ grep\n",
    "Usage: grep [OPTION]... PATTERN [FILE]...\n",
    "Try 'grep --help' for more information.\n",
    "```"
   ]
  },
  {
   "cell_type": "markdown",
   "metadata": {},
   "source": [
    "## https://en.wikipedia.org/wiki/Regular_expression#History"
   ]
  },
  {
   "cell_type": "markdown",
   "metadata": {},
   "source": [
    "## https://opensourceforu.com/2012/06/beginners-guide-gnu-grep-basics/"
   ]
  },
  {
   "cell_type": "code",
   "execution_count": null,
   "metadata": {},
   "outputs": [],
   "source": [
    "# search in a single file\n",
    "!grep -E \"STATE\" 9984_4_0000009984-19-000114.txt"
   ]
  },
  {
   "cell_type": "code",
   "execution_count": null,
   "metadata": {},
   "outputs": [],
   "source": [
    "# case-insensitive search\n",
    "!grep -E -i 'state' 9984_4_0000009984-19-000114.txt"
   ]
  },
  {
   "cell_type": "code",
   "execution_count": null,
   "metadata": {},
   "outputs": [],
   "source": [
    "# search multiple files in a single directory\n",
    "!grep -E -i 'state:' /srv/data/workshop/sec_form4/*.txt"
   ]
  },
  {
   "cell_type": "code",
   "execution_count": null,
   "metadata": {},
   "outputs": [],
   "source": [
    "# search recursively\n",
    "!grep -E -r -i 'state:' /srv/data/workshop/ > states.txt"
   ]
  },
  {
   "cell_type": "code",
   "execution_count": null,
   "metadata": {},
   "outputs": [],
   "source": [
    "# some more nice options\n",
    "# -n: line number\n",
    "# -\n",
    "!grep -E -i -n -color  'state.' 9984_4_0000009984-19-000114.txt"
   ]
  },
  {
   "cell_type": "markdown",
   "metadata": {},
   "source": [
    "# Examine footnotes\n",
    "\n",
    "Why this might be useful: https://whalewisdomalpha.com/form-4-insider-trading-analysis/"
   ]
  },
  {
   "cell_type": "markdown",
   "metadata": {},
   "source": [
    "## Write a grep statement to pull out footnote text and save to a file called \"footnotes.txt\""
   ]
  },
  {
   "cell_type": "code",
   "execution_count": null,
   "metadata": {},
   "outputs": [],
   "source": [
    "!grep ..."
   ]
  },
  {
   "cell_type": "code",
   "execution_count": null,
   "metadata": {},
   "outputs": [],
   "source": [
    "import pathlib\n",
    "path = pathlib.Path.cwd() / 'footnotes.txt'\n",
    "with open(path, mode='r') as fid:\n",
    "    lines = [line for line in fid]\n",
    "footnotes = \"\\n\".join(lines)"
   ]
  },
  {
   "cell_type": "markdown",
   "metadata": {},
   "source": [
    "## Create a regular expression to match all dates in the footnotes.txt file"
   ]
  },
  {
   "cell_type": "code",
   "execution_count": null,
   "metadata": {},
   "outputs": [],
   "source": [
    "import re\n",
    "\n",
    "# TODO: fill this in\n",
    "regex = r\"\" \n",
    "p = re.compile(regex)\n",
    "for line in lines:\n",
    "    matches = p.finditer(line)\n",
    "    for m in matches:\n",
    "        print(f\"{m}\")"
   ]
  }
 ],
 "metadata": {
  "kernelspec": {
   "display_name": "Python 3",
   "language": "python",
   "name": "python3"
  },
  "language_info": {
   "codemirror_mode": {
    "name": "ipython",
    "version": 3
   },
   "file_extension": ".py",
   "mimetype": "text/x-python",
   "name": "python",
   "nbconvert_exporter": "python",
   "pygments_lexer": "ipython3",
   "version": "3.6.10"
  }
 },
 "nbformat": 4,
 "nbformat_minor": 2
}
