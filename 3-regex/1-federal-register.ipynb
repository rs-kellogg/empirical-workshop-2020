{
 "cells": [
  {
   "cell_type": "markdown",
   "metadata": {},
   "source": [
    "# Lab 1: Federal Register"
   ]
  },
  {
   "cell_type": "code",
   "execution_count": 2,
   "metadata": {},
   "outputs": [],
   "source": [
    "from pathlib import Path\n",
    "import re"
   ]
  },
  {
   "cell_type": "markdown",
   "metadata": {},
   "source": [
    "## Load the Data"
   ]
  },
  {
   "cell_type": "code",
   "execution_count": 5,
   "metadata": {},
   "outputs": [],
   "source": [
    "path = Path(\"/srv/data/workshop/excerpt-p17.txt\")"
   ]
  },
  {
   "cell_type": "code",
   "execution_count": 6,
   "metadata": {},
   "outputs": [],
   "source": [
    "with open(path, mode='r', encoding='utf-16-le') as fid:\n",
    "    lines = [line for line in fid]"
   ]
  },
  {
   "cell_type": "markdown",
   "metadata": {},
   "source": [
    "## Extract Fields"
   ]
  },
  {
   "cell_type": "markdown",
   "metadata": {},
   "source": [
    "### https://regex101.com/"
   ]
  },
  {
   "cell_type": "code",
   "execution_count": 7,
   "metadata": {},
   "outputs": [],
   "source": [
    "class Record:\n",
    "    \"\"\"\n",
    "    A simple data class containing fields for each extracted line\n",
    "    \"\"\"\n",
    "    def __init__(self, dept, name, title, state, dist, salary):\n",
    "        self.dept, self.name, self.title, self.state, self.dist, self.salary = \\\n",
    "            dept, name, title, state, dist, salary\n",
    "    \n",
    "    def __str__(self):\n",
    "        return f\"DEPT: {self.dept}\\nNAME: {self.name}\\nTITLE: {self.title}\\nSTATE: {self.state}\\nDIST: {self.dist}\\nSALARY: {self.salary}\"\n",
    "    \n",
    "    def to_dict(self):\n",
    "        return {\n",
    "            'dept':self.dept,\n",
    "            'name':self.name,\n",
    "            'title':self.title,\n",
    "            'state':self.state,\n",
    "            'dist':self.dist,\n",
    "            'salary':self.salary\n",
    "        }"
   ]
  },
  {
   "cell_type": "code",
   "execution_count": 8,
   "metadata": {},
   "outputs": [],
   "source": [
    "dept_regex      = r\"\"\n",
    "name_regex      = r\"\"\n",
    "title_regex     = r\"\"\n",
    "state_regex     = r\"\"\n",
    "dist_regex      = r\"\"\n",
    "salary_regex    = r\"\""
   ]
  },
  {
   "cell_type": "code",
   "execution_count": 9,
   "metadata": {},
   "outputs": [],
   "source": [
    "# will contain collected records extracted from text\n",
    "records = []\n",
    "\n",
    "# initialize dept variable\n",
    "dept = None\n",
    "\n",
    "# iterate through lines of text\n",
    "for line in lines:\n",
    "    \n",
    "    # Look for a department match\n",
    "    dept_match = re.match(dept_regex, line, re.MULTILINE)\n",
    "    if dept_match: \n",
    "        dept = dept_match.group(1)\n",
    "        continue\n",
    "    \n",
    "    # Look for a row to extract a record. Every such row begins with a name,\n",
    "    # so if we get a name match, we'll look for the other pieces of information\n",
    "    name, title, state, dist, salary = None, None, None, None, None\n",
    "    \n",
    "    # 1: Name match\n",
    "    name_match = re.match(name_regex, line, re.MULTILINE)\n",
    "    if name_match:\n",
    "        name = name_match.group(1)\n",
    "        line = line[name_match.end(1):]\n",
    "        \n",
    "        # 2: Title match\n",
    "        title_match = re.match(title_regex, line, re.MULTILINE)\n",
    "        if title_match:\n",
    "            title = title_match.group(1)\n",
    "            line = line[title_match.end(1):]\n",
    "            \n",
    "        # 3: State match\n",
    "        state_match = re.match(state_regex, line, re.MULTILINE)\n",
    "        if state_match:\n",
    "            state = state_match.group(1)\n",
    "            state = re.sub(r\"[\\. ]\", '', state)\n",
    "            state = state.upper()\n",
    "            line = line[state_match.end(1):]\n",
    "        \n",
    "        # 4: District match\n",
    "        dist_match = re.search(dist_regex, line)\n",
    "        if dist_match:\n",
    "            dist = dist_match.group(1)\n",
    "            line = line[dist_match.end(1):]\n",
    "            \n",
    "        # 5: Salary match\n",
    "        salary_match = re.search(salary_regex, line)\n",
    "        if salary_match:\n",
    "            salary = salary_match.group(1)\n",
    "            salary = int(re.sub(r\"[, ]\", '', salary))\n",
    "\n",
    "        # Append the new record to the list of records\n",
    "        records.append(Record(dept=dept, \n",
    "                              name=name, \n",
    "                              title=title,\n",
    "                              state=state, \n",
    "                              dist=dist, \n",
    "                              salary=salary))"
   ]
  },
  {
   "cell_type": "markdown",
   "metadata": {},
   "source": [
    "## Create a Dataframe"
   ]
  },
  {
   "cell_type": "code",
   "execution_count": 10,
   "metadata": {},
   "outputs": [],
   "source": [
    "import pandas as pd\n",
    "import matplotlib.pyplot as plt\n",
    "%matplotlib inline"
   ]
  },
  {
   "cell_type": "code",
   "execution_count": 11,
   "metadata": {},
   "outputs": [],
   "source": [
    "dict_rows = [rec.to_dict() for rec in records]\n",
    "df = pd.DataFrame(dict_rows)"
   ]
  },
  {
   "cell_type": "code",
   "execution_count": 12,
   "metadata": {},
   "outputs": [
    {
     "data": {
      "text/html": [
       "<div>\n",
       "<style scoped>\n",
       "    .dataframe tbody tr th:only-of-type {\n",
       "        vertical-align: middle;\n",
       "    }\n",
       "\n",
       "    .dataframe tbody tr th {\n",
       "        vertical-align: top;\n",
       "    }\n",
       "\n",
       "    .dataframe thead th {\n",
       "        text-align: right;\n",
       "    }\n",
       "</style>\n",
       "<table border=\"1\" class=\"dataframe\">\n",
       "  <thead>\n",
       "    <tr style=\"text-align: right;\">\n",
       "      <th></th>\n",
       "      <th>dept</th>\n",
       "      <th>name</th>\n",
       "      <th>title</th>\n",
       "      <th>state</th>\n",
       "      <th>dist</th>\n",
       "      <th>salary</th>\n",
       "    </tr>\n",
       "  </thead>\n",
       "  <tbody>\n",
       "    <tr>\n",
       "      <th>0</th>\n",
       "      <td>GOVERNMENT PRINTING OFFICE</td>\n",
       "      <td>George H. Carter</td>\n",
       "      <td>Public Printer</td>\n",
       "      <td>IOWA</td>\n",
       "      <td>9th</td>\n",
       "      <td>10000</td>\n",
       "    </tr>\n",
       "    <tr>\n",
       "      <th>1</th>\n",
       "      <td>GOVERNMENT PRINTING OFFICE</td>\n",
       "      <td>John Greene</td>\n",
       "      <td>Deputy Public Printer</td>\n",
       "      <td>MASS</td>\n",
       "      <td>5th</td>\n",
       "      <td>7500</td>\n",
       "    </tr>\n",
       "    <tr>\n",
       "      <th>2</th>\n",
       "      <td>GOVERNMENT PRINTING OFFICE</td>\n",
       "      <td>Mary A. Tate</td>\n",
       "      <td>Assistant to the Public Printer</td>\n",
       "      <td>TENN</td>\n",
       "      <td>2d</td>\n",
       "      <td>4000</td>\n",
       "    </tr>\n",
       "    <tr>\n",
       "      <th>3</th>\n",
       "      <td>GOVERNMENT PRINTING OFFICE</td>\n",
       "      <td>Henry H. Wright</td>\n",
       "      <td>Chief clerk</td>\n",
       "      <td>NY</td>\n",
       "      <td>28th</td>\n",
       "      <td>4200</td>\n",
       "    </tr>\n",
       "    <tr>\n",
       "      <th>4</th>\n",
       "      <td>GOVERNMENT PRINTING OFFICE</td>\n",
       "      <td>Edward J. Wilver</td>\n",
       "      <td>Disbursing clerk</td>\n",
       "      <td>PA</td>\n",
       "      <td>16th</td>\n",
       "      <td>4000</td>\n",
       "    </tr>\n",
       "  </tbody>\n",
       "</table>\n",
       "</div>"
      ],
      "text/plain": [
       "                         dept              name  \\\n",
       "0  GOVERNMENT PRINTING OFFICE  George H. Carter   \n",
       "1  GOVERNMENT PRINTING OFFICE       John Greene   \n",
       "2  GOVERNMENT PRINTING OFFICE      Mary A. Tate   \n",
       "3  GOVERNMENT PRINTING OFFICE   Henry H. Wright   \n",
       "4  GOVERNMENT PRINTING OFFICE  Edward J. Wilver   \n",
       "\n",
       "                             title state  dist  salary  \n",
       "0                   Public Printer  IOWA   9th   10000  \n",
       "1            Deputy Public Printer  MASS   5th    7500  \n",
       "2  Assistant to the Public Printer  TENN    2d    4000  \n",
       "3                      Chief clerk    NY  28th    4200  \n",
       "4                 Disbursing clerk    PA  16th    4000  "
      ]
     },
     "execution_count": 12,
     "metadata": {},
     "output_type": "execute_result"
    }
   ],
   "source": [
    "df.head()"
   ]
  },
  {
   "cell_type": "code",
   "execution_count": 13,
   "metadata": {},
   "outputs": [
    {
     "data": {
      "text/plain": [
       "<matplotlib.axes._subplots.AxesSubplot at 0x7f67157145f8>"
      ]
     },
     "execution_count": 13,
     "metadata": {},
     "output_type": "execute_result"
    },
    {
     "data": {
      "image/png": "[encoded data removed]",
      "text/plain": [
       "<Figure size 720x360 with 1 Axes>"
      ]
     },
     "metadata": {
      "needs_background": "light"
     },
     "output_type": "display_data"
    }
   ],
   "source": [
    "plt.rcParams['figure.figsize'] = [10, 5]\n",
    "df.groupby(['state'])['name'].count().plot.bar(x='state')"
   ]
  },
  {
   "cell_type": "code",
   "execution_count": 14,
   "metadata": {},
   "outputs": [
    {
     "data": {
      "text/plain": [
       "<matplotlib.axes._subplots.AxesSubplot at 0x7f6715366da0>"
      ]
     },
     "execution_count": 14,
     "metadata": {},
     "output_type": "execute_result"
    },
    {
     "data": {
      "image/png": "[encoded data removed]",
      "text/plain": [
       "<Figure size 720x360 with 1 Axes>"
      ]
     },
     "metadata": {
      "needs_background": "light"
     },
     "output_type": "display_data"
    }
   ],
   "source": [
    "df.groupby(['state'])['salary'].mean().plot.bar(x='salary')"
   ]
  },
  {
   "cell_type": "code",
   "execution_count": 15,
   "metadata": {},
   "outputs": [],
   "source": [
    "df.to_csv('records.csv', sep=',', index=False, encoding='utf-8')"
   ]
  }
 ],
 "metadata": {
  "kernelspec": {
   "display_name": "Python 3",
   "language": "python",
   "name": "python3"
  },
  "language_info": {
   "codemirror_mode": {
    "name": "ipython",
    "version": 3
   },
   "file_extension": ".py",
   "mimetype": "text/x-python",
   "name": "python",
   "nbconvert_exporter": "python",
   "pygments_lexer": "ipython3",
   "version": "3.6.10"
  }
 },
 "nbformat": 4,
 "nbformat_minor": 4
}
