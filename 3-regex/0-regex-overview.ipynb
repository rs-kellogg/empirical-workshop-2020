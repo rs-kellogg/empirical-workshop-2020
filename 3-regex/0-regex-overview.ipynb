{
 "cells": [
  {
   "cell_type": "markdown",
   "metadata": {},
   "source": [
    "# RegEx Overview"
   ]
  },
  {
   "cell_type": "markdown",
   "metadata": {},
   "source": [
    "# https://docs.python.org/3/howto/regex.html\n",
    "\n",
    "Regular expressions (called REs, or regexes, or regex patterns) are essentially a tiny, highly specialized programming language embedded inside Python and made available through the re module. Using this little language, you specify the rules for the set of possible strings that you want to match; this set might contain English sentences, or e-mail addresses, or TeX commands, or anything you like. You can then ask questions such as “Does this string match the pattern?”, or “Is there a match for the pattern anywhere in this string?”. You can also use REs to modify a string or to split it apart in various ways.\n",
    "\n",
    "Regular expression patterns are compiled into a series of bytecodes which are then executed by a matching engine written in C. For advanced use, it may be necessary to pay careful attention to how the engine will execute a given RE, and write the RE in a certain way in order to produce bytecode that runs faster. Optimization isn’t covered in this document, because it requires that you have a good understanding of the matching engine’s internals."
   ]
  },
  {
   "cell_type": "code",
   "execution_count": 1,
   "metadata": {},
   "outputs": [
    {
     "data": {
      "text/html": [],
      "text/plain": [
       "<IPython.core.display.HTML object>"
      ]
     },
     "metadata": {},
     "output_type": "display_data"
    }
   ],
   "source": [
    "# Function to display regex matches\n",
    "import regex as re\n",
    "import IPython.core.display as ipd\n",
    "import ipywidgets as ipw\n",
    "\n",
    "@ipw.interact(regex=ipw.Text(), string=ipw.Textarea())\n",
    "def findall(dotall=False, multiline=False, ignorecase=False, only_first=False, regex=\"\", string=\"\"):\n",
    "    if not (regex and string):\n",
    "        ipd.display(ipd.HTML(\"\"))\n",
    "        return None\n",
    "    flags = 0\n",
    "    if dotall:\n",
    "        flags |= re.DOTALL\n",
    "    if multiline:\n",
    "        flags |= re.MULTILINE\n",
    "    if ignorecase:\n",
    "        flags |= re.IGNORECASE\n",
    "    start = '<span style=\"background-color: gold\">'\n",
    "    end = \"</span>\"\n",
    "    offset_bump = len(start) + len(end)\n",
    "    offset = 0\n",
    "    html = string\n",
    "    matches = []\n",
    "    for m in re.finditer(regex, string, flags):\n",
    "        matches.append(m.captures()[0])\n",
    "        span = m.span()\n",
    "        sstart, send = span[0] + offset, span[1] + offset\n",
    "        html = html[:sstart] + start + html[sstart:send] + end + html[send:]\n",
    "        offset += offset_bump\n",
    "        if only_first:\n",
    "            break\n",
    "    ipd.display(ipd.HTML(\"<p>regex: <strong>\" + regex + \"</strong></p>\" + \"<pre>\" + html + \"</pre\"))\n",
    "    return matches"
   ]
  },
  {
   "cell_type": "code",
   "execution_count": 2,
   "metadata": {},
   "outputs": [],
   "source": [
    "text = \"\"\"\n",
    "Regular expressions (called REs, or regexes, or regex patterns) are essentially a tiny, highly specialized programming language embedded inside Python and made available through the re module. Using this little language, you specify the rules for the set of possible strings that you want to match; this set might contain English sentences, or e-mail addresses, or TeX commands, or anything you like. You can then ask questions such as “Does this string match the pattern?”, or “Is there a match for the pattern anywhere in this string?”. You can also use REs to modify a string or to split it apart in various ways.\n",
    "\n",
    "Regular expression patterns are compiled into a series of bytecodes which are then executed by a matching engine written in C. For advanced use, it may be necessary to pay careful attention to how the engine will execute a given RE, and write the RE in a certain way in order to produce bytecode that runs faster. Optimization isn’t covered in this document, because it requires that you have a good understanding of the matching engine’s internals.\n",
    "\"\"\""
   ]
  },
  {
   "cell_type": "markdown",
   "metadata": {},
   "source": [
    "## Matching Characters\n",
    "Characters match themselves. Arranging regex characters in a sequence matches a sequence of characters in the target text."
   ]
  },
  {
   "cell_type": "code",
   "execution_count": 3,
   "metadata": {},
   "outputs": [
    {
     "data": {
      "text/html": [
       "<p>regex: <strong>expression</strong></p><pre>\n",
       "Regular <span style=\"background-color: gold\">expression</span>s (called REs, or regexes, or regex patterns) are essentially a tiny, highly specialized programming language embedded inside Python and made available through the re module. Using this little language, you specify the rules for the set of possible strings that you want to match; this set might contain English sentences, or e-mail addresses, or TeX commands, or anything you like. You can then ask questions such as “Does this string match the pattern?”, or “Is there a match for the pattern anywhere in this string?”. You can also use REs to modify a string or to split it apart in various ways.\n",
       "\n",
       "Regular <span style=\"background-color: gold\">expression</span> patterns are compiled into a series of bytecodes which are then executed by a matching engine written in C. For advanced use, it may be necessary to pay careful attention to how the engine will execute a given RE, and write the RE in a certain way in order to produce bytecode that runs faster. Optimization isn’t covered in this document, because it requires that you have a good understanding of the matching engine’s internals.\n",
       "</pre"
      ],
      "text/plain": [
       "<IPython.core.display.HTML object>"
      ]
     },
     "metadata": {},
     "output_type": "display_data"
    },
    {
     "data": {
      "text/plain": [
       "['expression', 'expression']"
      ]
     },
     "execution_count": 3,
     "metadata": {},
     "output_type": "execute_result"
    }
   ],
   "source": [
    "findall(regex=\"expression\", string=text)"
   ]
  },
  {
   "cell_type": "markdown",
   "metadata": {},
   "source": [
    "## Metacharacters\n",
    "Some characters have special meanings in the context of a regex: \n",
    "```\n",
    ". ^ $ * + ? { } [ ] \\ | ( )\n",
    "```\n",
    "These metacharacters provide patterns with wildcards, optionality, repetition, character classes, disjunction, groups, and anchors"
   ]
  },
  {
   "cell_type": "markdown",
   "metadata": {},
   "source": [
    "## Character classes"
   ]
  },
  {
   "cell_type": "code",
   "execution_count": 6,
   "metadata": {},
   "outputs": [
    {
     "data": {
      "text/html": [
       "<p>regex: <strong>[Rr]eg</strong></p><pre>\n",
       "<span style=\"background-color: gold\">Reg</span>ular expressions (called REs, or <span style=\"background-color: gold\">reg</span>exes, or <span style=\"background-color: gold\">reg</span>ex patterns) are essentially a tiny, highly specialized programming language embedded inside Python and made available through the re module. Using this little language, you specify the rules for the set of possible strings that you want to match; this set might contain English sentences, or e-mail addresses, or TeX commands, or anything you like. You can then ask questions such as “Does this string match the pattern?”, or “Is there a match for the pattern anywhere in this string?”. You can also use REs to modify a string or to split it apart in various ways.\n",
       "\n",
       "<span style=\"background-color: gold\">Reg</span>ular expression patterns are compiled into a series of bytecodes which are then executed by a matching engine written in C. For advanced use, it may be necessary to pay careful attention to how the engine will execute a given RE, and write the RE in a certain way in order to produce bytecode that runs faster. Optimization isn’t covered in this document, because it requires that you have a good understanding of the matching engine’s internals.\n",
       "</pre"
      ],
      "text/plain": [
       "<IPython.core.display.HTML object>"
      ]
     },
     "metadata": {},
     "output_type": "display_data"
    },
    {
     "data": {
      "text/plain": [
       "['Reg', 'reg', 'reg', 'Reg']"
      ]
     },
     "execution_count": 6,
     "metadata": {},
     "output_type": "execute_result"
    }
   ],
   "source": [
    "findall(regex=\"[Rr]eg\", string=text)"
   ]
  },
  {
   "cell_type": "code",
   "execution_count": null,
   "metadata": {},
   "outputs": [],
   "source": []
  }
 ],
 "metadata": {
  "kernelspec": {
   "display_name": "Python 3",
   "language": "python",
   "name": "python3"
  },
  "language_info": {
   "codemirror_mode": {
    "name": "ipython",
    "version": 3
   },
   "file_extension": ".py",
   "mimetype": "text/x-python",
   "name": "python",
   "nbconvert_exporter": "python",
   "pygments_lexer": "ipython3",
   "version": "3.6.10"
  }
 },
 "nbformat": 4,
 "nbformat_minor": 2
}
