{
 "cells": [
  {
   "cell_type": "markdown",
   "metadata": {},
   "source": [
    "# RegEx Overview"
   ]
  },
  {
   "cell_type": "markdown",
   "metadata": {},
   "source": [
    "# https://docs.python.org/3/howto/regex.html\n",
    "\n",
    "Regular expressions (called REs, or regexes, or regex patterns) are essentially a tiny, highly specialized programming language embedded inside Python and made available through the re module. Using this little language, you specify the rules for the set of possible strings that you want to match; this set might contain English sentences, or e-mail addresses, or TeX commands, or anything you like. You can then ask questions such as “Does this string match the pattern?”, or “Is there a match for the pattern anywhere in this string?”. You can also use REs to modify a string or to split it apart in various ways.\n",
    "\n",
    "Regular expression patterns are compiled into a series of bytecodes which are then executed by a matching engine written in C. For advanced use, it may be necessary to pay careful attention to how the engine will execute a given RE, and write the RE in a certain way in order to produce bytecode that runs faster. Optimization isn’t covered in this document, because it requires that you have a good understanding of the matching engine’s internals."
   ]
  },
  {
   "cell_type": "code",
   "execution_count": 1,
   "metadata": {},
   "outputs": [
    {
     "data": {
      "text/html": [],
      "text/plain": [
       "<IPython.core.display.HTML object>"
      ]
     },
     "metadata": {},
     "output_type": "display_data"
    }
   ],
   "source": [
    "# Function to display regex matches\n",
    "import regex as re\n",
    "import IPython.core.display as ipd\n",
    "import ipywidgets as ipw\n",
    "\n",
    "@ipw.interact(regex=ipw.Text(), string=ipw.Textarea())\n",
    "def findall(dotall=False, multiline=False, ignorecase=False, only_first=False, regex=\"\", string=\"\"):\n",
    "    if not (regex and string):\n",
    "        ipd.display(ipd.HTML(\"\"))\n",
    "        return None\n",
    "    flags = 0\n",
    "    if dotall:\n",
    "        flags |= re.DOTALL\n",
    "    if multiline:\n",
    "        flags |= re.MULTILINE\n",
    "    if ignorecase:\n",
    "        flags |= re.IGNORECASE\n",
    "    start = '<span style=\"background-color: gold\">'\n",
    "    end = \"</span>\"\n",
    "    offset_bump = len(start) + len(end)\n",
    "    offset = 0\n",
    "    html = string\n",
    "    matches = []\n",
    "    for m in re.finditer(regex, string, flags):\n",
    "        matches.append(m.captures()[0])\n",
    "        span = m.span()\n",
    "        sstart, send = span[0] + offset, span[1] + offset\n",
    "        html = html[:sstart] + start + html[sstart:send] + end + html[send:]\n",
    "        offset += offset_bump\n",
    "        if only_first:\n",
    "            break\n",
    "    ipd.display(ipd.HTML(\"<p>regex: <strong>\" + regex + \"</strong></p>\" + \"<pre>\" + html + \"</pre\"))\n",
    "    return matches"
   ]
  },
  {
   "cell_type": "code",
   "execution_count": 2,
   "metadata": {},
   "outputs": [],
   "source": [
    "text = \"\"\"\n",
    "Regular expressions (called REs, or regexes, or regex patterns) are essentially a tiny, highly specialized programming language embedded inside Python and made available through the re module. Using this little language, you specify the rules for the set of possible strings that you want to match; this set might contain English sentences, or e-mail addresses, or TeX commands, or anything you like. You can then ask questions such as “Does this string match the pattern?”, or “Is there a match for the pattern anywhere in this string?”. You can also use REs to modify a string or to split it apart in various ways.\n",
    "\n",
    "Regular expression patterns are compiled into a series of bytecodes which are then executed by a matching engine written in C. For advanced use, it may be necessary to pay careful attention to how the engine will execute a given RE, and write the RE in a certain way in order to produce bytecode that runs faster. Optimization isn’t covered in this document, because it requires that you have a good understanding of the matching engine’s internals.\n",
    "\"\"\""
   ]
  },
  {
   "cell_type": "markdown",
   "metadata": {},
   "source": [
    "## Matching Characters\n",
    "Characters match themselves. Arranging regex characters in a sequence matches a sequence of characters in the target text."
   ]
  },
  {
   "cell_type": "code",
   "execution_count": 3,
   "metadata": {},
   "outputs": [
    {
     "data": {
      "text/html": [
       "<p>regex: <strong>expression</strong></p><pre>\n",
       "Regular <span style=\"background-color: gold\">expression</span>s (called REs, or regexes, or regex patterns) are essentially a tiny, highly specialized programming language embedded inside Python and made available through the re module. Using this little language, you specify the rules for the set of possible strings that you want to match; this set might contain English sentences, or e-mail addresses, or TeX commands, or anything you like. You can then ask questions such as “Does this string match the pattern?”, or “Is there a match for the pattern anywhere in this string?”. You can also use REs to modify a string or to split it apart in various ways.\n",
       "\n",
       "Regular <span style=\"background-color: gold\">expression</span> patterns are compiled into a series of bytecodes which are then executed by a matching engine written in C. For advanced use, it may be necessary to pay careful attention to how the engine will execute a given RE, and write the RE in a certain way in order to produce bytecode that runs faster. Optimization isn’t covered in this document, because it requires that you have a good understanding of the matching engine’s internals.\n",
       "</pre"
      ],
      "text/plain": [
       "<IPython.core.display.HTML object>"
      ]
     },
     "metadata": {},
     "output_type": "display_data"
    },
    {
     "data": {
      "text/plain": [
       "['expression', 'expression']"
      ]
     },
     "execution_count": 3,
     "metadata": {},
     "output_type": "execute_result"
    }
   ],
   "source": [
    "findall(regex=\"expression\", string=text)"
   ]
  },
  {
   "cell_type": "markdown",
   "metadata": {},
   "source": [
    "## Metacharacters\n",
    "Some characters have special meanings in the context of a regex: \n",
    "```\n",
    ". ^ $ * + ? { } [ ] \\ | ( )\n",
    "```\n",
    "These metacharacters provide patterns with wildcards, optionality, repetition, character classes, disjunction, groups, and anchors"
   ]
  },
  {
   "cell_type": "markdown",
   "metadata": {},
   "source": [
    "## Character classes"
   ]
  },
  {
   "cell_type": "code",
   "execution_count": null,
   "metadata": {},
   "outputs": [],
   "source": [
    "findall(regex=\"[Rr]eg\", string=text)"
   ]
  },
  {
   "cell_type": "markdown",
   "metadata": {},
   "source": [
    "## Wildcards"
   ]
  },
  {
   "cell_type": "code",
   "execution_count": 8,
   "metadata": {},
   "outputs": [
    {
     "data": {
      "text/html": [
       "<p>regex: <strong>RE.</strong></p><pre>\n",
       "Regular expressions (called <span style=\"background-color: gold\">REs</span>, or regexes, or regex patterns) are essentially a tiny, highly specialized programming language embedded inside Python and made available through the re module. Using this little language, you specify the rules for the set of possible strings that you want to match; this set might contain English sentences, or e-mail addresses, or TeX commands, or anything you like. You can then ask questions such as “Does this string match the pattern?”, or “Is there a match for the pattern anywhere in this string?”. You can also use <span style=\"background-color: gold\">REs</span> to modify a string or to split it apart in various ways.\n",
       "\n",
       "Regular expression patterns are compiled into a series of bytecodes which are then executed by a matching engine written in C. For advanced use, it may be necessary to pay careful attention to how the engine will execute a given <span style=\"background-color: gold\">RE,</span> and write the <span style=\"background-color: gold\">RE </span>in a certain way in order to produce bytecode that runs faster. Optimization isn’t covered in this document, because it requires that you have a good understanding of the matching engine’s internals.\n",
       "</pre"
      ],
      "text/plain": [
       "<IPython.core.display.HTML object>"
      ]
     },
     "metadata": {},
     "output_type": "display_data"
    },
    {
     "data": {
      "text/plain": [
       "['REs', 'REs', 'RE,', 'RE ']"
      ]
     },
     "execution_count": 8,
     "metadata": {},
     "output_type": "execute_result"
    }
   ],
   "source": [
    "findall(regex=\"RE.\", string=text)"
   ]
  },
  {
   "cell_type": "markdown",
   "metadata": {},
   "source": [
    "## Optionality"
   ]
  },
  {
   "cell_type": "code",
   "execution_count": 9,
   "metadata": {},
   "outputs": [
    {
     "data": {
      "text/html": [
       "<p>regex: <strong>patterns?</strong></p><pre>\n",
       "Regular expressions (called REs, or regexes, or regex <span style=\"background-color: gold\">patterns</span>) are essentially a tiny, highly specialized programming language embedded inside Python and made available through the re module. Using this little language, you specify the rules for the set of possible strings that you want to match; this set might contain English sentences, or e-mail addresses, or TeX commands, or anything you like. You can then ask questions such as “Does this string match the <span style=\"background-color: gold\">pattern</span>?”, or “Is there a match for the <span style=\"background-color: gold\">pattern</span> anywhere in this string?”. You can also use REs to modify a string or to split it apart in various ways.\n",
       "\n",
       "Regular expression <span style=\"background-color: gold\">patterns</span> are compiled into a series of bytecodes which are then executed by a matching engine written in C. For advanced use, it may be necessary to pay careful attention to how the engine will execute a given RE, and write the RE in a certain way in order to produce bytecode that runs faster. Optimization isn’t covered in this document, because it requires that you have a good understanding of the matching engine’s internals.\n",
       "</pre"
      ],
      "text/plain": [
       "<IPython.core.display.HTML object>"
      ]
     },
     "metadata": {},
     "output_type": "display_data"
    },
    {
     "data": {
      "text/plain": [
       "['patterns', 'pattern', 'pattern', 'patterns']"
      ]
     },
     "execution_count": 9,
     "metadata": {},
     "output_type": "execute_result"
    }
   ],
   "source": [
    "findall(regex=\"patterns?\", string=text)"
   ]
  },
  {
   "cell_type": "markdown",
   "metadata": {},
   "source": [
    "## Repetition"
   ]
  },
  {
   "cell_type": "code",
   "execution_count": 27,
   "metadata": {},
   "outputs": [
    {
     "data": {
      "text/html": [
       "<p>regex: <strong>pattern[a-z?]*</strong></p><pre>\n",
       "Regular expressions (called REs, or regexes, or regex <span style=\"background-color: gold\">patterns</span>) are essentially a tiny, highly specialized programming language embedded inside Python and made available through the re module. Using this little language, you specify the rules for the set of possible strings that you want to match; this set might contain English sentences, or e-mail addresses, or TeX commands, or anything you like. You can then ask questions such as “Does this string match the <span style=\"background-color: gold\">pattern?</span>”, or “Is there a match for the <span style=\"background-color: gold\">pattern</span> anywhere in this string?”. You can also use REs to modify a string or to split it apart in various ways.\n",
       "\n",
       "Regular expression <span style=\"background-color: gold\">patterns</span> are compiled into a series of bytecodes which are then executed by a matching engine written in C. For advanced use, it may be necessary to pay careful attention to how the engine will execute a given RE, and write the RE in a certain way in order to produce bytecode that runs faster. Optimization isn’t covered in this document, because it requires that you have a good understanding of the matching engine’s internals.\n",
       "</pre"
      ],
      "text/plain": [
       "<IPython.core.display.HTML object>"
      ]
     },
     "metadata": {},
     "output_type": "display_data"
    },
    {
     "data": {
      "text/plain": [
       "['patterns', 'pattern?', 'pattern', 'patterns']"
      ]
     },
     "execution_count": 27,
     "metadata": {},
     "output_type": "execute_result"
    }
   ],
   "source": [
    "re1=\"pattern.{0,2}\"\n",
    "re2=\"pattern[a-z?]*\"\n",
    "re3=\"pattern[a-z?]+\"\n",
    "findall(regex=re2, string=text)"
   ]
  },
  {
   "cell_type": "markdown",
   "metadata": {},
   "source": [
    "## Escapes"
   ]
  },
  {
   "cell_type": "code",
   "execution_count": 33,
   "metadata": {},
   "outputs": [
    {
     "data": {
      "text/html": [
       "<p>regex: <strong>\\.</strong></p><pre>\n",
       "Regular expressions (called REs, or regexes, or regex patterns) are essentially a tiny, highly specialized programming language embedded inside Python and made available through the re module<span style=\"background-color: gold\">.</span> Using this little language, you specify the rules for the set of possible strings that you want to match; this set might contain English sentences, or e-mail addresses, or TeX commands, or anything you like<span style=\"background-color: gold\">.</span> You can then ask questions such as “Does this string match the pattern?”, or “Is there a match for the pattern anywhere in this string?”<span style=\"background-color: gold\">.</span> You can also use REs to modify a string or to split it apart in various ways<span style=\"background-color: gold\">.</span>\n",
       "\n",
       "Regular expression patterns are compiled into a series of bytecodes which are then executed by a matching engine written in C<span style=\"background-color: gold\">.</span> For advanced use, it may be necessary to pay careful attention to how the engine will execute a given RE, and write the RE in a certain way in order to produce bytecode that runs faster<span style=\"background-color: gold\">.</span> Optimization isn’t covered in this document, because it requires that you have a good understanding of the matching engine’s internals<span style=\"background-color: gold\">.</span>\n",
       "</pre"
      ],
      "text/plain": [
       "<IPython.core.display.HTML object>"
      ]
     },
     "metadata": {},
     "output_type": "display_data"
    },
    {
     "data": {
      "text/plain": [
       "['.', '.', '.', '.', '.', '.', '.']"
      ]
     },
     "execution_count": 33,
     "metadata": {},
     "output_type": "execute_result"
    }
   ],
   "source": [
    "findall(regex=\"\\.\", string=text)"
   ]
  },
  {
   "cell_type": "markdown",
   "metadata": {},
   "source": [
    "## Anchors"
   ]
  },
  {
   "cell_type": "code",
   "execution_count": 38,
   "metadata": {},
   "outputs": [
    {
     "data": {
      "text/html": [
       "<p>regex: <strong>^R</strong></p><pre>\n",
       "<span style=\"background-color: gold\">R</span>egular expressions (called REs, or regexes, or regex patterns) are essentially a tiny, highly specialized programming language embedded inside Python and made available through the re module. Using this little language, you specify the rules for the set of possible strings that you want to match; this set might contain English sentences, or e-mail addresses, or TeX commands, or anything you like. You can then ask questions such as “Does this string match the pattern?”, or “Is there a match for the pattern anywhere in this string?”. You can also use REs to modify a string or to split it apart in various ways.\n",
       "\n",
       "<span style=\"background-color: gold\">R</span>egular expression patterns are compiled into a series of bytecodes which are then executed by a matching engine written in C. For advanced use, it may be necessary to pay careful attention to how the engine will execute a given RE, and write the RE in a certain way in order to produce bytecode that runs faster. Optimization isn’t covered in this document, because it requires that you have a good understanding of the matching engine’s internals.\n",
       "</pre"
      ],
      "text/plain": [
       "<IPython.core.display.HTML object>"
      ]
     },
     "metadata": {},
     "output_type": "display_data"
    },
    {
     "data": {
      "text/plain": [
       "['R', 'R']"
      ]
     },
     "execution_count": 38,
     "metadata": {},
     "output_type": "execute_result"
    }
   ],
   "source": [
    "findall(regex=\"^R\", string=text, multiline=True)"
   ]
  },
  {
   "cell_type": "markdown",
   "metadata": {},
   "source": [
    "## Groups"
   ]
  },
  {
   "cell_type": "code",
   "execution_count": 42,
   "metadata": {},
   "outputs": [
    {
     "data": {
      "text/html": [
       "<p>regex: <strong>(th)?is</strong></p><pre>\n",
       "Regular expressions (called REs, or regexes, or regex patterns) are essentially a tiny, highly specialized programming language embedded inside Python and made available through the re module. Using <span style=\"background-color: gold\">this</span> little language, you specify the rules for the set of possible strings that you want to match; <span style=\"background-color: gold\">this</span> set might contain Engl<span style=\"background-color: gold\">is</span>h sentences, or e-mail addresses, or TeX commands, or anything you like. You can then ask questions such as “Does <span style=\"background-color: gold\">this</span> string match the pattern?”, or “Is there a match for the pattern anywhere in <span style=\"background-color: gold\">this</span> string?”. You can also use REs to modify a string or to split it apart in various ways.\n",
       "\n",
       "Regular expression patterns are compiled into a series of bytecodes which are then executed by a matching engine written in C. For advanced use, it may be necessary to pay careful attention to how the engine will execute a given RE, and write the RE in a certain way in order to produce bytecode that runs faster. Optimization <span style=\"background-color: gold\">is</span>n’t covered in <span style=\"background-color: gold\">this</span> document, because it requires that you have a good understanding of the matching engine’s internals.\n",
       "</pre"
      ],
      "text/plain": [
       "<IPython.core.display.HTML object>"
      ]
     },
     "metadata": {},
     "output_type": "display_data"
    },
    {
     "data": {
      "text/plain": [
       "['this', 'this', 'is', 'this', 'this', 'is', 'this']"
      ]
     },
     "execution_count": 42,
     "metadata": {},
     "output_type": "execute_result"
    }
   ],
   "source": [
    "findall(regex=\"(th)?is\", string=text)"
   ]
  },
  {
   "cell_type": "markdown",
   "metadata": {},
   "source": [
    "## Disjunction"
   ]
  },
  {
   "cell_type": "code",
   "execution_count": 45,
   "metadata": {},
   "outputs": [
    {
     "data": {
      "text/html": [
       "<p>regex: <strong>(th)|(Engl)is</strong></p><pre>\n",
       "Regular expressions (called REs, or regexes, or regex patterns) are essentially a tiny, highly specialized programming language embedded inside Py<span style=\"background-color: gold\">th</span>on and made available <span style=\"background-color: gold\">th</span>rough <span style=\"background-color: gold\">th</span>e re module. Using <span style=\"background-color: gold\">th</span>is little language, you specify <span style=\"background-color: gold\">th</span>e rules for <span style=\"background-color: gold\">th</span>e set of possible strings <span style=\"background-color: gold\">th</span>at you want to match; <span style=\"background-color: gold\">th</span>is set might contain <span style=\"background-color: gold\">Englis</span>h sentences, or e-mail addresses, or TeX commands, or any<span style=\"background-color: gold\">th</span>ing you like. You can <span style=\"background-color: gold\">th</span>en ask questions such as “Does <span style=\"background-color: gold\">th</span>is string match <span style=\"background-color: gold\">th</span>e pattern?”, or “Is <span style=\"background-color: gold\">th</span>ere a match for <span style=\"background-color: gold\">th</span>e pattern anywhere in <span style=\"background-color: gold\">th</span>is string?”. You can also use REs to modify a string or to split it apart in various ways.\n",
       "\n",
       "Regular expression patterns are compiled into a series of bytecodes which are <span style=\"background-color: gold\">th</span>en executed by a matching engine written in C. For advanced use, it may be necessary to pay careful attention to how <span style=\"background-color: gold\">th</span>e engine will execute a given RE, and write <span style=\"background-color: gold\">th</span>e RE in a certain way in order to produce bytecode <span style=\"background-color: gold\">th</span>at runs faster. Optimization isn’t covered in <span style=\"background-color: gold\">th</span>is document, because it requires <span style=\"background-color: gold\">th</span>at you have a good understanding of <span style=\"background-color: gold\">th</span>e matching engine’s internals.\n",
       "</pre"
      ],
      "text/plain": [
       "<IPython.core.display.HTML object>"
      ]
     },
     "metadata": {},
     "output_type": "display_data"
    },
    {
     "data": {
      "text/plain": [
       "['th',\n",
       " 'th',\n",
       " 'th',\n",
       " 'th',\n",
       " 'th',\n",
       " 'th',\n",
       " 'th',\n",
       " 'th',\n",
       " 'Englis',\n",
       " 'th',\n",
       " 'th',\n",
       " 'th',\n",
       " 'th',\n",
       " 'th',\n",
       " 'th',\n",
       " 'th',\n",
       " 'th',\n",
       " 'th',\n",
       " 'th',\n",
       " 'th',\n",
       " 'th',\n",
       " 'th',\n",
       " 'th']"
      ]
     },
     "execution_count": 45,
     "metadata": {},
     "output_type": "execute_result"
    }
   ],
   "source": [
    "findall(regex=\"(th)|(Engl)is\", string=text)"
   ]
  },
  {
   "cell_type": "code",
   "execution_count": null,
   "metadata": {},
   "outputs": [],
   "source": []
  }
 ],
 "metadata": {
  "kernelspec": {
   "display_name": "Python 3",
   "language": "python",
   "name": "python3"
  },
  "language_info": {
   "codemirror_mode": {
    "name": "ipython",
    "version": 3
   },
   "file_extension": ".py",
   "mimetype": "text/x-python",
   "name": "python",
   "nbconvert_exporter": "python",
   "pygments_lexer": "ipython3",
   "version": "3.6.10"
  }
 },
 "nbformat": 4,
 "nbformat_minor": 2
}
