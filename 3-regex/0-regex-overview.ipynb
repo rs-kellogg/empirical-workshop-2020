{
 "cells": [
  {
   "cell_type": "markdown",
   "metadata": {},
   "source": [
    "# RegEx Overview"
   ]
  },
  {
   "cell_type": "code",
   "execution_count": 1,
   "metadata": {},
   "outputs": [
    {
     "data": {
      "text/html": [],
      "text/plain": [
       "<IPython.core.display.HTML object>"
      ]
     },
     "metadata": {},
     "output_type": "display_data"
    }
   ],
   "source": [
    "import regex as re\n",
    "import IPython.core.display as ipd\n",
    "import ipywidgets as ipw\n",
    "\n",
    "@ipw.interact(regex=ipw.Text(), string=ipw.Textarea())\n",
    "def findall(dotall=False, multiline=False, ignorecase=False, only_first=False, regex=\"\", string=\"\"):\n",
    "    if not (regex and string):\n",
    "        ipd.display(ipd.HTML(\"\"))\n",
    "        return None\n",
    "    flags = 0\n",
    "    if dotall:\n",
    "        flags |= re.DOTALL\n",
    "    if multiline:\n",
    "        flags |= re.MULTILINE\n",
    "    if ignorecase:\n",
    "        flags |= re.IGNORECASE\n",
    "    start = '<span style=\"background-color: gold\">'\n",
    "    end = \"</span>\"\n",
    "    offset_bump = len(start) + len(end)\n",
    "    offset = 0\n",
    "    html = string\n",
    "    matches = []\n",
    "    for m in re.finditer(regex, string, flags):\n",
    "        matches.append(m.captures()[0])\n",
    "        span = m.span()\n",
    "        sstart, send = span[0] + offset, span[1] + offset\n",
    "        html = html[:sstart] + start + html[sstart:send] + end + html[send:]\n",
    "        offset += offset_bump\n",
    "        if only_first:\n",
    "            break\n",
    "    ipd.display(ipd.HTML(\"<p>regex: <strong>\" + regex + \"</strong></p>\" + \"<pre>\" + html + \"</pre\"))\n",
    "    return matches"
   ]
  },
  {
   "cell_type": "code",
   "execution_count": 8,
   "metadata": {},
   "outputs": [
    {
     "data": {
      "text/html": [
       "<p>regex: <strong>thi.</strong></p><pre><span style=\"background-color: gold\">this</span> is a test <span style=\"background-color: gold\">this</span>s</pre"
      ],
      "text/plain": [
       "<IPython.core.display.HTML object>"
      ]
     },
     "metadata": {},
     "output_type": "display_data"
    },
    {
     "data": {
      "text/plain": [
       "['this', 'this']"
      ]
     },
     "execution_count": 8,
     "metadata": {},
     "output_type": "execute_result"
    }
   ],
   "source": [
    "findall(regex=\"thi.\", string=\"this is a test thiss\")"
   ]
  },
  {
   "cell_type": "markdown",
   "metadata": {},
   "source": [
    "Useful command for investigating a bunch of files on disk, e.g. the SEC Form 4 filings\n",
    "```\n",
    "jupyter-schorndorfer@ip-10-0-3-22:~$ egrep\n",
    "Usage: grep [OPTION]... PATTERN [FILE]...\n",
    "Try 'grep --help' for more information.\n",
    "```"
   ]
  },
  {
   "cell_type": "markdown",
   "metadata": {},
   "source": [
    "# https://docs.python.org/3/howto/regex.html\n",
    "Regular expressions (called REs, or regexes, or regex patterns) are essentially a tiny, highly specialized programming language embedded inside Python and made available through the re module. Using this little language, you specify the rules for the set of possible strings that you want to match; this set might contain English sentences, or e-mail addresses, or TeX commands, or anything you like. You can then ask questions such as “Does this string match the pattern?”, or “Is there a match for the pattern anywhere in this string?”. You can also use REs to modify a string or to split it apart in various ways."
   ]
  },
  {
   "cell_type": "markdown",
   "metadata": {},
   "source": [
    "The regular expression language is relatively small and restricted, so not all possible string processing tasks can be done using regular expressions. There are also tasks that can be done with regular expressions, but the expressions turn out to be very complicated. In these cases, you may be better off writing Python code to do the processing; while Python code will be slower than an elaborate regular expression, it will also probably be more understandable."
   ]
  },
  {
   "cell_type": "code",
   "execution_count": 9,
   "metadata": {},
   "outputs": [],
   "source": [
    "# modules used in the lab\n",
    "import numpy as np"
   ]
  },
  {
   "cell_type": "markdown",
   "metadata": {},
   "source": [
    "## Matching Characters"
   ]
  },
  {
   "cell_type": "markdown",
   "metadata": {},
   "source": [
    "## Metacharacters\n",
    "Here they are: \n",
    "```\n",
    ". ^ $ * + ? { } [ ] \\ | ( )\n",
    "```"
   ]
  },
  {
   "cell_type": "markdown",
   "metadata": {},
   "source": []
  }
 ],
 "metadata": {
  "kernelspec": {
   "display_name": "Python 3",
   "language": "python",
   "name": "python3"
  },
  "language_info": {
   "codemirror_mode": {
    "name": "ipython",
    "version": 3
   },
   "file_extension": ".py",
   "mimetype": "text/x-python",
   "name": "python",
   "nbconvert_exporter": "python",
   "pygments_lexer": "ipython3",
   "version": "3.6.10"
  }
 },
 "nbformat": 4,
 "nbformat_minor": 2
}
